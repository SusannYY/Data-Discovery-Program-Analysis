{
  "cells": [
    {
      "cell_type": "markdown",
      "metadata": {
        "formattedRanges": [],
        "cell_id": "98ea8c2d3e2d477b9a4c6f7c868f0122",
        "deepnote_cell_type": "text-cell-p",
        "id": "ssCN0U7PMTjy"
      },
      "source": [
        "# Data Science Discovery Program Matching System\n",
        "## This is the notebook version"
      ]
    },
    {
      "cell_type": "code",
      "metadata": {
        "source_hash": "c76c7c51",
        "execution_start": 1726856018351,
        "execution_millis": 1,
        "execution_context_id": "c078ca54-8cfa-4172-9d38-bf0242bd3596",
        "deepnote_to_be_reexecuted": false,
        "cell_id": "1a8ca672a0044067827fb3a1b2e5f2e6",
        "deepnote_cell_type": "code",
        "id": "QTvKSD15MTj0"
      },
      "source": [
        "import pandas as pd\n",
        "import numpy as np"
      ],
      "execution_count": null,
      "outputs": []
    },
    {
      "cell_type": "code",
      "metadata": {
        "source_hash": "e6212905",
        "execution_start": 1726856018408,
        "execution_millis": 423,
        "execution_context_id": "c078ca54-8cfa-4172-9d38-bf0242bd3596",
        "deepnote_to_be_reexecuted": false,
        "cell_id": "86c0d813d82144c2b30e7e4111bafe52",
        "deepnote_cell_type": "code",
        "id": "H2s4PQkfMTj3"
      },
      "source": [
        "partnerInfo = pd.read_csv(\"/work/Fall 2023 Discovery Project Partner Application (Responses) - [EDIT] Copy of Sheet1.csv\")"
      ],
      "execution_count": null,
      "outputs": []
    },
    {
      "cell_type": "code",
      "metadata": {
        "source_hash": "a4729559",
        "execution_start": 1726856018883,
        "execution_millis": 153,
        "deepnote_table_state": {
          "sortBy": [],
          "filters": [],
          "pageSize": 10,
          "pageIndex": 2
        },
        "execution_context_id": "c078ca54-8cfa-4172-9d38-bf0242bd3596",
        "deepnote_table_loading": false,
        "deepnote_to_be_reexecuted": false,
        "cell_id": "b4cc4e9409e0467bb89309e3008897c8",
        "deepnote_cell_type": "code",
        "id": "l2mSUNUpMTj3",
        "outputId": "d079d7c5-65bb-466a-aac1-63f8d081fa3e"
      },
      "source": [
        "partnerInfo"
      ],
      "execution_count": null,
      "outputs": [
        {
          "output_type": "execute_result",
          "execution_count": 3,
          "data": {
            "application/vnd.deepnote.dataframe.v3+json": {
              "column_count": 39,
              "row_count": 131,
              "columns": [
                {
                  "name": "Accept?",
                  "dtype": "object",
                  "stats": {
                    "unique_count": 2,
                    "nan_count": 5,
                    "categories": [
                      {
                        "name": "Yes",
                        "count": 114
                      },
                      {
                        "name": "Yes ",
                        "count": 12
                      },
                      {
                        "name": "Missing",
                        "count": 5
                      }
                    ]
                  }
                },
                {
                  "name": "Application Link",
                  "dtype": "object",
                  "stats": {
                    "unique_count": 122,
                    "nan_count": 2,
                    "categories": [
                      {
                        "name": "Withdrew",
                        "count": 7
                      },
                      {
                        "name": "121 others",
                        "count": 122
                      },
                      {
                        "name": "Missing",
                        "count": 2
                      }
                    ]
                  }
                },
                {
                  "name": "Spreadsheet Link",
                  "dtype": "object",
                  "stats": {
                    "unique_count": 125,
                    "nan_count": 0,
                    "categories": [
                      {
                        "name": "Withdrew",
                        "count": 6
                      },
                      {
                        "name": "Returning Partner",
                        "count": 2
                      },
                      {
                        "name": "123 others",
                        "count": 123
                      }
                    ]
                  }
                },
                {
                  "name": "Timestamp",
                  "dtype": "object",
                  "stats": {
                    "unique_count": 128,
                    "nan_count": 3,
                    "categories": [
                      {
                        "name": "3/8/2023 5:06:20",
                        "count": 1
                      },
                      {
                        "name": "127 others",
                        "count": 127
                      },
                      {
                        "name": "Missing",
                        "count": 3
                      }
                    ]
                  }
                },
                {
                  "name": "Email Address",
                  "dtype": "object",
                  "stats": {
                    "unique_count": 121,
                    "nan_count": 0,
                    "categories": [
                      {
                        "name": "avarghese@coursera.org",
                        "count": 3
                      },
                      {
                        "name": "nick@gauge.io",
                        "count": 2
                      },
                      {
                        "name": "119 others",
                        "count": 126
                      }
                    ]
                  }
                },
                {
                  "name": "Name",
                  "dtype": "object",
                  "stats": {
                    "unique_count": 118,
                    "nan_count": 0,
                    "categories": [
                      {
                        "name": "Arun Varghese",
                        "count": 3
                      },
                      {
                        "name": "Ryan Lingo",
                        "count": 2
                      },
                      {
                        "name": "116 others",
                        "count": 126
                      }
                    ]
                  }
                },
                {
                  "name": "Email",
                  "dtype": "object",
                  "stats": {
                    "unique_count": 120,
                    "nan_count": 0,
                    "categories": [
                      {
                        "name": "avarghese@coursera.org",
                        "count": 3
                      },
                      {
                        "name": "nick@gauge.io",
                        "count": 2
                      },
                      {
                        "name": "118 others",
                        "count": 126
                      }
                    ]
                  }
                },
                {
                  "name": "Please include the names and Gmail-linked emails of any other collaborators",
                  "dtype": "object",
                  "stats": {
                    "unique_count": 102,
                    "nan_count": 20,
                    "categories": [
                      {
                        "name": "none",
                        "count": 3
                      },
                      {
                        "name": "101 others",
                        "count": 108
                      },
                      {
                        "name": "Missing",
                        "count": 20
                      }
                    ]
                  }
                },
                {
                  "name": "Organization Name",
                  "dtype": "object",
                  "stats": {
                    "unique_count": 114,
                    "nan_count": 0,
                    "categories": [
                      {
                        "name": "Lawrence Berkeley National Laboratory",
                        "count": 5
                      },
                      {
                        "name": "Coursera",
                        "count": 5
                      },
                      {
                        "name": "112 others",
                        "count": 121
                      }
                    ]
                  }
                },
                {
                  "name": "Tell us about your organization:",
                  "dtype": "object",
                  "stats": {
                    "unique_count": 123,
                    "nan_count": 2,
                    "categories": [
                      {
                        "name": "University",
                        "count": 3
                      },
                      {
                        "name": "122 others",
                        "count": 126
                      },
                      {
                        "name": "Missing",
                        "count": 2
                      }
                    ]
                  }
                },
                {
                  "name": "Organization Website",
                  "dtype": "object",
                  "stats": {
                    "unique_count": 104,
                    "nan_count": 16,
                    "categories": [
                      {
                        "name": "coursera.org",
                        "count": 3
                      },
                      {
                        "name": "103 others",
                        "count": 112
                      },
                      {
                        "name": "Missing",
                        "count": 16
                      }
                    ]
                  }
                },
                {
                  "name": "How did you hear about the Discovery Program? ",
                  "dtype": "object",
                  "stats": {
                    "unique_count": 9,
                    "nan_count": 3,
                    "categories": [
                      {
                        "name": "Discovery Team Coordinator",
                        "count": 51
                      },
                      {
                        "name": "8 others",
                        "count": 77
                      },
                      {
                        "name": "Missing",
                        "count": 3
                      }
                    ]
                  }
                },
                {
                  "name": "Project Title:",
                  "dtype": "object",
                  "stats": {
                    "unique_count": 131,
                    "nan_count": 0,
                    "categories": [
                      {
                        "name": "Mobility Analytics",
                        "count": 1
                      },
                      {
                        "name": "Transparency in Segmentation Algorithms",
                        "count": 1
                      },
                      {
                        "name": "129 others",
                        "count": 129
                      }
                    ]
                  }
                },
                {
                  "name": "Project Sector",
                  "dtype": "object",
                  "stats": {
                    "unique_count": 9,
                    "nan_count": 3,
                    "categories": [
                      {
                        "name": "Academia/Research",
                        "count": 64
                      },
                      {
                        "name": "8 others",
                        "count": 64
                      },
                      {
                        "name": "Missing",
                        "count": 3
                      }
                    ]
                  }
                },
                {
                  "name": "Project Description",
                  "dtype": "object",
                  "stats": {
                    "unique_count": 129,
                    "nan_count": 2,
                    "categories": [
                      {
                        "name": "This Mobility Analytics Project provides students with a unique opportunity to apply their skills in data analytics and machine learning to a real-world problem in the field of mobility. It also encourages interdisciplinary collaboration and critical thinking, as students work together to develop innovative solutions to complex challenges in the transportation industry.",
                        "count": 1
                      },
                      {
                        "name": "128 others",
                        "count": 128
                      },
                      {
                        "name": "Missing",
                        "count": 2
                      }
                    ]
                  }
                },
                {
                  "name": "Project Timeline",
                  "dtype": "object",
                  "stats": {
                    "unique_count": 128,
                    "nan_count": 3,
                    "categories": [
                      {
                        "name": "Phase 1 (Week 1-2):\n* Define project goals and scope\n* Form teams and assign roles and responsibilities\n* Research and collect data sources relevant to the project\nPhase 2 (Week 3-4):\n* Develop and refine research questions and hypotheses\n* Conduct data exploration and preprocessing\n* Identify relevant data features for analysis\nPhase 3 (Week 5-6):\n* Apply data analytics and machine learning techniques to the data\n* Evaluate and refine models\n* Develop and test algorithms for predictive analysis\nPhase 4 (Week 7-8):\n* Analyze results and assess model performance\n* Identify key insights and findings from the data\n* Discuss potential limitations and future directions for the project\nPhase 5 (Week 9-10):\n* Synthesize findings and develop a final report and presentation\n* Reflect on the learning process and team collaboration\n* Present final results and findings to stakeholders and/or the class",
                        "count": 1
                      },
                      {
                        "name": "127 others",
                        "count": 127
                      },
                      {
                        "name": "Missing",
                        "count": 3
                      }
                    ]
                  }
                },
                {
                  "name": "Project Workflow",
                  "dtype": "object",
                  "stats": {
                    "unique_count": 127,
                    "nan_count": 3,
                    "categories": [
                      {
                        "name": "weekly check-ins",
                        "count": 2
                      },
                      {
                        "name": "126 others",
                        "count": 126
                      },
                      {
                        "name": "Missing",
                        "count": 3
                      }
                    ]
                  }
                },
                {
                  "name": "Do you have a dataset readily available?",
                  "dtype": "object",
                  "stats": {
                    "unique_count": 3,
                    "nan_count": 3,
                    "categories": [
                      {
                        "name": "Yes",
                        "count": 90
                      },
                      {
                        "name": "2 others",
                        "count": 38
                      },
                      {
                        "name": "Missing",
                        "count": 3
                      }
                    ]
                  }
                },
                {
                  "name": "If you answered No or Maybe to the question above, please clarify here:",
                  "dtype": "object",
                  "stats": {
                    "unique_count": 47,
                    "nan_count": 84,
                    "categories": [
                      {
                        "name": "We have access to tons of reference acoustic data that would serve as a starting place, but other datasets would likely be obtained as well and students could help find these if interested.",
                        "count": 1
                      },
                      {
                        "name": "46 others",
                        "count": 46
                      },
                      {
                        "name": "Missing",
                        "count": 84
                      }
                    ]
                  }
                },
                {
                  "name": "Project Deliverable",
                  "dtype": "object",
                  "stats": {
                    "unique_count": 125,
                    "nan_count": 3,
                    "categories": [
                      {
                        "name": "By the end of the semester the team will provide commented R/python script files, cleaned datasets, and summary tables in Excel format. ",
                        "count": 2
                      },
                      {
                        "name": "124 others",
                        "count": 126
                      },
                      {
                        "name": "Missing",
                        "count": 3
                      }
                    ]
                  }
                },
                {
                  "name": "Are you extending your project for the Fall 2023 semester?",
                  "dtype": "object",
                  "stats": {
                    "unique_count": 2,
                    "nan_count": 3,
                    "categories": [
                      {
                        "name": "Yes",
                        "count": 82
                      },
                      {
                        "name": "No",
                        "count": 46
                      },
                      {
                        "name": "Missing",
                        "count": 3
                      }
                    ]
                  }
                },
                {
                  "name": "How many student researchers (6-12 hrs/week) do you anticipate needing?",
                  "dtype": "object",
                  "stats": {
                    "unique_count": 6,
                    "nan_count": 3,
                    "categories": [
                      {
                        "name": "3",
                        "count": 49
                      },
                      {
                        "name": "5 others",
                        "count": 79
                      },
                      {
                        "name": "Missing",
                        "count": 3
                      }
                    ]
                  }
                },
                {
                  "name": "Does your team have sufficient computing resources for the project?",
                  "dtype": "object",
                  "stats": {
                    "unique_count": 3,
                    "nan_count": 3,
                    "categories": [
                      {
                        "name": "Yes",
                        "count": 78
                      },
                      {
                        "name": "2 others",
                        "count": 50
                      },
                      {
                        "name": "Missing",
                        "count": 3
                      }
                    ]
                  }
                },
                {
                  "name": "Would your project benefit from free cloud computing credits?",
                  "dtype": "object",
                  "stats": {
                    "unique_count": 3,
                    "nan_count": 3,
                    "categories": [
                      {
                        "name": "Yes",
                        "count": 57
                      },
                      {
                        "name": "2 others",
                        "count": 71
                      },
                      {
                        "name": "Missing",
                        "count": 3
                      }
                    ]
                  }
                },
                {
                  "name": "Applicants will be asked to submit a statement of interest to your project, their resume, and a self assessment of their skillset. If there are any specific questions you would like applicants to respond to, include them below. [Max. 3 questions]",
                  "dtype": "object",
                  "stats": {
                    "unique_count": 108,
                    "nan_count": 18,
                    "categories": [
                      {
                        "name": "none",
                        "count": 5
                      },
                      {
                        "name": "107 others",
                        "count": 108
                      },
                      {
                        "name": "Missing",
                        "count": 18
                      }
                    ]
                  }
                },
                {
                  "name": "Please indicate the level of experience you are looking for from student applicants in each of the following skills: [Python]",
                  "dtype": "object",
                  "stats": {
                    "unique_count": 4,
                    "nan_count": 3,
                    "categories": [
                      {
                        "name": "Intermediate",
                        "count": 64
                      },
                      {
                        "name": "3 others",
                        "count": 64
                      },
                      {
                        "name": "Missing",
                        "count": 3
                      }
                    ]
                  }
                },
                {
                  "name": "Please indicate the level of experience you are looking for from student applicants in each of the following skills: [R]",
                  "dtype": "object",
                  "stats": {
                    "unique_count": 4,
                    "nan_count": 3,
                    "categories": [
                      {
                        "name": "No Experience",
                        "count": 71
                      },
                      {
                        "name": "3 others",
                        "count": 57
                      },
                      {
                        "name": "Missing",
                        "count": 3
                      }
                    ]
                  }
                },
                {
                  "name": "Please indicate the level of experience you are looking for from student applicants in each of the following skills: [SQL]",
                  "dtype": "object",
                  "stats": {
                    "unique_count": 4,
                    "nan_count": 3,
                    "categories": [
                      {
                        "name": "No Experience",
                        "count": 73
                      },
                      {
                        "name": "3 others",
                        "count": 55
                      },
                      {
                        "name": "Missing",
                        "count": 3
                      }
                    ]
                  }
                },
                {
                  "name": "Please indicate the level of experience you are looking for from student applicants in each of the following skills: [Exploratory Data Analysis]",
                  "dtype": "object",
                  "stats": {
                    "unique_count": 4,
                    "nan_count": 3,
                    "categories": [
                      {
                        "name": "Intermediate",
                        "count": 56
                      },
                      {
                        "name": "3 others",
                        "count": 72
                      },
                      {
                        "name": "Missing",
                        "count": 3
                      }
                    ]
                  }
                },
                {
                  "name": "Please indicate the level of experience you are looking for from student applicants in each of the following skills: [Data Visualization]",
                  "dtype": "object",
                  "stats": {
                    "unique_count": 4,
                    "nan_count": 3,
                    "categories": [
                      {
                        "name": "Intermediate",
                        "count": 63
                      },
                      {
                        "name": "3 others",
                        "count": 65
                      },
                      {
                        "name": "Missing",
                        "count": 3
                      }
                    ]
                  }
                },
                {
                  "name": "Please indicate the level of experience you are looking for from student applicants in each of the following skills: [Geospatial Data Analysis]",
                  "dtype": "object",
                  "stats": {
                    "unique_count": 4,
                    "nan_count": 3,
                    "categories": [
                      {
                        "name": "No Experience",
                        "count": 82
                      },
                      {
                        "name": "3 others",
                        "count": 46
                      },
                      {
                        "name": "Missing",
                        "count": 3
                      }
                    ]
                  }
                },
                {
                  "name": "Please indicate the level of experience you are looking for from student applicants in each of the following skills: [Natural Language Processing]",
                  "dtype": "object",
                  "stats": {
                    "unique_count": 4,
                    "nan_count": 3,
                    "categories": [
                      {
                        "name": "No Experience",
                        "count": 73
                      },
                      {
                        "name": "3 others",
                        "count": 55
                      },
                      {
                        "name": "Missing",
                        "count": 3
                      }
                    ]
                  }
                },
                {
                  "name": "Please indicate the level of experience you are looking for from student applicants in each of the following skills: [Deep Learning]",
                  "dtype": "object",
                  "stats": {
                    "unique_count": 4,
                    "nan_count": 3,
                    "categories": [
                      {
                        "name": "No Experience",
                        "count": 61
                      },
                      {
                        "name": "3 others",
                        "count": 67
                      },
                      {
                        "name": "Missing",
                        "count": 3
                      }
                    ]
                  }
                },
                {
                  "name": "Please indicate the level of experience you are looking for from student applicants in each of the following skills: [Computer Vision]",
                  "dtype": "object",
                  "stats": {
                    "unique_count": 4,
                    "nan_count": 3,
                    "categories": [
                      {
                        "name": "No Experience",
                        "count": 83
                      },
                      {
                        "name": "3 others",
                        "count": 45
                      },
                      {
                        "name": "Missing",
                        "count": 3
                      }
                    ]
                  }
                },
                {
                  "name": "Please indicate the level of experience you are looking for from student applicants in each of the following skills: [Cloud Computing]",
                  "dtype": "object",
                  "stats": {
                    "unique_count": 4,
                    "nan_count": 3,
                    "categories": [
                      {
                        "name": "No Experience",
                        "count": 58
                      },
                      {
                        "name": "3 others",
                        "count": 70
                      },
                      {
                        "name": "Missing",
                        "count": 3
                      }
                    ]
                  }
                },
                {
                  "name": "Additional skills:",
                  "dtype": "object",
                  "stats": {
                    "unique_count": 80,
                    "nan_count": 50,
                    "categories": [
                      {
                        "name": "Language - Python/SQL\nLibraries - Pandas\nCloud Computing - AWS (not necessary, is a plus)",
                        "count": 2
                      },
                      {
                        "name": "79 others",
                        "count": 79
                      },
                      {
                        "name": "Missing",
                        "count": 50
                      }
                    ]
                  }
                },
                {
                  "name": "Projects are more successful when the project partner can meet regularly with the student team - can you commit to meeting with the student team at least once a week?",
                  "dtype": "object",
                  "stats": {
                    "unique_count": 1,
                    "nan_count": 3,
                    "categories": [
                      {
                        "name": "Yes",
                        "count": 128
                      },
                      {
                        "name": "Missing",
                        "count": 3
                      }
                    ]
                  }
                },
                {
                  "name": "The Discovery program will regularly send out two short surveys to assess the progress of projects - can you commit to responding to all surveys?",
                  "dtype": "object",
                  "stats": {
                    "unique_count": 1,
                    "nan_count": 3,
                    "categories": [
                      {
                        "name": "Yes",
                        "count": 128
                      },
                      {
                        "name": "Missing",
                        "count": 3
                      }
                    ]
                  }
                },
                {
                  "name": "Can you commit to ensuring a safe, professional, and inclusive work environment for the students working on the project?",
                  "dtype": "object",
                  "stats": {
                    "unique_count": 1,
                    "nan_count": 3,
                    "categories": [
                      {
                        "name": "Yes",
                        "count": 128
                      },
                      {
                        "name": "Missing",
                        "count": 3
                      }
                    ]
                  }
                },
                {
                  "name": "_deepnote_index_column",
                  "dtype": "int64"
                }
              ],
              "rows": [
                {
                  "Accept?": "Yes ",
                  "Application Link": "Withdrew",
                  "Spreadsheet Link": "Withdrew",
                  "Timestamp": "3/23/2023 20:28:35",
                  "Email Address": "fei_xu@berkeley.edu",
                  "Name": "Fei Xu",
                  "Email": "fei_xu@berkeley.edu",
                  "Please include the names and Gmail-linked emails of any other collaborators": "fei_xu@berkeley.edu",
                  "Organization Name": "Department of Psychology",
                  "Tell us about your organization:": "We conduct research with children and adults. ",
                  "Organization Website": "babylab.berkeley.edu",
                  "How did you hear about the Discovery Program? ": "Discovery Team Coordinator",
                  "Project Title:": "LookIt studies: a platform for developmental psychology research",
                  "Project Sector": "Academia/Research",
                  "Project Description": "We are looking for someone to program our experiments to test infants and children on LookIt (uses Java script), and to help analyze data from both cross-sectional and longitudinal studies. ",
                  "Project Timeline": "The summer session and/or fall semester would be ideal, for a total of 12 weeks. It may take a few weeks to program a study and put it on LookIt for data collection, and analyzing data may take a few weeks as well. ",
                  "Project Workflow": "The student will with the PI and/or a graduate student on this project. We will meet regularly, at least once a week. ",
                  "Do you have a dataset readily available?": "Maybe",
                  "If you answered No or Maybe to the question above, please clarify here:": "We may have some data ready if we have collected enough data from participants, or we may ask the student to help with data collection. ",
                  "Project Deliverable": "Deliverables will be results from our studies. ",
                  "Are you extending your project for the Fall 2023 semester?": "Yes",
                  "How many student researchers (6-12 hrs/week) do you anticipate needing?": "2",
                  "Does your team have sufficient computing resources for the project?": "Maybe",
                  "Would your project benefit from free cloud computing credits?": "Maybe",
                  "Applicants will be asked to submit a statement of interest to your project, their resume, and a self assessment of their skillset. If there are any specific questions you would like applicants to respond to, include them below. [Max. 3 questions]": "N/A/",
                  "Please indicate the level of experience you are looking for from student applicants in each of the following skills: [Python]": "Intermediate",
                  "Please indicate the level of experience you are looking for from student applicants in each of the following skills: [R]": "Intermediate",
                  "Please indicate the level of experience you are looking for from student applicants in each of the following skills: [SQL]": "No Experience",
                  "Please indicate the level of experience you are looking for from student applicants in each of the following skills: [Exploratory Data Analysis]": "No Experience",
                  "Please indicate the level of experience you are looking for from student applicants in each of the following skills: [Data Visualization]": "Intermediate",
                  "Please indicate the level of experience you are looking for from student applicants in each of the following skills: [Geospatial Data Analysis]": "No Experience",
                  "Please indicate the level of experience you are looking for from student applicants in each of the following skills: [Natural Language Processing]": "Beginner",
                  "Please indicate the level of experience you are looking for from student applicants in each of the following skills: [Deep Learning]": "No Experience",
                  "Please indicate the level of experience you are looking for from student applicants in each of the following skills: [Computer Vision]": "No Experience",
                  "Please indicate the level of experience you are looking for from student applicants in each of the following skills: [Cloud Computing]": "No Experience",
                  "Additional skills:": "Java script",
                  "Projects are more successful when the project partner can meet regularly with the student team - can you commit to meeting with the student team at least once a week?": "Yes",
                  "The Discovery program will regularly send out two short surveys to assess the progress of projects - can you commit to responding to all surveys?": "Yes",
                  "Can you commit to ensuring a safe, professional, and inclusive work environment for the students working on the project?": "Yes",
                  "_deepnote_index_column": 20
                },
                {
                  "Accept?": "Yes ",
                  "Application Link": "https://forms.gle/3n4mEaQ6P9cq3rBEA",
                  "Spreadsheet Link": "https://docs.google.com/spreadsheets/d/1jpg4k_Ot_J9W7jnAPuY-jP3nt2VipPJGVzlYdJav1aM/edit?usp=sharing",
                  "Timestamp": "3/24/2023 6:26:06",
                  "Email Address": "w",
                  "Name": "William Boos",
                  "Email": "william.boos@berkeley.edu",
                  "Please include the names and Gmail-linked emails of any other collaborators": "Yi Zhang, y-zhang@berkeley.edu",
                  "Organization Name": "UC Berkeley, Dept of Earth & Planetary Science",
                  "Tell us about your organization:": "research group in Climate Dynamics",
                  "Organization Website": "https://boos.berkeley.edu/",
                  "How did you hear about the Discovery Program? ": "Discovery Team Coordinator",
                  "Project Title:": "Enhancing Severe Heatwave Forecasting Using Theory and Data Science",
                  "Project Sector": "Academia/Research",
                  "Project Description": "Current weather forecast models struggle to predict severe heatwaves due to a misrepresentation of land-surface processes, despite the well-known predictability of mid-latitude weather patterns. This project aims to improve severe heatwave forecasting by utilizing our newly published recent theory that links upper-air temperature to the maximum possible surface temperature (Zhang and Boos, 2023, https://www.pnas.org/doi/10.1073/pnas.2215278120). We will implement the theory using as input the forecast upper-air temperature from the large-ensemble model output by the Global Ensemble Forecast System (GEFS; https://registry.opendata.aws/noaa-gefs/). We will analyze the forecast upper-air temperature, which has been found to be accurately forecast, and link it to the maximum possible surface temperature using our new theory and suitable machine learning techniques. In preliminary examination of case studies, we have obtained encouraging results showing that several heatwaves in North Amer…",
                  "Project Timeline": "Week 1-2: Project setup and familiarization with the research topic, the theory linking upper-air temperature to surface temperature, and the Global Ensemble Forecast System (GEFS) data.\nWeek 3-7: Begin implementing the framework using the GEFS large-ensemble model output. This will involve analyzing the upper-air temperature forecast by the GEFS models and linking it to surface temperature using the theory and machine learning techniques.\nWeek 8-10: Refine the framework and the machine learning techniques for better performance. Determine the optimal combination of vertical levels from GEFS models for different regions.\nWeek 11-12: Develop the web interface that will allow users to visualize the potential severe heatwave forecast. This will involve developing the appropriate visualization tools and incorporating the uncertainty associated with the forecasts.",
                  "Project Workflow": "The 3-5 data science students will work together as a team on all aspects of the project. However, based on their interests and strengths, they may divide the work into sub-teams. For example, one student could focus on developing the machine learning models, another could focus on building the web interface, and the third could work on the data analysis and visualization. We will schedule weekly meetings to discuss progress, issues, and next steps. ",
                  "Do you have a dataset readily available?": "Yes",
                  "If you answered No or Maybe to the question above, please clarify here:": "nan",
                  "Project Deliverable": "We hope to see two deliverables from this project. First, we will develop a new framework that focuses on accurately forecasting the maximum possible surface temperatures, rather than the mean temperatures. By capturing the risk of severe heatwaves, this framework will provide more reliable and actionable information for societies around the world. Second, we will develop a user-friendly web interface that will allow users to visualize the potential severe heatwave forecast from our framework. The interface will provide users with information on the likelihood of forecast maximum surface temperature and the associated uncertainty. ",
                  "Are you extending your project for the Fall 2023 semester?": "No",
                  "How many student researchers (6-12 hrs/week) do you anticipate needing?": "5",
                  "Does your team have sufficient computing resources for the project?": "Yes",
                  "Would your project benefit from free cloud computing credits?": "Yes",
                  "Applicants will be asked to submit a statement of interest to your project, their resume, and a self assessment of their skillset. If there are any specific questions you would like applicants to respond to, include them below. [Max. 3 questions]": "1. What math classes have you taken?\n2. Will you be available for a weekly in-person team meeting during the project?  (Meeting time will be determined based on team member schedules.)\n3. Have you ever worked in a Linux/Unix computing cluster, such as Savio or NERSC?  (Not required, but will be helpful if at least one or two team members have such experience)  ",
                  "Please indicate the level of experience you are looking for from student applicants in each of the following skills: [Python]": "Advanced",
                  "Please indicate the level of experience you are looking for from student applicants in each of the following skills: [R]": "No Experience",
                  "Please indicate the level of experience you are looking for from student applicants in each of the following skills: [SQL]": "No Experience",
                  "Please indicate the level of experience you are looking for from student applicants in each of the following skills: [Exploratory Data Analysis]": "Beginner",
                  "Please indicate the level of experience you are looking for from student applicants in each of the following skills: [Data Visualization]": "Advanced",
                  "Please indicate the level of experience you are looking for from student applicants in each of the following skills: [Geospatial Data Analysis]": "Intermediate",
                  "Please indicate the level of experience you are looking for from student applicants in each of the following skills: [Natural Language Processing]": "No Experience",
                  "Please indicate the level of experience you are looking for from student applicants in each of the following skills: [Deep Learning]": "Beginner",
                  "Please indicate the level of experience you are looking for from student applicants in each of the following skills: [Computer Vision]": "No Experience",
                  "Please indicate the level of experience you are looking for from student applicants in each of the following skills: [Cloud Computing]": "Intermediate",
                  "Additional skills:": "It would be helpful if at least one or two team members have some experience with SciPy, Seaborn or statsmodels, Sklearn, and either xarray or Pandas.  It would also help if most team members have experience working in a Linux high-performance computing environment like Savio or NERSC.",
                  "Projects are more successful when the project partner can meet regularly with the student team - can you commit to meeting with the student team at least once a week?": "Yes",
                  "The Discovery program will regularly send out two short surveys to assess the progress of projects - can you commit to responding to all surveys?": "Yes",
                  "Can you commit to ensuring a safe, professional, and inclusive work environment for the students working on the project?": "Yes",
                  "_deepnote_index_column": 21
                },
                {
                  "Accept?": "Yes ",
                  "Application Link": "https://forms.gle/WAUqZJq87yGHzKos6",
                  "Spreadsheet Link": "https://docs.google.com/spreadsheets/d/1ciqrPNjixSOXX0y-rzIgChFtLbGX69BR9bTv99wlt8Y/edit?usp=sharing",
                  "Timestamp": "3/24/2023 6:32:04",
                  "Email Address": "fultonb@berkeley.edu",
                  "Name": "Brent Fulton",
                  "Email": "fultonb@berkeley.edu",
                  "Please include the names and Gmail-linked emails of any other collaborators": "Daniel Arnold, danielarnold@berkeley.edu ",
                  "Organization Name": "Petris Center, University of California, Berkeley",
                  "Tell us about your organization:": "The Petris Center is a health economics research center that examines how markets and regulation can improve the delivery of healthcare, including its cost, quality and access.",
                  "Organization Website": "https://petris.org/",
                  "How did you hear about the Discovery Program? ": "Discovery Team Coordinator",
                  "Project Title:": "Analyzing Healthcare Prices",
                  "Project Sector": "Academia/Research",
                  "Project Description": "The project involves using database querying skills to pull hospital and insurer price transparency data from the Turquoise Health Price Database.",
                  "Project Timeline": "Phase 1 (Weeks 1-2): Read the literature to understand the price transparency data; Phase 2 (Weeks 3-7): Pull data from the Turquoise Health Price Database into an analytic file, which is a difficult task because the database includes 60+ billion rows; Phase 3: (Weeks 8-12): Analyze the price data using summary statistics and regression analysis",
                  "Project Workflow": "Team will meet weekly",
                  "Do you have a dataset readily available?": "Yes",
                  "If you answered No or Maybe to the question above, please clarify here:": "nan",
                  "Project Deliverable": "Analytic files and summary statistics/correlations from regression analysis",
                  "Are you extending your project for the Fall 2023 semester?": "No",
                  "How many student researchers (6-12 hrs/week) do you anticipate needing?": "3",
                  "Does your team have sufficient computing resources for the project?": "Yes",
                  "Would your project benefit from free cloud computing credits?": "No",
                  "Applicants will be asked to submit a statement of interest to your project, their resume, and a self assessment of their skillset. If there are any specific questions you would like applicants to respond to, include them below. [Max. 3 questions]": "What is your experience and skills using SQL/Trino to pull data from a large database in order to create an analytic file?\n\nWhat is your experience and skills creating summary statistics?\n\nWhat is your experience and skills estimating correlations using regression analysis? ",
                  "Please indicate the level of experience you are looking for from student applicants in each of the following skills: [Python]": "No Experience",
                  "Please indicate the level of experience you are looking for from student applicants in each of the following skills: [R]": "Intermediate",
                  "Please indicate the level of experience you are looking for from student applicants in each of the following skills: [SQL]": "Advanced",
                  "Please indicate the level of experience you are looking for from student applicants in each of the following skills: [Exploratory Data Analysis]": "Intermediate",
                  "Please indicate the level of experience you are looking for from student applicants in each of the following skills: [Data Visualization]": "Intermediate",
                  "Please indicate the level of experience you are looking for from student applicants in each of the following skills: [Geospatial Data Analysis]": "No Experience",
                  "Please indicate the level of experience you are looking for from student applicants in each of the following skills: [Natural Language Processing]": "No Experience",
                  "Please indicate the level of experience you are looking for from student applicants in each of the following skills: [Deep Learning]": "No Experience",
                  "Please indicate the level of experience you are looking for from student applicants in each of the following skills: [Computer Vision]": "No Experience",
                  "Please indicate the level of experience you are looking for from student applicants in each of the following skills: [Cloud Computing]": "No Experience",
                  "Additional skills:": "nan",
                  "Projects are more successful when the project partner can meet regularly with the student team - can you commit to meeting with the student team at least once a week?": "Yes",
                  "The Discovery program will regularly send out two short surveys to assess the progress of projects - can you commit to responding to all surveys?": "Yes",
                  "Can you commit to ensuring a safe, professional, and inclusive work environment for the students working on the project?": "Yes",
                  "_deepnote_index_column": 22
                },
                {
                  "Accept?": "Yes ",
                  "Application Link": "https://forms.gle/kGGMpxM7taJSKBSn9",
                  "Spreadsheet Link": "https://docs.google.com/spreadsheets/d/1YUIdpBjtHABKEeohUG0AoV0dNWWx3C-tqx59laKm4SU/edit?usp=sharing",
                  "Timestamp": "3/24/2023 11:16:34",
                  "Email Address": "cmiddleton@berkeley.edu",
                  "Name": "Chandra L. Middleton",
                  "Email": "cmiddleton@berkeley.edu",
                  "Please include the names and Gmail-linked emails of any other collaborators": "kenpaulalex@berkeley.edu",
                  "Organization Name": "Center for Law, Energy & the Environment (CLEE)",
                  "Tell us about your organization:": "The Center for Law, Energy & the Environment (CLEE) channels the expertise and creativity of the Berkeley Law community into pragmatic policy solutions to environmental and energy challenges. We work with government, business, and the nonprofit sector to help solve urgent problems that require innovative and often interdisciplinary approaches. Drawing on the combined expertise of faculty, staff, and students across UC Berkeley, we strive to translate empirical findings into smart public policy solutions that better our environmental and energy governance systems.",
                  "Organization Website": "https://www.law.berkeley.edu/research/clee/",
                  "How did you hear about the Discovery Program? ": "Other",
                  "Project Title:": "Mapping Cultural Institutions in the US",
                  "Project Sector": "Academia/Research",
                  "Project Description": "The Mapping Cultural Institutions in the US project is a critical component of a larger undertaking to support cultural institutions as they convey to their publics the urgency of climate change and actions that can be taken to mitigate and adapt to it. \n\nThe US is ecologically, culturally, politically, and economically diverse. It seems that there is a museum or a public library in almost every town—large or small—in America. These cultural institutions present an opportunity to connect with their constituents in ways that respect America’s diversities. Hyper-local exhibits can focus on project climate change effects of local neighborhoods and suggest solutions that make sense for local communities. The Center for Law, Energy & the Environment (CLEE) has some funding to help such a project, but will need to secure more funding. A key component of conveying the value of investing in cultural institutions’ climate messaging is the visualization of their ubiquity and geographic diversit…",
                  "Project Timeline": "Phase 1 (Weeks 1-3): Clean the publicly-available datasets\nPhase 2 (Weeks 4-5): Organize the data into a queryable relational database\nPhase 3 (Weeks 6-7): Design and create a prototype\nPhase 4 (Weeks 8-10): Refine a front-end mock-up that allows users to interact with the database.",
                  "Project Workflow": "Guidelines & Communication: \nAll meetings will be held via Zoom or telephone.\n\nTeam Structure:\nThe students will be divided into two teams: one working on public libraries data and the other working on museum data.\n\nSupervision: \nChandra will be the primary and predominant supervisor in touch with the student team, though Ken Alex might also occasionally join meetings or be copied on email.\nChandra and the students will meet weekly as one group (to foster cross-learning between the libraries and museums teams). \nRegular or ad hoc meetings for each team might also be held, depending on workflow needs and communication preferences, to tackle questions that pertain only to their dataset.\nChandra will meet with each team member individually (via Zoom) once at the start of the project, once at the end of the project, and at any time necessary during the project. \n\nRecurring Student Responsibilities:\nPrepare to informally, but concisely, present the status of their individual work at each w…",
                  "Do you have a dataset readily available?": "Yes",
                  "If you answered No or Maybe to the question above, please clarify here:": "nan",
                  "Project Deliverable": "An online, accessible map of the US that can load the location of institutions that fit any combination of traits. For example, retrieve all public libraries, public libraries with X amount of revenue, or all museums in the state of Colorado. This map needs to be able to be embedded into a website I have not yet created.",
                  "Are you extending your project for the Fall 2023 semester?": "No",
                  "How many student researchers (6-12 hrs/week) do you anticipate needing?": "3",
                  "Does your team have sufficient computing resources for the project?": "Yes",
                  "Would your project benefit from free cloud computing credits?": "No",
                  "Applicants will be asked to submit a statement of interest to your project, their resume, and a self assessment of their skillset. If there are any specific questions you would like applicants to respond to, include them below. [Max. 3 questions]": "1. Do you have experience translating data into maps?\n2. Do you have experience creating accessible resources for online audiences?\n3. What do you hope to learn by working on this project?",
                  "Please indicate the level of experience you are looking for from student applicants in each of the following skills: [Python]": "No Experience",
                  "Please indicate the level of experience you are looking for from student applicants in each of the following skills: [R]": "No Experience",
                  "Please indicate the level of experience you are looking for from student applicants in each of the following skills: [SQL]": "Beginner",
                  "Please indicate the level of experience you are looking for from student applicants in each of the following skills: [Exploratory Data Analysis]": "Beginner",
                  "Please indicate the level of experience you are looking for from student applicants in each of the following skills: [Data Visualization]": "Advanced",
                  "Please indicate the level of experience you are looking for from student applicants in each of the following skills: [Geospatial Data Analysis]": "Advanced",
                  "Please indicate the level of experience you are looking for from student applicants in each of the following skills: [Natural Language Processing]": "No Experience",
                  "Please indicate the level of experience you are looking for from student applicants in each of the following skills: [Deep Learning]": "No Experience",
                  "Please indicate the level of experience you are looking for from student applicants in each of the following skills: [Computer Vision]": "No Experience",
                  "Please indicate the level of experience you are looking for from student applicants in each of the following skills: [Cloud Computing]": "No Experience",
                  "Additional skills:": "nan",
                  "Projects are more successful when the project partner can meet regularly with the student team - can you commit to meeting with the student team at least once a week?": "Yes",
                  "The Discovery program will regularly send out two short surveys to assess the progress of projects - can you commit to responding to all surveys?": "Yes",
                  "Can you commit to ensuring a safe, professional, and inclusive work environment for the students working on the project?": "Yes",
                  "_deepnote_index_column": 23
                },
                {
                  "Accept?": "Yes ",
                  "Application Link": "https://forms.gle/mFAEfqp9EHmVKRJMA",
                  "Spreadsheet Link": "https://docs.google.com/spreadsheets/d/1dj-pL_GEo93SQhZ26quLrbtuVxJlNh49uIzxMxfV_Vk/edit?usp=sharing",
                  "Timestamp": "3/24/2023 12:19:17",
                  "Email Address": "bm",
                  "Name": "Sarah Smaga",
                  "Email": "sarah.smaga@berkeley.edu",
                  "Please include the names and Gmail-linked emails of any other collaborators": "Alanna Schepartz, schepartz@berkeley.edu; Cameron Swenson, cameron_swenson@berkeley.edu; Noah Hamlish, nhamlish@berkeley.edu",
                  "Organization Name": "NSF Center for Genetically Encoded Materials (C-GEM)",
                  "Tell us about your organization:": "C-GEM seeks to repurpose the translational apparatus to establish a fundamentally new form of chemical matter: sequence-defined chemical polymers. C-GEM is an NSF-funded Center for Chemical Innovation headquartered at UC Berkeley with an interdisciplinary team of chemists located at partner institutions throughout the US. ",
                  "Organization Website": "https://gem-net.net/",
                  "How did you hear about the Discovery Program? ": "Discovery Team Coordinator",
                  "Project Title:": "The Unnatural Translation Database: Streamlining data entry through automation ",
                  "Project Sector": "Academia/Research",
                  "Project Description": "The NSF Center for Genetically Encoded Materials (C-GEM) is a multi-institutional research initiative that seeks to make new materials and medicines by expanding the chemistry of the ribosome and ribosomal products. C-GEM is based at UC Berkeley and led by Chemistry professor Alanna Schepartz.\n\nWe are looking for a Discovery team to help us with an ongoing project that seeks to catalog the hundreds of different molecules that have been previously reported to incorporate into proteins. This literature base goes back decades, but there is currently no way for researchers to easily peruse the data to identify whether or not a particular molecule has been tested. We previously commissioned the design of a database to house information about all of the molecules in the literature, searchable by molecule structure, but have discovered that the process of manually populating the database with information from published papers is laborious and time consuming. We hope a Discovery team can help…",
                  "Project Timeline": "Phase I (4 weeks)\nIntroduction and familiarization with existing database \nBuilding out database features: use DOI records to generate full citation, refine of data types/categories with researcher input \nScope out feasibility of automating data input: identify what could be automated\n\nPhase II (6 weeks) \nDesign an automated process that can generate data for researcher review and eventual addition to the database. Depending on feasibility studies (above), this might include harvesting molecule names from papers and converting these molecules into their SMILES code, extracting other data (molecule names, sequences) from the paper, or designing a tool that suggests new papers to add to the database from the literature\n\nPhase III (2 weeks) \nIntegrate tool into database workflow. Train researchers on how to use the new automated functions. Annotate and review GitHub files and documentation. \nDraft text to contribute to a manuscript that describes the work done",
                  "Project Workflow": "In Phase I, students will initially work together to learn about the existing database infrastructure. Then, they will work as a team to implement a new feature that generates and displays a full citation when the source data only contains the DOI. Once they feel familiar with the structure and organization of the database and front-end web app, the team will refine the current structure of the database to simplify the number of variables based on researcher input. During Phase I, researchers will share their current [labor-intensive] process for adding entries to the database, setting up the primary challenge for the Discovery team: how to introduce some level of automation into this process. In Phase II, the team will propose a plan to automate all or part of the paper discovery and data entry process. We hope this will include (at minimum) harvesting molecule names from papers and converting them to SMILES, a machine-readable way of presenting chemical structure data. Phase III wil…",
                  "Do you have a dataset readily available?": "Maybe",
                  "If you answered No or Maybe to the question above, please clarify here:": "We have an initial dataset of ~100+ entries but the goal of this project is to develop a way to automate the currently manual process of extracting information from published papers to add to the database to generate hundreds more. ",
                  "Project Deliverable": "Updated web app with increased functionality, draft text for the forthcoming manuscript describing this database (of which we expect the Discovery team will be coauthors for their contribution) ",
                  "Are you extending your project for the Fall 2023 semester?": "No",
                  "How many student researchers (6-12 hrs/week) do you anticipate needing?": "4",
                  "Does your team have sufficient computing resources for the project?": "Maybe",
                  "Would your project benefit from free cloud computing credits?": "Maybe",
                  "Applicants will be asked to submit a statement of interest to your project, their resume, and a self assessment of their skillset. If there are any specific questions you would like applicants to respond to, include them below. [Max. 3 questions]": "What chemistry and biology courses have you taken? ",
                  "Please indicate the level of experience you are looking for from student applicants in each of the following skills: [Python]": "Intermediate",
                  "Please indicate the level of experience you are looking for from student applicants in each of the following skills: [R]": "No Experience",
                  "Please indicate the level of experience you are looking for from student applicants in each of the following skills: [SQL]": "Advanced",
                  "Please indicate the level of experience you are looking for from student applicants in each of the following skills: [Exploratory Data Analysis]": "Beginner",
                  "Please indicate the level of experience you are looking for from student applicants in each of the following skills: [Data Visualization]": "Beginner",
                  "Please indicate the level of experience you are looking for from student applicants in each of the following skills: [Geospatial Data Analysis]": "No Experience",
                  "Please indicate the level of experience you are looking for from student applicants in each of the following skills: [Natural Language Processing]": "Advanced",
                  "Please indicate the level of experience you are looking for from student applicants in each of the following skills: [Deep Learning]": "No Experience",
                  "Please indicate the level of experience you are looking for from student applicants in each of the following skills: [Computer Vision]": "Advanced",
                  "Please indicate the level of experience you are looking for from student applicants in each of the following skills: [Cloud Computing]": "No Experience",
                  "Additional skills:": "Our current database uses PostgreSQL, Django REST Framework, React, Docker, RDKit, Javascript, Python, CSS so familiarity with these technologies will be useful. ",
                  "Projects are more successful when the project partner can meet regularly with the student team - can you commit to meeting with the student team at least once a week?": "Yes",
                  "The Discovery program will regularly send out two short surveys to assess the progress of projects - can you commit to responding to all surveys?": "Yes",
                  "Can you commit to ensuring a safe, professional, and inclusive work environment for the students working on the project?": "Yes",
                  "_deepnote_index_column": 24
                },
                {
                  "Accept?": "Yes ",
                  "Application Link": "https://forms.gle/88iaGRsgjfDQYwWSA",
                  "Spreadsheet Link": "https://docs.google.com/spreadsheets/d/1xGJsx4_Zu0tla-QMm2TdPhnf2uO0aEX_fF__MW2azr8/edit?usp=sharing",
                  "Timestamp": "3/24/2023 12:52:33",
                  "Email Address": "m",
                  "Name": "Melissa Ko",
                  "Email": "mesako@berkeley.edu",
                  "Please include the names and Gmail-linked emails of any other collaborators": "nan",
                  "Organization Name": "UC Berkeley Center for Teaching & Learning",
                  "Tell us about your organization:": "The Center for Teaching & Learning partners with all campus educators including faculty, students, and staff to promote better student learning experiences on campus and to build a vibrant teaching and learning community. We offer a variety of services and programs to support and inspire instructors in line with evidence-based teaching strategies. Recently, we have developed a new emphasis on supporting and engaging in the Scholarship of Teaching and Learning (SoTL), a research inquiry that focuses on practices and outcomes in higher education. As an organization, we both fund and partner with current instructors to conduct this research as well as manage our own studies within the center.",
                  "Organization Website": "https://teaching.berkeley.edu/",
                  "How did you hear about the Discovery Program? ": "Other",
                  "Project Title:": "Characterizing the Landscape of Student Learning Outcomes in Undergraduate Programs via a Web-scraping Text Analysis Approach",
                  "Project Sector": "Academia/Research",
                  "Project Description": "What are the goals of getting a college degree? This complex question does not have a single answer or even a correct answer, but often colleges and universities will characterize these goals for students as student learning outcomes (SLOs). Particularly when thinking about how students benefit from engaging in a particular major, we can look to the program learning outcomes (PLOs) to describe what learning students should attain through courses and co-/extra-curricular activities. More importantly, PLOs articulate what a particular academic department values in terms of the skills, knowledge, and values that students should acquire. This project aims to answer the following questions: what do different majors/programs include as their PLOs? How does the content of these PLOs vary across discipline and institution? What are the major themes across these PLOs? From this data collection, we can build an expansive picture of what higher education hopes to accomplish, but also compare the…",
                  "Project Timeline": "Here is a rough timeline for this work. Depending on the size of the team assigned to this work, some tasks can be pursued in parallel rather than sequentially.\n\nPhase 1 (Week 1): Setting Goals and Norms\nWe will dedicate some time to building the team, developing norms for our work and communications, identifying the assets we bring to the project, and figuring out what each individual member's goals are as they engage in the work. Initial assignments of tasks and workflows will take shape.\n\nPhase 2 (Week 2-4): Developing and Deploying the Web-Scraping Approach\nStudents will be able to build off of an initial framework for conducting the web-scraping work, however, significant time may be required to port the approach over to Python from R (my native programming language). Students will need to identify the appropriate software packages for querying web info and extracting the right text. I already have directory/institutional data that students can use to identify their stratified ra…",
                  "Project Workflow": "Students will primarily work with me, as the Assessment & Curriculum Design specialist and lead on this research project. I will meet at least weekly with the entire cohort of students and can have short check-ins (15-30 min) also weekly or biweekly with individual team members to check on their progress, challenges, and need for resources. These meetings will occur over Zoom primarily. I do not plan to break up the team of 3 further into subteams, but rather help students figure out which tasks they will share vs. divvy up between themselves. We will use the Trello project management software to track tasks and may operate on something like an agile sprint plan. I am available to communicate with students, using email, google chat, and a Slack channel we will establish at the start of the term.",
                  "Do you have a dataset readily available?": "Maybe",
                  "If you answered No or Maybe to the question above, please clarify here:": "A large part of this project requires significant web-scraping, data cleaning, and text analysis practice. The data \"exists\" insofar as we are working from publicly available information on the web. However, a large part of the work for students will be creating a tabular dataset/database from this information.",
                  "Project Deliverable": "The Discovery student team will generate a robust and rich dataset that then can be mined/analyzed to produce various forms of scholarship, including conference presentations and publications. Student team members who are still engaged in this work by spring 2024 will have an opportunity to present for our annual Teaching and Learning Conference.",
                  "Are you extending your project for the Fall 2023 semester?": "No",
                  "How many student researchers (6-12 hrs/week) do you anticipate needing?": "3",
                  "Does your team have sufficient computing resources for the project?": "Yes",
                  "Would your project benefit from free cloud computing credits?": "Maybe",
                  "Applicants will be asked to submit a statement of interest to your project, their resume, and a self assessment of their skillset. If there are any specific questions you would like applicants to respond to, include them below. [Max. 3 questions]": "1. How would you describe the pros and cons with gathering web content data?\n2. What excites you the most about working with text data? What do you anticipate being the most challenging?\n3. What are your goals for completing your chosen major? How do you think those goals compare to what another student may say, or what your professor would say?\n\nEach answer can be limited to just a few sentences max.",
                  "Please indicate the level of experience you are looking for from student applicants in each of the following skills: [Python]": "Intermediate",
                  "Please indicate the level of experience you are looking for from student applicants in each of the following skills: [R]": "Intermediate",
                  "Please indicate the level of experience you are looking for from student applicants in each of the following skills: [SQL]": "No Experience",
                  "Please indicate the level of experience you are looking for from student applicants in each of the following skills: [Exploratory Data Analysis]": "Intermediate",
                  "Please indicate the level of experience you are looking for from student applicants in each of the following skills: [Data Visualization]": "Intermediate",
                  "Please indicate the level of experience you are looking for from student applicants in each of the following skills: [Geospatial Data Analysis]": "No Experience",
                  "Please indicate the level of experience you are looking for from student applicants in each of the following skills: [Natural Language Processing]": "Beginner",
                  "Please indicate the level of experience you are looking for from student applicants in each of the following skills: [Deep Learning]": "No Experience",
                  "Please indicate the level of experience you are looking for from student applicants in each of the following skills: [Computer Vision]": "No Experience",
                  "Please indicate the level of experience you are looking for from student applicants in each of the following skills: [Cloud Computing]": "No Experience",
                  "Additional skills:": "I want to clarify my response above. I work in the R programming language and that's my comfort zone and preference. However I'm very open to working with a team of students if they all share a specialization in Python instead given that this is the main language they are taught in Data Science. I just want them to share a familiarity with one of those two languages: R or Python. I'll refresh my memory on Python if need be, but they need to work together.",
                  "Projects are more successful when the project partner can meet regularly with the student team - can you commit to meeting with the student team at least once a week?": "Yes",
                  "The Discovery program will regularly send out two short surveys to assess the progress of projects - can you commit to responding to all surveys?": "Yes",
                  "Can you commit to ensuring a safe, professional, and inclusive work environment for the students working on the project?": "Yes",
                  "_deepnote_index_column": 25
                },
                {
                  "Accept?": "Yes ",
                  "Application Link": "Partner requested to merge with her other project",
                  "Spreadsheet Link": "Partner requested to merge with her other project",
                  "Timestamp": "3/24/2023 12:56:18",
                  "Email Address": "s",
                  "Name": "Silvia Barbareschi",
                  "Email": "sivlia_barbareschi@berkeley.edu",
                  "Please include the names and Gmail-linked emails of any other collaborators": "Silvia Barbareschi; barbareschisilvia@gmail.com",
                  "Organization Name": "Violawalkhome/UC Berkeley/Stanford University",
                  "Tell us about your organization:": "Viola is an Italian startup that aims to address issues of gender-based violence with effective responses  and  solutions,  using  technology  to  improve  people's  street safety  and  to  better understand  the  phenomenon  of  gender-based  violence.  Founded  by  the  Italian  association DonnexStrada,  Viola  works  to  create  a  safer  society  by  creating  a  street  safety  app,  a centralized data collection platform,  and  a  map of safe places for people. You can also follow us on the Instagram pages @violawalkhome and @donnexstrada.  Instead, I am Silvia Barbareschi, a PhD student a UCBerkeley and Data Expert at Violawalkhome. I am working with others researchers/professors to develop several projects in collaboration with Viola.",
                  "Organization Website": "https://www.violawalkhome.com/",
                  "How did you hear about the Discovery Program? ": "Referral",
                  "Project Title:": "Violawalkhome: a mobile safety app ",
                  "Project Sector": "Academia/Research, Industry/Startup",
                  "Project Description": "Violawalkhome is currently developing the mobile safety app and in particular in the following months its mvp versions. In the short run, we need to solve market analysis (doing some experiments and careful research on that), and app developing based on mvp experiments. In the long run, we will collect big data given geolocation of users and we will have to perform NPL will be necessary because we will record some calls. We are currently part of an accelation program, and students will be stimulated being inderectly part of it. In the meanwhile, we also have to collect crimes and safety data from different resources. ",
                  "Project Timeline": "Phase 1 (Week 1-3): market analysis, collection of several data sources and defeniton of the market; Phase 2 (Week 4-5-6) mvp developing; (week 7-12) experiments/data analysis",
                  "Project Workflow": "The start-up core team meets 2 times a week, students will be broken into two teams but the meetings will be with the full team",
                  "Do you have a dataset readily available?": "Maybe",
                  "If you answered No or Maybe to the question above, please clarify here:": "The dataset of the mobile app itself will take sometime to be constructed; experimental data will come from the experiments and in the meantime students will have to search for big data.",
                  "Project Deliverable": "jupyter notebook; together the mvp version of the app ",
                  "Are you extending your project for the Fall 2023 semester?": "Yes",
                  "How many student researchers (6-12 hrs/week) do you anticipate needing?": "4",
                  "Does your team have sufficient computing resources for the project?": "Yes",
                  "Would your project benefit from free cloud computing credits?": "Yes",
                  "Applicants will be asked to submit a statement of interest to your project, their resume, and a self assessment of their skillset. If there are any specific questions you would like applicants to respond to, include them below. [Max. 3 questions]": "Specify in which part of the project you are more interested in; and if you are interested in the long run to Geospatial Data Analysis, NLP, and helping with the developing of the mobile app. ",
                  "Please indicate the level of experience you are looking for from student applicants in each of the following skills: [Python]": "Beginner",
                  "Please indicate the level of experience you are looking for from student applicants in each of the following skills: [R]": "Intermediate",
                  "Please indicate the level of experience you are looking for from student applicants in each of the following skills: [SQL]": "No Experience",
                  "Please indicate the level of experience you are looking for from student applicants in each of the following skills: [Exploratory Data Analysis]": "Advanced",
                  "Please indicate the level of experience you are looking for from student applicants in each of the following skills: [Data Visualization]": "Advanced",
                  "Please indicate the level of experience you are looking for from student applicants in each of the following skills: [Geospatial Data Analysis]": "Intermediate",
                  "Please indicate the level of experience you are looking for from student applicants in each of the following skills: [Natural Language Processing]": "No Experience",
                  "Please indicate the level of experience you are looking for from student applicants in each of the following skills: [Deep Learning]": "No Experience",
                  "Please indicate the level of experience you are looking for from student applicants in each of the following skills: [Computer Vision]": "No Experience",
                  "Please indicate the level of experience you are looking for from student applicants in each of the following skills: [Cloud Computing]": "No Experience",
                  "Additional skills:": "nan",
                  "Projects are more successful when the project partner can meet regularly with the student team - can you commit to meeting with the student team at least once a week?": "Yes",
                  "The Discovery program will regularly send out two short surveys to assess the progress of projects - can you commit to responding to all surveys?": "Yes",
                  "Can you commit to ensuring a safe, professional, and inclusive work environment for the students working on the project?": "Yes",
                  "_deepnote_index_column": 26
                },
                {
                  "Accept?": "Yes ",
                  "Application Link": "https://docs.google.com/forms/d/1iCtw5vK2ZhDHRFL7a7TXXZGYyVOiZmuBc_bjZvkOmkU/edit",
                  "Spreadsheet Link": "https://docs.google.com/spreadsheets/d/1-xxincxQ4TVwyYuWGf9X38gctsyz7ECapmF6kmvNk-w/edit?usp=sharing",
                  "Timestamp": "3/24/2023 16:49:39",
                  "Email Address": "k",
                  "Name": "Karin Garrett",
                  "Email": "karing@berkeley.edu",
                  "Please include the names and Gmail-linked emails of any other collaborators": "Don Moore, dm@berkeley.edu; Sophia Li, sophia-li@berkeley.edu",
                  "Organization Name": "Moore Accuracy Lab",
                  "Tell us about your organization:": "We are a social science research lab in the Haas School of Business. ",
                  "Organization Website": "http://learnmoore.org/",
                  "How did you hear about the Discovery Program? ": "Discovery Team Coordinator",
                  "Project Title:": "LMC",
                  "Project Sector": "Academia/Research",
                  "Project Description": "We plan to evaluate language model uncertainty on a variety of tasks. We will assess GPT-3, UnifiedQA, and other public language models on reading comprehension, reasoning, and additional challenge datasets. Model outputs on these tasks will be assessed for calibration and accuracy. A comparison to human errors on the same tasks will illuminate differences in human and AI reasoning around uncertainty, an important topic for AI safety.",
                  "Project Timeline": "Week 1-3: Exploratory/setup\n■ \t Setting up inference scripts for language models, loading transformers from huggingface and calling their generate methods\n\nWeek 4-6: Data collection\n■ \t Building and administering Qualtrics surveys to human annotators\n■ \t In parallel, collect data on language model performance and adjust inference scripts as necessary\n\nWeeks 7-10: Analysis\n■ \t Analyzing data, looking for systematic patterns in where humans versus AI did well\n■ \t Using advanced NLP tools to characterize differences\n■ \t Explore data, looking for systematic patterns in where humans versus AI did well",
                  "Project Workflow": "Students will check in at team meetings each week. Additionally, they will regularly communicate via Slack with an RA who will be leading the project throughout the week. Since the project involves several moving parts that depend on each other, students are expected to be diligent and respond quickly.",
                  "Do you have a dataset readily available?": "Yes",
                  "If you answered No or Maybe to the question above, please clarify here:": "nan",
                  "Project Deliverable": "Notebook including analysis of performance and a write-up of results",
                  "Are you extending your project for the Fall 2023 semester?": "Yes",
                  "How many student researchers (6-12 hrs/week) do you anticipate needing?": "1",
                  "Does your team have sufficient computing resources for the project?": "Maybe",
                  "Would your project benefit from free cloud computing credits?": "Maybe",
                  "Applicants will be asked to submit a statement of interest to your project, their resume, and a self assessment of their skillset. If there are any specific questions you would like applicants to respond to, include them below. [Max. 3 questions]": "What is your previous experience with transformers?\nAre you interested in the intersection of technology and the psychology of decision making?\n",
                  "Please indicate the level of experience you are looking for from student applicants in each of the following skills: [Python]": "Advanced",
                  "Please indicate the level of experience you are looking for from student applicants in each of the following skills: [R]": "No Experience",
                  "Please indicate the level of experience you are looking for from student applicants in each of the following skills: [SQL]": "No Experience",
                  "Please indicate the level of experience you are looking for from student applicants in each of the following skills: [Exploratory Data Analysis]": "Beginner",
                  "Please indicate the level of experience you are looking for from student applicants in each of the following skills: [Data Visualization]": "Beginner",
                  "Please indicate the level of experience you are looking for from student applicants in each of the following skills: [Geospatial Data Analysis]": "No Experience",
                  "Please indicate the level of experience you are looking for from student applicants in each of the following skills: [Natural Language Processing]": "Advanced",
                  "Please indicate the level of experience you are looking for from student applicants in each of the following skills: [Deep Learning]": "No Experience",
                  "Please indicate the level of experience you are looking for from student applicants in each of the following skills: [Computer Vision]": "No Experience",
                  "Please indicate the level of experience you are looking for from student applicants in each of the following skills: [Cloud Computing]": "Beginner",
                  "Additional skills:": "transformers, python data science tools (Pandas, NumPy, etc.)",
                  "Projects are more successful when the project partner can meet regularly with the student team - can you commit to meeting with the student team at least once a week?": "Yes",
                  "The Discovery program will regularly send out two short surveys to assess the progress of projects - can you commit to responding to all surveys?": "Yes",
                  "Can you commit to ensuring a safe, professional, and inclusive work environment for the students working on the project?": "Yes",
                  "_deepnote_index_column": 27
                },
                {
                  "Accept?": "Yes ",
                  "Application Link": "https://forms.gle/WPFVVReZRMXC64Gt5",
                  "Spreadsheet Link": "https://docs.google.com/spreadsheets/d/1vJqD5Ge09WO9EIYjEd1woEcY_VyPK78z-xG6IppjelM/edit?usp=sharing",
                  "Timestamp": "3/24/2023 18:39:23",
                  "Email Address": "K",
                  "Name": "Kai Koerber",
                  "Email": "kaikoerber@berkeley.edu ",
                  "Please include the names and Gmail-linked emails of any other collaborators": "keltner@berkeley.edu",
                  "Organization Name": "Koer AI, Inc",
                  "Tell us about your organization:": "We build AI software that is capable of universally recognizing human emotions from vocal expressions (meaning recognizing human emotions regardless of what language is being spoken by any given individual). We have also developed software that is capable of predicting likelihoods of physical violence, based on real-time human emotional profiles. In the coming months, we will be rolling this software into a new form of a body camera that predicts physical violence before it occurs in police-citizen encounters – saving lives in the process.  \n\nIn addition to this, we have been a part of the discovery program (as project partners) for 3 years now, and have been long-time partners with the UC Berkeley Greater Good Science Center and their founding director: UC Berkeley Prof. Dacher Keltner. \n",
                  "Organization Website": "https://www.projectaei.com",
                  "How did you hear about the Discovery Program? ": "Discovery Team Coordinator, Returned Partner",
                  "Project Title:": "Project AEI",
                  "Project Sector": "Industry/Startup",
                  "Project Description": "We will be commercializing our real-time emotion recognition software (which we have developed over the course of 3 years as DS Discovery project partners) through the development of a commercial API that allows developers to build our emotion recognition software into whatever platform that they feel would benefit from it. \n\nIn addition to this, we will be developing new additions and features for our flagship product, The Joy App: a wellness app that we have developed at Koer AI, Inc in collaboration with UC Berkeley Prof. Dacher Keltner (the Founding Director of the Greater Good Science Center). \n\nAnd furthermore, we will be continuing development on our Arkham project: a body camera that incorporates the use of our AI software to predict physical violence before it happens in police-citizen encounters. \n\nThe mission of Project AEI is to explore the commercial applications of speech emotion recognition AI software, and to push the bounds of what is conceivably possible in the world…",
                  "Project Timeline": "TIMELINES:\nPhase 1 (Week 1-3): New members of the Project AEI team will familiarize themselves with the codebase, read the required research papers associated with our efforts, and will be assigned to the Arkham (AI), Web/App Dev,  Design, or Data Cleaning Teams according to their skill levels and interests.\n\nPhase 2 (Week 4-5): \nArkham (AI Team):\nTeam members will actively propose new ways of improving our current means of audio classification (in the discussion of new developments in the audio classification field) and how we can implement new algorithm designs that serve to further improve the granularity of our model's outputs. \n\nWe will also be training a new model that is capable of recognizing non-bioacoustic sound types that are indicative of danger and/or violence.\n\nDiscussions surrounding the topics of instance vs batch normalization will also be discussed. \n\nDesign: \nNew graphics, promotional materials, and application designs for our Joy and Arkham Products will be present…",
                  "Project Workflow": "Students on the Project AEI team will be assigned to teams in the following domains: Arkham (AI), Web/App Dev,  Design, or Data Cleaning Teams according to their skill levels and interests.\n\nEach team will meet (with the team lead(s)) twice per week, and meetings are typically 1hr in length. \n\nEvery week the team lead(s) will assign tasks to the members of each individual sub-team, and in the proceeding weeks, gradual progress towards the final deliverables (due by phase 3, the end of the semester) will be discussed. \n\nMost importantly, Project AEI, is a team where the best idea or approach to any given problem is something that takes precedence. With this being the case, members who have knowledge surrounding how to accomplish a given task more creatively or efficiently, are very much encouraged to speak up no matter how long they have been on the team. \n\nThis project was started by Cal undergrad and as such it is an environment that was built upon a foundation of ideals rooted in op…",
                  "Do you have a dataset readily available?": "Yes",
                  "If you answered No or Maybe to the question above, please clarify here:": "nan",
                  "Project Deliverable": "a working commercial API, a new prototype body camera that predicts physical violence before it happens, and the introduction of new features to our flagship product: the Joy app. ",
                  "Are you extending your project for the Fall 2023 semester?": "Yes",
                  "How many student researchers (6-12 hrs/week) do you anticipate needing?": "5",
                  "Does your team have sufficient computing resources for the project?": "Maybe",
                  "Would your project benefit from free cloud computing credits?": "Yes",
                  "Applicants will be asked to submit a statement of interest to your project, their resume, and a self assessment of their skillset. If there are any specific questions you would like applicants to respond to, include them below. [Max. 3 questions]": "1) Describe a time when you faced difficulty or uncertainty in your life, and tell us how you overcame that tough time (if you feel comfortable sharing). This is a question that allows us to get to know you, and how you process adversity and uncertainty, we would greatly appreciate it if you could share your experience with us. \n\n2) Have you every worked with CNNs (convolutional neural networks)? / made your own CNN based on an custom architecture? If so, please describe why you did this (for what classification task), how proficient it was/what its shortcomings were, and what you learned in your work with these kinds of models. \n\n3) Do you have any experience with web/app development or design? If you have design experience, please feel free to email your portfolio of designs to koerprojects@gmail.com, we would love to see your work. \n\nAlso, If you have web or app development experience, please send a demo video of your app working to koerprojects@gmail.com as well, as we would love …",
                  "Please indicate the level of experience you are looking for from student applicants in each of the following skills: [Python]": "Advanced",
                  "Please indicate the level of experience you are looking for from student applicants in each of the following skills: [R]": "No Experience",
                  "Please indicate the level of experience you are looking for from student applicants in each of the following skills: [SQL]": "Beginner",
                  "Please indicate the level of experience you are looking for from student applicants in each of the following skills: [Exploratory Data Analysis]": "Advanced",
                  "Please indicate the level of experience you are looking for from student applicants in each of the following skills: [Data Visualization]": "Advanced",
                  "Please indicate the level of experience you are looking for from student applicants in each of the following skills: [Geospatial Data Analysis]": "Beginner",
                  "Please indicate the level of experience you are looking for from student applicants in each of the following skills: [Natural Language Processing]": "Intermediate",
                  "Please indicate the level of experience you are looking for from student applicants in each of the following skills: [Deep Learning]": "Advanced",
                  "Please indicate the level of experience you are looking for from student applicants in each of the following skills: [Computer Vision]": "Advanced",
                  "Please indicate the level of experience you are looking for from student applicants in each of the following skills: [Cloud Computing]": "Advanced",
                  "Additional skills:": "Azure (particularly API management services), React Native, React, Javascript, App Design (figma)",
                  "Projects are more successful when the project partner can meet regularly with the student team - can you commit to meeting with the student team at least once a week?": "Yes",
                  "The Discovery program will regularly send out two short surveys to assess the progress of projects - can you commit to responding to all surveys?": "Yes",
                  "Can you commit to ensuring a safe, professional, and inclusive work environment for the students working on the project?": "Yes",
                  "_deepnote_index_column": 28
                },
                {
                  "Accept?": "Yes ",
                  "Application Link": "https://forms.gle/5vRCVEYJbbT2EqN26",
                  "Spreadsheet Link": "https://docs.google.com/spreadsheets/d/1hoQbSH6_tTiVxy-tenGBq8X155SpA6Aacy5jh-mDpWU/edit?usp=sharing",
                  "Timestamp": "3/24/2023 21:02:56",
                  "Email Address": "yakira.mirabito@berkeley.edu",
                  "Name": "Yakira Mirabito",
                  "Email": "yakira.mirabito@berkeley.edu",
                  "Please include the names and Gmail-linked emails of any other collaborators": "kosa@berkeley.edu",
                  "Organization Name": "Co-Design Lab",
                  "Tell us about your organization:": "The Cognition and Computation in Design (Co-Design) Lab, led by Dr. Kosa Goucher-Lambert, is a multidisciplinary research group at UC Berkeley, housed primarily in the Department of Mechanical Engineering and affiliated with the Jacobs Institute of Design Innovation and Berkeley Institute of Design (BiD).\n\nThe Co-Design Lab conducts scholarship at the frontiers of design research. We are interested in understanding the mechanisms that allow both humans and computers to excel at design tasks, as well as leveraging this information to develop the next generation of methods and tools that fundamentally improve the design process. Methodologically, our research group conducts controlled experiments utilizing both behavioral and computational methods (e.g., neuroimaging studies of design thinking), systems research (e.g., interactive prototypes and tools for designers), and in-situ studies of student and professional designers (e.g., design method usage in engineering education).\n\nYou can …",
                  "Organization Website": "https://codesign.berkeley.edu/",
                  "How did you hear about the Discovery Program? ": "Discovery Team Coordinator, Returned Partner",
                  "Project Title:": "Computationally evaluating design rationale",
                  "Project Sector": "Academia/Research",
                  "Project Description": "Machines can assist designers by making design suggestions that are often based on human behavior (e.g., alternative cad designs). Such suggestions often mimic human behavior but can not adequately explain the rationale behind the design recommendation. Overall, our vision is to help fill this gap by providing a design rationale to accompany/explain the design recommendation being made. Based on prior research from the group, we know that human explanations have a large variance in goodness. So this current project aims to use computational approaches to quantify the richness of rationale.\n\nResearch question: How might we computationally evaluate how 'good' a rationale/explanation is?\n\nRoles and responsibilities: Work with existing research members to identify and run models of explanation assessment. Help gather design rationale data using human subject studies or large language models. Analyze data and present findings.",
                  "Project Timeline": "Phase 0: Onboarding and delegating tasks (Week 1-2)\nPhase 1: Selecting dimension/model (Week 3-6)\nPhase 2: Data analysis (Week 7-10)\nPhase 3: Iterate and write up the results (Week 11-12)\n",
                  "Project Workflow": "Expectations:\n-Students will devote (6-12) hours per week to their research project\n-Meets with the mentor regularly to update research progress\n-Short summary (a few bullet points) of progress updated weekly on shared google doc\n-Optional: Attends lab group meeting when scheduling permits\n-Optional: Presents project updates in a lab group meeting\n\nThis project has multiple parts where students can have some degree of ownership over their portion if they would like/have the time. A) Option to explore different dimensions of language evaluation (cohesion/clarity/etc.). B) Option to focus on one dimension and compare a few models. C) Option to focus on systematically collecting rationale (human and/or AI-generated).",
                  "Do you have a dataset readily available?": "Yes",
                  "If you answered No or Maybe to the question above, please clarify here:": "Yes, we have an existing dataset. Although, there is room to collect additional data from humans and ChatGPT.",
                  "Project Deliverable": "Research report of findings accompanied by jupyter notebook (or R files).",
                  "Are you extending your project for the Fall 2023 semester?": "Yes",
                  "How many student researchers (6-12 hrs/week) do you anticipate needing?": "3",
                  "Does your team have sufficient computing resources for the project?": "Yes",
                  "Would your project benefit from free cloud computing credits?": "Maybe",
                  "Applicants will be asked to submit a statement of interest to your project, their resume, and a self assessment of their skillset. If there are any specific questions you would like applicants to respond to, include them below. [Max. 3 questions]": "1. What aspect of this project interests you?",
                  "Please indicate the level of experience you are looking for from student applicants in each of the following skills: [Python]": "Intermediate",
                  "Please indicate the level of experience you are looking for from student applicants in each of the following skills: [R]": "Intermediate",
                  "Please indicate the level of experience you are looking for from student applicants in each of the following skills: [SQL]": "No Experience",
                  "Please indicate the level of experience you are looking for from student applicants in each of the following skills: [Exploratory Data Analysis]": "Intermediate",
                  "Please indicate the level of experience you are looking for from student applicants in each of the following skills: [Data Visualization]": "Beginner",
                  "Please indicate the level of experience you are looking for from student applicants in each of the following skills: [Geospatial Data Analysis]": "No Experience",
                  "Please indicate the level of experience you are looking for from student applicants in each of the following skills: [Natural Language Processing]": "Advanced",
                  "Please indicate the level of experience you are looking for from student applicants in each of the following skills: [Deep Learning]": "No Experience",
                  "Please indicate the level of experience you are looking for from student applicants in each of the following skills: [Computer Vision]": "No Experience",
                  "Please indicate the level of experience you are looking for from student applicants in each of the following skills: [Cloud Computing]": "No Experience",
                  "Additional skills:": "Python or R is fine; both are not necessary.\n\nPreferred skills:\n1. Strong critical thinking skills.\n2. Perseverance. Research can be frustrating since it may not always pan out how we'd like. Ability to learn from failure and keep moving forward.",
                  "Projects are more successful when the project partner can meet regularly with the student team - can you commit to meeting with the student team at least once a week?": "Yes",
                  "The Discovery program will regularly send out two short surveys to assess the progress of projects - can you commit to responding to all surveys?": "Yes",
                  "Can you commit to ensuring a safe, professional, and inclusive work environment for the students working on the project?": "Yes",
                  "_deepnote_index_column": 29
                }
              ]
            },
            "text/plain": "    Accept?                     Application Link  \\\n0       Yes  https://forms.gle/CBHwXdtuGh3WnBXq8   \n1       Yes  https://forms.gle/K9P8NsiGuCbRTE9z5   \n2       Yes  https://forms.gle/TcsAvvGSuiqzGDgz7   \n3       Yes  https://forms.gle/U3AeRkSWfnKkURzV9   \n4       Yes  https://forms.gle/7c8wXqtXasNffyNE7   \n..      ...                                  ...   \n126     NaN  https://forms.gle/Lc9cpUC49Vx8YWxP6   \n127     Yes                    Returning Partner   \n128     NaN                                  NaN   \n129     NaN                                  NaN   \n130     NaN                    Returning Partner   \n\n                                      Spreadsheet Link           Timestamp  \\\n0    https://docs.google.com/spreadsheets/d/1_kS9JB...    3/8/2023 5:06:20   \n1    https://docs.google.com/spreadsheets/d/1tB1rB-...   3/9/2023 10:57:25   \n2    https://docs.google.com/spreadsheets/d/1zSJSAq...   3/9/2023 11:03:27   \n3    https://docs.google.com/spreadsheets/d/1kPbvIB...  3/13/2023 15:48:24   \n4    https://docs.google.com/spreadsheets/d/1S4Zx_q...  3/13/2023 17:04:04   \n..                                                 ...                 ...   \n126  https://docs.google.com/spreadsheets/d/1tvQvRg...  8/22/2023 11:52:16   \n127                                  Returning Partner    9/5/2023 9:43:58   \n128  https://docs.google.com/spreadsheets/d/1y2sSM5...                 NaN   \n129  https://docs.google.com/spreadsheets/d/19dMhEc...                 NaN   \n130                                  Returning Partner                 NaN   \n\n               Email Address                 Name                    Email  \\\n0    ryan_lingo@na.honda.com           Ryan Lingo  ryan_lingo@na.honda.com   \n1              nick@gauge.io         Nick Cawthon            nick@gauge.io   \n2              nick@gauge.io         Nick Cawthon            nick@gauge.io   \n3     brashares@berkeley.edu     Justin Brashares   brashares@berkeley.edu   \n4    jlsteenwyk@berkeley.edu    Jacob L. Steenwyk  jlsteenwyk@berkeley.edu   \n..                       ...                  ...                      ...   \n126    rajathelias@gmail.com         Rajath Soans          soans@merck.com   \n127    tnarecha@berkeley.edu     Tejas Narechania    tnarecha@berkeley.edu   \n128              kwu@lbl.gov              John Wu              kwu@lbl.gov   \n129          ESfecla@bop.gov  Ellen McCann Sfecla          ESfecla@bop.gov   \n130       italoivo@gmail.com          Italo Pinto       italoivo@gmail.com   \n\n    Please include the names and Gmail-linked emails of any other collaborators  \\\n0                                 ryanlingo@gmail.com                             \n1                          Nick Cawthon, nick@gauge.io                            \n2                          Nick Cawthon, nick@gauge.io                            \n3                                                  NaN                            \n4                      Nicole King, nking@berkeley.edu                            \n..                                                 ...                            \n126                              rajathelias@gmail.com                            \n127                                                NaN                            \n128                                        kwu@lbl.gov                            \n129                                    dstrote@bop.gov                            \n130                       javier.o.garcia.civ@army.mil                            \n\n                                     Organization Name  \\\n0                                     99P Labs / Honda   \n1                                                Gauge   \n2                                                Gauge   \n3    UC Berkeley Dept. of Environmental Science, Po...   \n4                                   UC-Berkeley & HHMI   \n..                                                 ...   \n126                                        Merck & Co.   \n127                          UC Berkeley School of Law   \n128              Lawrence Berkeley National Laboratory   \n129                          Federal Bureau of Prisons   \n130                 US DEVCOM Army Research Laboratory   \n\n                      Tell us about your organization:  ...  \\\n0                                     99P Labs / Honda  ...   \n1                      Product Design and Data Science  ...   \n2    Product Design and Data Science agency in the ...  ...   \n3    Dept. of Environmental Science, Policy and Man...  ...   \n4    The origin of animals represents one of the pi...  ...   \n..                                                 ...  ...   \n126  Pharmaceutical company with active Data Scienc...  ...   \n127                          UC Berkeley School of Law  ...   \n128  A Large multipurpose research lab managed with...  ...   \n129                                                NaN  ...   \n130                                                NaN  ...   \n\n    Please indicate the level of experience you are looking for from student applicants in each of the following skills: [Data Visualization]  \\\n0                                         Intermediate                                                                                          \n1                                             Advanced                                                                                          \n2                                        No Experience                                                                                          \n3                                             Beginner                                                                                          \n4                                         Intermediate                                                                                          \n..                                                 ...                                                                                          \n126                                           Beginner                                                                                          \n127                                       Intermediate                                                                                          \n128                                                NaN                                                                                          \n129                                                NaN                                                                                          \n130                                                NaN                                                                                          \n\n    Please indicate the level of experience you are looking for from student applicants in each of the following skills: [Geospatial Data Analysis]  \\\n0                                             Beginner                                                                                                \n1                                        No Experience                                                                                                \n2                                        No Experience                                                                                                \n3                                        No Experience                                                                                                \n4                                        No Experience                                                                                                \n..                                                 ...                                                                                                \n126                                      No Experience                                                                                                \n127                                      No Experience                                                                                                \n128                                                NaN                                                                                                \n129                                                NaN                                                                                                \n130                                                NaN                                                                                                \n\n    Please indicate the level of experience you are looking for from student applicants in each of the following skills: [Natural Language Processing]  \\\n0                                        No Experience                                                                                                   \n1                                         Intermediate                                                                                                   \n2                                         Intermediate                                                                                                   \n3                                        No Experience                                                                                                   \n4                                        No Experience                                                                                                   \n..                                                 ...                                                                                                   \n126                                      No Experience                                                                                                   \n127                                       Intermediate                                                                                                   \n128                                                NaN                                                                                                   \n129                                                NaN                                                                                                   \n130                                                NaN                                                                                                   \n\n    Please indicate the level of experience you are looking for from student applicants in each of the following skills: [Deep Learning]  \\\n0                                             Beginner                                                                                     \n1                                        No Experience                                                                                     \n2                                         Intermediate                                                                                     \n3                                             Beginner                                                                                     \n4                                         Intermediate                                                                                     \n..                                                 ...                                                                                     \n126                                           Beginner                                                                                     \n127                                      No Experience                                                                                     \n128                                                NaN                                                                                     \n129                                                NaN                                                                                     \n130                                                NaN                                                                                     \n\n    Please indicate the level of experience you are looking for from student applicants in each of the following skills: [Computer Vision]  \\\n0                                             Beginner                                                                                       \n1                                        No Experience                                                                                       \n2                                         Intermediate                                                                                       \n3                                             Beginner                                                                                       \n4                                        No Experience                                                                                       \n..                                                 ...                                                                                       \n126                                       Intermediate                                                                                       \n127                                      No Experience                                                                                       \n128                                                NaN                                                                                       \n129                                                NaN                                                                                       \n130                                                NaN                                                                                       \n\n    Please indicate the level of experience you are looking for from student applicants in each of the following skills: [Cloud Computing]  \\\n0                                        No Experience                                                                                       \n1                                        No Experience                                                                                       \n2                                         Intermediate                                                                                       \n3                                             Beginner                                                                                       \n4                                        No Experience                                                                                       \n..                                                 ...                                                                                       \n126                                           Beginner                                                                                       \n127                                      No Experience                                                                                       \n128                                                NaN                                                                                       \n129                                                NaN                                                                                       \n130                                                NaN                                                                                       \n\n                                    Additional skills:  \\\n0                                                  NaN   \n1    We use D3.js for our data visualization, and U...   \n2                                                  NaN   \n3    The critical knowledge needed relates mostly t...   \n4                                                  NaN   \n..                                                 ...   \n126                                                NaN   \n127                                                NaN   \n128                                                NaN   \n129                                                NaN   \n130                                                NaN   \n\n    Projects are more successful when the project partner can meet regularly with the student team - can you commit to meeting with the student team at least once a week?  \\\n0                                                  Yes                                                                                                                       \n1                                                  Yes                                                                                                                       \n2                                                  Yes                                                                                                                       \n3                                                  Yes                                                                                                                       \n4                                                  Yes                                                                                                                       \n..                                                 ...                                                                                                                       \n126                                                Yes                                                                                                                       \n127                                                Yes                                                                                                                       \n128                                                NaN                                                                                                                       \n129                                                NaN                                                                                                                       \n130                                                NaN                                                                                                                       \n\n    The Discovery program will regularly send out two short surveys to assess the progress of projects - can you commit to responding to all surveys?  \\\n0                                                  Yes                                                                                                  \n1                                                  Yes                                                                                                  \n2                                                  Yes                                                                                                  \n3                                                  Yes                                                                                                  \n4                                                  Yes                                                                                                  \n..                                                 ...                                                                                                  \n126                                                Yes                                                                                                  \n127                                                Yes                                                                                                  \n128                                                NaN                                                                                                  \n129                                                NaN                                                                                                  \n130                                                NaN                                                                                                  \n\n    Can you commit to ensuring a safe, professional, and inclusive work environment for the students working on the project?  \n0                                                  Yes                                                                        \n1                                                  Yes                                                                        \n2                                                  Yes                                                                        \n3                                                  Yes                                                                        \n4                                                  Yes                                                                        \n..                                                 ...                                                                        \n126                                                Yes                                                                        \n127                                                Yes                                                                        \n128                                                NaN                                                                        \n129                                                NaN                                                                        \n130                                                NaN                                                                        \n\n[131 rows x 39 columns]",
            "text/html": "<div>\n<style scoped>\n    .dataframe tbody tr th:only-of-type {\n        vertical-align: middle;\n    }\n\n    .dataframe tbody tr th {\n        vertical-align: top;\n    }\n\n    .dataframe thead th {\n        text-align: right;\n    }\n</style>\n<table border=\"1\" class=\"dataframe\">\n  <thead>\n    <tr style=\"text-align: right;\">\n      <th></th>\n      <th>Accept?</th>\n      <th>Application Link</th>\n      <th>Spreadsheet Link</th>\n      <th>Timestamp</th>\n      <th>Email Address</th>\n      <th>Name</th>\n      <th>Email</th>\n      <th>Please include the names and Gmail-linked emails of any other collaborators</th>\n      <th>Organization Name</th>\n      <th>Tell us about your organization:</th>\n      <th>...</th>\n      <th>Please indicate the level of experience you are looking for from student applicants in each of the following skills: [Data Visualization]</th>\n      <th>Please indicate the level of experience you are looking for from student applicants in each of the following skills: [Geospatial Data Analysis]</th>\n      <th>Please indicate the level of experience you are looking for from student applicants in each of the following skills: [Natural Language Processing]</th>\n      <th>Please indicate the level of experience you are looking for from student applicants in each of the following skills: [Deep Learning]</th>\n      <th>Please indicate the level of experience you are looking for from student applicants in each of the following skills: [Computer Vision]</th>\n      <th>Please indicate the level of experience you are looking for from student applicants in each of the following skills: [Cloud Computing]</th>\n      <th>Additional skills:</th>\n      <th>Projects are more successful when the project partner can meet regularly with the student team - can you commit to meeting with the student team at least once a week?</th>\n      <th>The Discovery program will regularly send out two short surveys to assess the progress of projects - can you commit to responding to all surveys?</th>\n      <th>Can you commit to ensuring a safe, professional, and inclusive work environment for the students working on the project?</th>\n    </tr>\n  </thead>\n  <tbody>\n    <tr>\n      <th>0</th>\n      <td>Yes</td>\n      <td>https://forms.gle/CBHwXdtuGh3WnBXq8</td>\n      <td>https://docs.google.com/spreadsheets/d/1_kS9JB...</td>\n      <td>3/8/2023 5:06:20</td>\n      <td>ryan_lingo@na.honda.com</td>\n      <td>Ryan Lingo</td>\n      <td>ryan_lingo@na.honda.com</td>\n      <td>ryanlingo@gmail.com</td>\n      <td>99P Labs / Honda</td>\n      <td>99P Labs / Honda</td>\n      <td>...</td>\n      <td>Intermediate</td>\n      <td>Beginner</td>\n      <td>No Experience</td>\n      <td>Beginner</td>\n      <td>Beginner</td>\n      <td>No Experience</td>\n      <td>NaN</td>\n      <td>Yes</td>\n      <td>Yes</td>\n      <td>Yes</td>\n    </tr>\n    <tr>\n      <th>1</th>\n      <td>Yes</td>\n      <td>https://forms.gle/K9P8NsiGuCbRTE9z5</td>\n      <td>https://docs.google.com/spreadsheets/d/1tB1rB-...</td>\n      <td>3/9/2023 10:57:25</td>\n      <td>nick@gauge.io</td>\n      <td>Nick Cawthon</td>\n      <td>nick@gauge.io</td>\n      <td>Nick Cawthon, nick@gauge.io</td>\n      <td>Gauge</td>\n      <td>Product Design and Data Science</td>\n      <td>...</td>\n      <td>Advanced</td>\n      <td>No Experience</td>\n      <td>Intermediate</td>\n      <td>No Experience</td>\n      <td>No Experience</td>\n      <td>No Experience</td>\n      <td>We use D3.js for our data visualization, and U...</td>\n      <td>Yes</td>\n      <td>Yes</td>\n      <td>Yes</td>\n    </tr>\n    <tr>\n      <th>2</th>\n      <td>Yes</td>\n      <td>https://forms.gle/TcsAvvGSuiqzGDgz7</td>\n      <td>https://docs.google.com/spreadsheets/d/1zSJSAq...</td>\n      <td>3/9/2023 11:03:27</td>\n      <td>nick@gauge.io</td>\n      <td>Nick Cawthon</td>\n      <td>nick@gauge.io</td>\n      <td>Nick Cawthon, nick@gauge.io</td>\n      <td>Gauge</td>\n      <td>Product Design and Data Science agency in the ...</td>\n      <td>...</td>\n      <td>No Experience</td>\n      <td>No Experience</td>\n      <td>Intermediate</td>\n      <td>Intermediate</td>\n      <td>Intermediate</td>\n      <td>Intermediate</td>\n      <td>NaN</td>\n      <td>Yes</td>\n      <td>Yes</td>\n      <td>Yes</td>\n    </tr>\n    <tr>\n      <th>3</th>\n      <td>Yes</td>\n      <td>https://forms.gle/U3AeRkSWfnKkURzV9</td>\n      <td>https://docs.google.com/spreadsheets/d/1kPbvIB...</td>\n      <td>3/13/2023 15:48:24</td>\n      <td>brashares@berkeley.edu</td>\n      <td>Justin Brashares</td>\n      <td>brashares@berkeley.edu</td>\n      <td>NaN</td>\n      <td>UC Berkeley Dept. of Environmental Science, Po...</td>\n      <td>Dept. of Environmental Science, Policy and Man...</td>\n      <td>...</td>\n      <td>Beginner</td>\n      <td>No Experience</td>\n      <td>No Experience</td>\n      <td>Beginner</td>\n      <td>Beginner</td>\n      <td>Beginner</td>\n      <td>The critical knowledge needed relates mostly t...</td>\n      <td>Yes</td>\n      <td>Yes</td>\n      <td>Yes</td>\n    </tr>\n    <tr>\n      <th>4</th>\n      <td>Yes</td>\n      <td>https://forms.gle/7c8wXqtXasNffyNE7</td>\n      <td>https://docs.google.com/spreadsheets/d/1S4Zx_q...</td>\n      <td>3/13/2023 17:04:04</td>\n      <td>jlsteenwyk@berkeley.edu</td>\n      <td>Jacob L. Steenwyk</td>\n      <td>jlsteenwyk@berkeley.edu</td>\n      <td>Nicole King, nking@berkeley.edu</td>\n      <td>UC-Berkeley &amp; HHMI</td>\n      <td>The origin of animals represents one of the pi...</td>\n      <td>...</td>\n      <td>Intermediate</td>\n      <td>No Experience</td>\n      <td>No Experience</td>\n      <td>Intermediate</td>\n      <td>No Experience</td>\n      <td>No Experience</td>\n      <td>NaN</td>\n      <td>Yes</td>\n      <td>Yes</td>\n      <td>Yes</td>\n    </tr>\n    <tr>\n      <th>...</th>\n      <td>...</td>\n      <td>...</td>\n      <td>...</td>\n      <td>...</td>\n      <td>...</td>\n      <td>...</td>\n      <td>...</td>\n      <td>...</td>\n      <td>...</td>\n      <td>...</td>\n      <td>...</td>\n      <td>...</td>\n      <td>...</td>\n      <td>...</td>\n      <td>...</td>\n      <td>...</td>\n      <td>...</td>\n      <td>...</td>\n      <td>...</td>\n      <td>...</td>\n      <td>...</td>\n    </tr>\n    <tr>\n      <th>126</th>\n      <td>NaN</td>\n      <td>https://forms.gle/Lc9cpUC49Vx8YWxP6</td>\n      <td>https://docs.google.com/spreadsheets/d/1tvQvRg...</td>\n      <td>8/22/2023 11:52:16</td>\n      <td>rajathelias@gmail.com</td>\n      <td>Rajath Soans</td>\n      <td>soans@merck.com</td>\n      <td>rajathelias@gmail.com</td>\n      <td>Merck &amp; Co.</td>\n      <td>Pharmaceutical company with active Data Scienc...</td>\n      <td>...</td>\n      <td>Beginner</td>\n      <td>No Experience</td>\n      <td>No Experience</td>\n      <td>Beginner</td>\n      <td>Intermediate</td>\n      <td>Beginner</td>\n      <td>NaN</td>\n      <td>Yes</td>\n      <td>Yes</td>\n      <td>Yes</td>\n    </tr>\n    <tr>\n      <th>127</th>\n      <td>Yes</td>\n      <td>Returning Partner</td>\n      <td>Returning Partner</td>\n      <td>9/5/2023 9:43:58</td>\n      <td>tnarecha@berkeley.edu</td>\n      <td>Tejas Narechania</td>\n      <td>tnarecha@berkeley.edu</td>\n      <td>NaN</td>\n      <td>UC Berkeley School of Law</td>\n      <td>UC Berkeley School of Law</td>\n      <td>...</td>\n      <td>Intermediate</td>\n      <td>No Experience</td>\n      <td>Intermediate</td>\n      <td>No Experience</td>\n      <td>No Experience</td>\n      <td>No Experience</td>\n      <td>NaN</td>\n      <td>Yes</td>\n      <td>Yes</td>\n      <td>Yes</td>\n    </tr>\n    <tr>\n      <th>128</th>\n      <td>NaN</td>\n      <td>NaN</td>\n      <td>https://docs.google.com/spreadsheets/d/1y2sSM5...</td>\n      <td>NaN</td>\n      <td>kwu@lbl.gov</td>\n      <td>John Wu</td>\n      <td>kwu@lbl.gov</td>\n      <td>kwu@lbl.gov</td>\n      <td>Lawrence Berkeley National Laboratory</td>\n      <td>A Large multipurpose research lab managed with...</td>\n      <td>...</td>\n      <td>NaN</td>\n      <td>NaN</td>\n      <td>NaN</td>\n      <td>NaN</td>\n      <td>NaN</td>\n      <td>NaN</td>\n      <td>NaN</td>\n      <td>NaN</td>\n      <td>NaN</td>\n      <td>NaN</td>\n    </tr>\n    <tr>\n      <th>129</th>\n      <td>NaN</td>\n      <td>NaN</td>\n      <td>https://docs.google.com/spreadsheets/d/19dMhEc...</td>\n      <td>NaN</td>\n      <td>ESfecla@bop.gov</td>\n      <td>Ellen McCann Sfecla</td>\n      <td>ESfecla@bop.gov</td>\n      <td>dstrote@bop.gov</td>\n      <td>Federal Bureau of Prisons</td>\n      <td>NaN</td>\n      <td>...</td>\n      <td>NaN</td>\n      <td>NaN</td>\n      <td>NaN</td>\n      <td>NaN</td>\n      <td>NaN</td>\n      <td>NaN</td>\n      <td>NaN</td>\n      <td>NaN</td>\n      <td>NaN</td>\n      <td>NaN</td>\n    </tr>\n    <tr>\n      <th>130</th>\n      <td>NaN</td>\n      <td>Returning Partner</td>\n      <td>Returning Partner</td>\n      <td>NaN</td>\n      <td>italoivo@gmail.com</td>\n      <td>Italo Pinto</td>\n      <td>italoivo@gmail.com</td>\n      <td>javier.o.garcia.civ@army.mil</td>\n      <td>US DEVCOM Army Research Laboratory</td>\n      <td>NaN</td>\n      <td>...</td>\n      <td>NaN</td>\n      <td>NaN</td>\n      <td>NaN</td>\n      <td>NaN</td>\n      <td>NaN</td>\n      <td>NaN</td>\n      <td>NaN</td>\n      <td>NaN</td>\n      <td>NaN</td>\n      <td>NaN</td>\n    </tr>\n  </tbody>\n</table>\n<p>131 rows × 39 columns</p>\n</div>"
          },
          "metadata": {}
        }
      ]
    },
    {
      "cell_type": "code",
      "metadata": {
        "source_hash": "c8b7ba6d",
        "execution_start": 1726856019088,
        "execution_millis": 1,
        "execution_context_id": "c078ca54-8cfa-4172-9d38-bf0242bd3596",
        "deepnote_to_be_reexecuted": false,
        "cell_id": "adebef03dc23446f858204b7fb4a2a0e",
        "deepnote_cell_type": "code",
        "id": "XGaX6rVsMTj4",
        "outputId": "d00342d9-0665-4b3f-d28d-e0a344de65a5"
      },
      "source": [
        "skills = partnerInfo.iloc[:,25:35]\n",
        "skills[\"Project Title\"] = partnerInfo[\"Project Title:\"]\n",
        "skills"
      ],
      "execution_count": null,
      "outputs": [
        {
          "name": "stderr",
          "text": "/tmp/ipykernel_97/3591008504.py:2: SettingWithCopyWarning: \nA value is trying to be set on a copy of a slice from a DataFrame.\nTry using .loc[row_indexer,col_indexer] = value instead\n\nSee the caveats in the documentation: https://pandas.pydata.org/pandas-docs/stable/user_guide/indexing.html#returning-a-view-versus-a-copy\n  skills[\"Project Title\"] = partnerInfo[\"Project Title:\"]\n",
          "output_type": "stream"
        },
        {
          "output_type": "execute_result",
          "execution_count": 4,
          "data": {
            "application/vnd.deepnote.dataframe.v3+json": {
              "column_count": 11,
              "row_count": 131,
              "columns": [
                {
                  "name": "Please indicate the level of experience you are looking for from student applicants in each of the following skills: [Python]",
                  "dtype": "object",
                  "stats": {
                    "unique_count": 4,
                    "nan_count": 3,
                    "categories": [
                      {
                        "name": "Intermediate",
                        "count": 64
                      },
                      {
                        "name": "3 others",
                        "count": 64
                      },
                      {
                        "name": "Missing",
                        "count": 3
                      }
                    ]
                  }
                },
                {
                  "name": "Please indicate the level of experience you are looking for from student applicants in each of the following skills: [R]",
                  "dtype": "object",
                  "stats": {
                    "unique_count": 4,
                    "nan_count": 3,
                    "categories": [
                      {
                        "name": "No Experience",
                        "count": 71
                      },
                      {
                        "name": "3 others",
                        "count": 57
                      },
                      {
                        "name": "Missing",
                        "count": 3
                      }
                    ]
                  }
                },
                {
                  "name": "Please indicate the level of experience you are looking for from student applicants in each of the following skills: [SQL]",
                  "dtype": "object",
                  "stats": {
                    "unique_count": 4,
                    "nan_count": 3,
                    "categories": [
                      {
                        "name": "No Experience",
                        "count": 73
                      },
                      {
                        "name": "3 others",
                        "count": 55
                      },
                      {
                        "name": "Missing",
                        "count": 3
                      }
                    ]
                  }
                },
                {
                  "name": "Please indicate the level of experience you are looking for from student applicants in each of the following skills: [Exploratory Data Analysis]",
                  "dtype": "object",
                  "stats": {
                    "unique_count": 4,
                    "nan_count": 3,
                    "categories": [
                      {
                        "name": "Intermediate",
                        "count": 56
                      },
                      {
                        "name": "3 others",
                        "count": 72
                      },
                      {
                        "name": "Missing",
                        "count": 3
                      }
                    ]
                  }
                },
                {
                  "name": "Please indicate the level of experience you are looking for from student applicants in each of the following skills: [Data Visualization]",
                  "dtype": "object",
                  "stats": {
                    "unique_count": 4,
                    "nan_count": 3,
                    "categories": [
                      {
                        "name": "Intermediate",
                        "count": 63
                      },
                      {
                        "name": "3 others",
                        "count": 65
                      },
                      {
                        "name": "Missing",
                        "count": 3
                      }
                    ]
                  }
                },
                {
                  "name": "Please indicate the level of experience you are looking for from student applicants in each of the following skills: [Geospatial Data Analysis]",
                  "dtype": "object",
                  "stats": {
                    "unique_count": 4,
                    "nan_count": 3,
                    "categories": [
                      {
                        "name": "No Experience",
                        "count": 82
                      },
                      {
                        "name": "3 others",
                        "count": 46
                      },
                      {
                        "name": "Missing",
                        "count": 3
                      }
                    ]
                  }
                },
                {
                  "name": "Please indicate the level of experience you are looking for from student applicants in each of the following skills: [Natural Language Processing]",
                  "dtype": "object",
                  "stats": {
                    "unique_count": 4,
                    "nan_count": 3,
                    "categories": [
                      {
                        "name": "No Experience",
                        "count": 73
                      },
                      {
                        "name": "3 others",
                        "count": 55
                      },
                      {
                        "name": "Missing",
                        "count": 3
                      }
                    ]
                  }
                },
                {
                  "name": "Please indicate the level of experience you are looking for from student applicants in each of the following skills: [Deep Learning]",
                  "dtype": "object",
                  "stats": {
                    "unique_count": 4,
                    "nan_count": 3,
                    "categories": [
                      {
                        "name": "No Experience",
                        "count": 61
                      },
                      {
                        "name": "3 others",
                        "count": 67
                      },
                      {
                        "name": "Missing",
                        "count": 3
                      }
                    ]
                  }
                },
                {
                  "name": "Please indicate the level of experience you are looking for from student applicants in each of the following skills: [Computer Vision]",
                  "dtype": "object",
                  "stats": {
                    "unique_count": 4,
                    "nan_count": 3,
                    "categories": [
                      {
                        "name": "No Experience",
                        "count": 83
                      },
                      {
                        "name": "3 others",
                        "count": 45
                      },
                      {
                        "name": "Missing",
                        "count": 3
                      }
                    ]
                  }
                },
                {
                  "name": "Please indicate the level of experience you are looking for from student applicants in each of the following skills: [Cloud Computing]",
                  "dtype": "object",
                  "stats": {
                    "unique_count": 4,
                    "nan_count": 3,
                    "categories": [
                      {
                        "name": "No Experience",
                        "count": 58
                      },
                      {
                        "name": "3 others",
                        "count": 70
                      },
                      {
                        "name": "Missing",
                        "count": 3
                      }
                    ]
                  }
                },
                {
                  "name": "Project Title",
                  "dtype": "object",
                  "stats": {
                    "unique_count": 131,
                    "nan_count": 0,
                    "categories": [
                      {
                        "name": "Mobility Analytics",
                        "count": 1
                      },
                      {
                        "name": "Transparency in Segmentation Algorithms",
                        "count": 1
                      },
                      {
                        "name": "129 others",
                        "count": 129
                      }
                    ]
                  }
                },
                {
                  "name": "_deepnote_index_column",
                  "dtype": "int64"
                }
              ],
              "rows": [
                {
                  "Please indicate the level of experience you are looking for from student applicants in each of the following skills: [Python]": "Intermediate",
                  "Please indicate the level of experience you are looking for from student applicants in each of the following skills: [R]": "No Experience",
                  "Please indicate the level of experience you are looking for from student applicants in each of the following skills: [SQL]": "No Experience",
                  "Please indicate the level of experience you are looking for from student applicants in each of the following skills: [Exploratory Data Analysis]": "Intermediate",
                  "Please indicate the level of experience you are looking for from student applicants in each of the following skills: [Data Visualization]": "Intermediate",
                  "Please indicate the level of experience you are looking for from student applicants in each of the following skills: [Geospatial Data Analysis]": "Beginner",
                  "Please indicate the level of experience you are looking for from student applicants in each of the following skills: [Natural Language Processing]": "No Experience",
                  "Please indicate the level of experience you are looking for from student applicants in each of the following skills: [Deep Learning]": "Beginner",
                  "Please indicate the level of experience you are looking for from student applicants in each of the following skills: [Computer Vision]": "Beginner",
                  "Please indicate the level of experience you are looking for from student applicants in each of the following skills: [Cloud Computing]": "No Experience",
                  "Project Title": "Mobility Analytics",
                  "_deepnote_index_column": 0
                },
                {
                  "Please indicate the level of experience you are looking for from student applicants in each of the following skills: [Python]": "Intermediate",
                  "Please indicate the level of experience you are looking for from student applicants in each of the following skills: [R]": "No Experience",
                  "Please indicate the level of experience you are looking for from student applicants in each of the following skills: [SQL]": "No Experience",
                  "Please indicate the level of experience you are looking for from student applicants in each of the following skills: [Exploratory Data Analysis]": "Intermediate",
                  "Please indicate the level of experience you are looking for from student applicants in each of the following skills: [Data Visualization]": "Advanced",
                  "Please indicate the level of experience you are looking for from student applicants in each of the following skills: [Geospatial Data Analysis]": "No Experience",
                  "Please indicate the level of experience you are looking for from student applicants in each of the following skills: [Natural Language Processing]": "Intermediate",
                  "Please indicate the level of experience you are looking for from student applicants in each of the following skills: [Deep Learning]": "No Experience",
                  "Please indicate the level of experience you are looking for from student applicants in each of the following skills: [Computer Vision]": "No Experience",
                  "Please indicate the level of experience you are looking for from student applicants in each of the following skills: [Cloud Computing]": "No Experience",
                  "Project Title": "Transparency in Segmentation Algorithms",
                  "_deepnote_index_column": 1
                },
                {
                  "Please indicate the level of experience you are looking for from student applicants in each of the following skills: [Python]": "Intermediate",
                  "Please indicate the level of experience you are looking for from student applicants in each of the following skills: [R]": "No Experience",
                  "Please indicate the level of experience you are looking for from student applicants in each of the following skills: [SQL]": "No Experience",
                  "Please indicate the level of experience you are looking for from student applicants in each of the following skills: [Exploratory Data Analysis]": "Intermediate",
                  "Please indicate the level of experience you are looking for from student applicants in each of the following skills: [Data Visualization]": "No Experience",
                  "Please indicate the level of experience you are looking for from student applicants in each of the following skills: [Geospatial Data Analysis]": "No Experience",
                  "Please indicate the level of experience you are looking for from student applicants in each of the following skills: [Natural Language Processing]": "Intermediate",
                  "Please indicate the level of experience you are looking for from student applicants in each of the following skills: [Deep Learning]": "Intermediate",
                  "Please indicate the level of experience you are looking for from student applicants in each of the following skills: [Computer Vision]": "Intermediate",
                  "Please indicate the level of experience you are looking for from student applicants in each of the following skills: [Cloud Computing]": "Intermediate",
                  "Project Title": "Image-to-Text for an Accessible Web",
                  "_deepnote_index_column": 2
                },
                {
                  "Please indicate the level of experience you are looking for from student applicants in each of the following skills: [Python]": "Intermediate",
                  "Please indicate the level of experience you are looking for from student applicants in each of the following skills: [R]": "Beginner",
                  "Please indicate the level of experience you are looking for from student applicants in each of the following skills: [SQL]": "Beginner",
                  "Please indicate the level of experience you are looking for from student applicants in each of the following skills: [Exploratory Data Analysis]": "Beginner",
                  "Please indicate the level of experience you are looking for from student applicants in each of the following skills: [Data Visualization]": "Beginner",
                  "Please indicate the level of experience you are looking for from student applicants in each of the following skills: [Geospatial Data Analysis]": "No Experience",
                  "Please indicate the level of experience you are looking for from student applicants in each of the following skills: [Natural Language Processing]": "No Experience",
                  "Please indicate the level of experience you are looking for from student applicants in each of the following skills: [Deep Learning]": "Beginner",
                  "Please indicate the level of experience you are looking for from student applicants in each of the following skills: [Computer Vision]": "Beginner",
                  "Please indicate the level of experience you are looking for from student applicants in each of the following skills: [Cloud Computing]": "Beginner",
                  "Project Title": "ML for biodiversity monitoring",
                  "_deepnote_index_column": 3
                },
                {
                  "Please indicate the level of experience you are looking for from student applicants in each of the following skills: [Python]": "Intermediate",
                  "Please indicate the level of experience you are looking for from student applicants in each of the following skills: [R]": "No Experience",
                  "Please indicate the level of experience you are looking for from student applicants in each of the following skills: [SQL]": "No Experience",
                  "Please indicate the level of experience you are looking for from student applicants in each of the following skills: [Exploratory Data Analysis]": "Intermediate",
                  "Please indicate the level of experience you are looking for from student applicants in each of the following skills: [Data Visualization]": "Intermediate",
                  "Please indicate the level of experience you are looking for from student applicants in each of the following skills: [Geospatial Data Analysis]": "No Experience",
                  "Please indicate the level of experience you are looking for from student applicants in each of the following skills: [Natural Language Processing]": "No Experience",
                  "Please indicate the level of experience you are looking for from student applicants in each of the following skills: [Deep Learning]": "Intermediate",
                  "Please indicate the level of experience you are looking for from student applicants in each of the following skills: [Computer Vision]": "No Experience",
                  "Please indicate the level of experience you are looking for from student applicants in each of the following skills: [Cloud Computing]": "No Experience",
                  "Project Title": "Using machine learning to elucidate the genetic underpinnings of multicellularity",
                  "_deepnote_index_column": 4
                },
                {
                  "Please indicate the level of experience you are looking for from student applicants in each of the following skills: [Python]": "Intermediate",
                  "Please indicate the level of experience you are looking for from student applicants in each of the following skills: [R]": "Intermediate",
                  "Please indicate the level of experience you are looking for from student applicants in each of the following skills: [SQL]": "No Experience",
                  "Please indicate the level of experience you are looking for from student applicants in each of the following skills: [Exploratory Data Analysis]": "Advanced",
                  "Please indicate the level of experience you are looking for from student applicants in each of the following skills: [Data Visualization]": "Advanced",
                  "Please indicate the level of experience you are looking for from student applicants in each of the following skills: [Geospatial Data Analysis]": "No Experience",
                  "Please indicate the level of experience you are looking for from student applicants in each of the following skills: [Natural Language Processing]": "Beginner",
                  "Please indicate the level of experience you are looking for from student applicants in each of the following skills: [Deep Learning]": "Beginner",
                  "Please indicate the level of experience you are looking for from student applicants in each of the following skills: [Computer Vision]": "Intermediate",
                  "Please indicate the level of experience you are looking for from student applicants in each of the following skills: [Cloud Computing]": "No Experience",
                  "Project Title": "SALT Research Group Data Post-Processing App Suite, UC Berkeley Nuclear Engineering",
                  "_deepnote_index_column": 5
                },
                {
                  "Please indicate the level of experience you are looking for from student applicants in each of the following skills: [Python]": "Advanced",
                  "Please indicate the level of experience you are looking for from student applicants in each of the following skills: [R]": "Advanced",
                  "Please indicate the level of experience you are looking for from student applicants in each of the following skills: [SQL]": "No Experience",
                  "Please indicate the level of experience you are looking for from student applicants in each of the following skills: [Exploratory Data Analysis]": "Intermediate",
                  "Please indicate the level of experience you are looking for from student applicants in each of the following skills: [Data Visualization]": "Intermediate",
                  "Please indicate the level of experience you are looking for from student applicants in each of the following skills: [Geospatial Data Analysis]": "No Experience",
                  "Please indicate the level of experience you are looking for from student applicants in each of the following skills: [Natural Language Processing]": "Advanced",
                  "Please indicate the level of experience you are looking for from student applicants in each of the following skills: [Deep Learning]": "Advanced",
                  "Please indicate the level of experience you are looking for from student applicants in each of the following skills: [Computer Vision]": "Advanced",
                  "Please indicate the level of experience you are looking for from student applicants in each of the following skills: [Cloud Computing]": "Intermediate",
                  "Project Title": "Deep learning and language",
                  "_deepnote_index_column": 6
                },
                {
                  "Please indicate the level of experience you are looking for from student applicants in each of the following skills: [Python]": "Intermediate",
                  "Please indicate the level of experience you are looking for from student applicants in each of the following skills: [R]": "No Experience",
                  "Please indicate the level of experience you are looking for from student applicants in each of the following skills: [SQL]": "No Experience",
                  "Please indicate the level of experience you are looking for from student applicants in each of the following skills: [Exploratory Data Analysis]": "Intermediate",
                  "Please indicate the level of experience you are looking for from student applicants in each of the following skills: [Data Visualization]": "Intermediate",
                  "Please indicate the level of experience you are looking for from student applicants in each of the following skills: [Geospatial Data Analysis]": "No Experience",
                  "Please indicate the level of experience you are looking for from student applicants in each of the following skills: [Natural Language Processing]": "No Experience",
                  "Please indicate the level of experience you are looking for from student applicants in each of the following skills: [Deep Learning]": "Intermediate",
                  "Please indicate the level of experience you are looking for from student applicants in each of the following skills: [Computer Vision]": "No Experience",
                  "Please indicate the level of experience you are looking for from student applicants in each of the following skills: [Cloud Computing]": "No Experience",
                  "Project Title": "Classification of Dislocation Cores in HCP and BCC Metals",
                  "_deepnote_index_column": 7
                },
                {
                  "Please indicate the level of experience you are looking for from student applicants in each of the following skills: [Python]": "Intermediate",
                  "Please indicate the level of experience you are looking for from student applicants in each of the following skills: [R]": "Intermediate",
                  "Please indicate the level of experience you are looking for from student applicants in each of the following skills: [SQL]": "Intermediate",
                  "Please indicate the level of experience you are looking for from student applicants in each of the following skills: [Exploratory Data Analysis]": "Intermediate",
                  "Please indicate the level of experience you are looking for from student applicants in each of the following skills: [Data Visualization]": "Beginner",
                  "Please indicate the level of experience you are looking for from student applicants in each of the following skills: [Geospatial Data Analysis]": "No Experience",
                  "Please indicate the level of experience you are looking for from student applicants in each of the following skills: [Natural Language Processing]": "No Experience",
                  "Please indicate the level of experience you are looking for from student applicants in each of the following skills: [Deep Learning]": "No Experience",
                  "Please indicate the level of experience you are looking for from student applicants in each of the following skills: [Computer Vision]": "No Experience",
                  "Please indicate the level of experience you are looking for from student applicants in each of the following skills: [Cloud Computing]": "Beginner",
                  "Project Title": "Designing Cybersecure Responsive Environments: Evaluating Design Interventions",
                  "_deepnote_index_column": 8
                },
                {
                  "Please indicate the level of experience you are looking for from student applicants in each of the following skills: [Python]": "Advanced",
                  "Please indicate the level of experience you are looking for from student applicants in each of the following skills: [R]": "No Experience",
                  "Please indicate the level of experience you are looking for from student applicants in each of the following skills: [SQL]": "No Experience",
                  "Please indicate the level of experience you are looking for from student applicants in each of the following skills: [Exploratory Data Analysis]": "No Experience",
                  "Please indicate the level of experience you are looking for from student applicants in each of the following skills: [Data Visualization]": "No Experience",
                  "Please indicate the level of experience you are looking for from student applicants in each of the following skills: [Geospatial Data Analysis]": "No Experience",
                  "Please indicate the level of experience you are looking for from student applicants in each of the following skills: [Natural Language Processing]": "Intermediate",
                  "Please indicate the level of experience you are looking for from student applicants in each of the following skills: [Deep Learning]": "Intermediate",
                  "Please indicate the level of experience you are looking for from student applicants in each of the following skills: [Computer Vision]": "No Experience",
                  "Please indicate the level of experience you are looking for from student applicants in each of the following skills: [Cloud Computing]": "Intermediate",
                  "Project Title": "ChatCHW for community health workers ",
                  "_deepnote_index_column": 9
                }
              ]
            },
            "text/plain": "    Please indicate the level of experience you are looking for from student applicants in each of the following skills: [Python]  \\\n0                                         Intermediate                                                                              \n1                                         Intermediate                                                                              \n2                                         Intermediate                                                                              \n3                                         Intermediate                                                                              \n4                                         Intermediate                                                                              \n..                                                 ...                                                                              \n126                                       Intermediate                                                                              \n127                                           Beginner                                                                              \n128                                                NaN                                                                              \n129                                                NaN                                                                              \n130                                                NaN                                                                              \n\n    Please indicate the level of experience you are looking for from student applicants in each of the following skills: [R]  \\\n0                                        No Experience                                                                         \n1                                        No Experience                                                                         \n2                                        No Experience                                                                         \n3                                             Beginner                                                                         \n4                                        No Experience                                                                         \n..                                                 ...                                                                         \n126                                      No Experience                                                                         \n127                                      No Experience                                                                         \n128                                                NaN                                                                         \n129                                                NaN                                                                         \n130                                                NaN                                                                         \n\n    Please indicate the level of experience you are looking for from student applicants in each of the following skills: [SQL]  \\\n0                                        No Experience                                                                           \n1                                        No Experience                                                                           \n2                                        No Experience                                                                           \n3                                             Beginner                                                                           \n4                                        No Experience                                                                           \n..                                                 ...                                                                           \n126                                      No Experience                                                                           \n127                                           Beginner                                                                           \n128                                                NaN                                                                           \n129                                                NaN                                                                           \n130                                                NaN                                                                           \n\n    Please indicate the level of experience you are looking for from student applicants in each of the following skills: [Exploratory Data Analysis]  \\\n0                                         Intermediate                                                                                                 \n1                                         Intermediate                                                                                                 \n2                                         Intermediate                                                                                                 \n3                                             Beginner                                                                                                 \n4                                         Intermediate                                                                                                 \n..                                                 ...                                                                                                 \n126                                           Beginner                                                                                                 \n127                                      No Experience                                                                                                 \n128                                                NaN                                                                                                 \n129                                                NaN                                                                                                 \n130                                                NaN                                                                                                 \n\n    Please indicate the level of experience you are looking for from student applicants in each of the following skills: [Data Visualization]  \\\n0                                         Intermediate                                                                                          \n1                                             Advanced                                                                                          \n2                                        No Experience                                                                                          \n3                                             Beginner                                                                                          \n4                                         Intermediate                                                                                          \n..                                                 ...                                                                                          \n126                                           Beginner                                                                                          \n127                                       Intermediate                                                                                          \n128                                                NaN                                                                                          \n129                                                NaN                                                                                          \n130                                                NaN                                                                                          \n\n    Please indicate the level of experience you are looking for from student applicants in each of the following skills: [Geospatial Data Analysis]  \\\n0                                             Beginner                                                                                                \n1                                        No Experience                                                                                                \n2                                        No Experience                                                                                                \n3                                        No Experience                                                                                                \n4                                        No Experience                                                                                                \n..                                                 ...                                                                                                \n126                                      No Experience                                                                                                \n127                                      No Experience                                                                                                \n128                                                NaN                                                                                                \n129                                                NaN                                                                                                \n130                                                NaN                                                                                                \n\n    Please indicate the level of experience you are looking for from student applicants in each of the following skills: [Natural Language Processing]  \\\n0                                        No Experience                                                                                                   \n1                                         Intermediate                                                                                                   \n2                                         Intermediate                                                                                                   \n3                                        No Experience                                                                                                   \n4                                        No Experience                                                                                                   \n..                                                 ...                                                                                                   \n126                                      No Experience                                                                                                   \n127                                       Intermediate                                                                                                   \n128                                                NaN                                                                                                   \n129                                                NaN                                                                                                   \n130                                                NaN                                                                                                   \n\n    Please indicate the level of experience you are looking for from student applicants in each of the following skills: [Deep Learning]  \\\n0                                             Beginner                                                                                     \n1                                        No Experience                                                                                     \n2                                         Intermediate                                                                                     \n3                                             Beginner                                                                                     \n4                                         Intermediate                                                                                     \n..                                                 ...                                                                                     \n126                                           Beginner                                                                                     \n127                                      No Experience                                                                                     \n128                                                NaN                                                                                     \n129                                                NaN                                                                                     \n130                                                NaN                                                                                     \n\n    Please indicate the level of experience you are looking for from student applicants in each of the following skills: [Computer Vision]  \\\n0                                             Beginner                                                                                       \n1                                        No Experience                                                                                       \n2                                         Intermediate                                                                                       \n3                                             Beginner                                                                                       \n4                                        No Experience                                                                                       \n..                                                 ...                                                                                       \n126                                       Intermediate                                                                                       \n127                                      No Experience                                                                                       \n128                                                NaN                                                                                       \n129                                                NaN                                                                                       \n130                                                NaN                                                                                       \n\n    Please indicate the level of experience you are looking for from student applicants in each of the following skills: [Cloud Computing]  \\\n0                                        No Experience                                                                                       \n1                                        No Experience                                                                                       \n2                                         Intermediate                                                                                       \n3                                             Beginner                                                                                       \n4                                        No Experience                                                                                       \n..                                                 ...                                                                                       \n126                                           Beginner                                                                                       \n127                                      No Experience                                                                                       \n128                                                NaN                                                                                       \n129                                                NaN                                                                                       \n130                                                NaN                                                                                       \n\n                                         Project Title  \n0                                   Mobility Analytics  \n1              Transparency in Segmentation Algorithms  \n2                  Image-to-Text for an Accessible Web  \n3                       ML for biodiversity monitoring  \n4    Using machine learning to elucidate the geneti...  \n..                                                 ...  \n126  Automated Quality Control and Analysis of Hist...  \n127                       Supreme Court Opinion Viewer  \n128  Network performance prediction and anomaly det...  \n129  Recidivism Coding Project: Investigating Poten...  \n130  Estimating human-technology team consensus and...  \n\n[131 rows x 11 columns]",
            "text/html": "<div>\n<style scoped>\n    .dataframe tbody tr th:only-of-type {\n        vertical-align: middle;\n    }\n\n    .dataframe tbody tr th {\n        vertical-align: top;\n    }\n\n    .dataframe thead th {\n        text-align: right;\n    }\n</style>\n<table border=\"1\" class=\"dataframe\">\n  <thead>\n    <tr style=\"text-align: right;\">\n      <th></th>\n      <th>Please indicate the level of experience you are looking for from student applicants in each of the following skills: [Python]</th>\n      <th>Please indicate the level of experience you are looking for from student applicants in each of the following skills: [R]</th>\n      <th>Please indicate the level of experience you are looking for from student applicants in each of the following skills: [SQL]</th>\n      <th>Please indicate the level of experience you are looking for from student applicants in each of the following skills: [Exploratory Data Analysis]</th>\n      <th>Please indicate the level of experience you are looking for from student applicants in each of the following skills: [Data Visualization]</th>\n      <th>Please indicate the level of experience you are looking for from student applicants in each of the following skills: [Geospatial Data Analysis]</th>\n      <th>Please indicate the level of experience you are looking for from student applicants in each of the following skills: [Natural Language Processing]</th>\n      <th>Please indicate the level of experience you are looking for from student applicants in each of the following skills: [Deep Learning]</th>\n      <th>Please indicate the level of experience you are looking for from student applicants in each of the following skills: [Computer Vision]</th>\n      <th>Please indicate the level of experience you are looking for from student applicants in each of the following skills: [Cloud Computing]</th>\n      <th>Project Title</th>\n    </tr>\n  </thead>\n  <tbody>\n    <tr>\n      <th>0</th>\n      <td>Intermediate</td>\n      <td>No Experience</td>\n      <td>No Experience</td>\n      <td>Intermediate</td>\n      <td>Intermediate</td>\n      <td>Beginner</td>\n      <td>No Experience</td>\n      <td>Beginner</td>\n      <td>Beginner</td>\n      <td>No Experience</td>\n      <td>Mobility Analytics</td>\n    </tr>\n    <tr>\n      <th>1</th>\n      <td>Intermediate</td>\n      <td>No Experience</td>\n      <td>No Experience</td>\n      <td>Intermediate</td>\n      <td>Advanced</td>\n      <td>No Experience</td>\n      <td>Intermediate</td>\n      <td>No Experience</td>\n      <td>No Experience</td>\n      <td>No Experience</td>\n      <td>Transparency in Segmentation Algorithms</td>\n    </tr>\n    <tr>\n      <th>2</th>\n      <td>Intermediate</td>\n      <td>No Experience</td>\n      <td>No Experience</td>\n      <td>Intermediate</td>\n      <td>No Experience</td>\n      <td>No Experience</td>\n      <td>Intermediate</td>\n      <td>Intermediate</td>\n      <td>Intermediate</td>\n      <td>Intermediate</td>\n      <td>Image-to-Text for an Accessible Web</td>\n    </tr>\n    <tr>\n      <th>3</th>\n      <td>Intermediate</td>\n      <td>Beginner</td>\n      <td>Beginner</td>\n      <td>Beginner</td>\n      <td>Beginner</td>\n      <td>No Experience</td>\n      <td>No Experience</td>\n      <td>Beginner</td>\n      <td>Beginner</td>\n      <td>Beginner</td>\n      <td>ML for biodiversity monitoring</td>\n    </tr>\n    <tr>\n      <th>4</th>\n      <td>Intermediate</td>\n      <td>No Experience</td>\n      <td>No Experience</td>\n      <td>Intermediate</td>\n      <td>Intermediate</td>\n      <td>No Experience</td>\n      <td>No Experience</td>\n      <td>Intermediate</td>\n      <td>No Experience</td>\n      <td>No Experience</td>\n      <td>Using machine learning to elucidate the geneti...</td>\n    </tr>\n    <tr>\n      <th>...</th>\n      <td>...</td>\n      <td>...</td>\n      <td>...</td>\n      <td>...</td>\n      <td>...</td>\n      <td>...</td>\n      <td>...</td>\n      <td>...</td>\n      <td>...</td>\n      <td>...</td>\n      <td>...</td>\n    </tr>\n    <tr>\n      <th>126</th>\n      <td>Intermediate</td>\n      <td>No Experience</td>\n      <td>No Experience</td>\n      <td>Beginner</td>\n      <td>Beginner</td>\n      <td>No Experience</td>\n      <td>No Experience</td>\n      <td>Beginner</td>\n      <td>Intermediate</td>\n      <td>Beginner</td>\n      <td>Automated Quality Control and Analysis of Hist...</td>\n    </tr>\n    <tr>\n      <th>127</th>\n      <td>Beginner</td>\n      <td>No Experience</td>\n      <td>Beginner</td>\n      <td>No Experience</td>\n      <td>Intermediate</td>\n      <td>No Experience</td>\n      <td>Intermediate</td>\n      <td>No Experience</td>\n      <td>No Experience</td>\n      <td>No Experience</td>\n      <td>Supreme Court Opinion Viewer</td>\n    </tr>\n    <tr>\n      <th>128</th>\n      <td>NaN</td>\n      <td>NaN</td>\n      <td>NaN</td>\n      <td>NaN</td>\n      <td>NaN</td>\n      <td>NaN</td>\n      <td>NaN</td>\n      <td>NaN</td>\n      <td>NaN</td>\n      <td>NaN</td>\n      <td>Network performance prediction and anomaly det...</td>\n    </tr>\n    <tr>\n      <th>129</th>\n      <td>NaN</td>\n      <td>NaN</td>\n      <td>NaN</td>\n      <td>NaN</td>\n      <td>NaN</td>\n      <td>NaN</td>\n      <td>NaN</td>\n      <td>NaN</td>\n      <td>NaN</td>\n      <td>NaN</td>\n      <td>Recidivism Coding Project: Investigating Poten...</td>\n    </tr>\n    <tr>\n      <th>130</th>\n      <td>NaN</td>\n      <td>NaN</td>\n      <td>NaN</td>\n      <td>NaN</td>\n      <td>NaN</td>\n      <td>NaN</td>\n      <td>NaN</td>\n      <td>NaN</td>\n      <td>NaN</td>\n      <td>NaN</td>\n      <td>Estimating human-technology team consensus and...</td>\n    </tr>\n  </tbody>\n</table>\n<p>131 rows × 11 columns</p>\n</div>"
          },
          "metadata": {}
        }
      ]
    },
    {
      "cell_type": "code",
      "metadata": {
        "source_hash": "6c781dd3",
        "execution_start": 1726856019143,
        "execution_millis": 9,
        "execution_context_id": "c078ca54-8cfa-4172-9d38-bf0242bd3596",
        "deepnote_to_be_reexecuted": false,
        "cell_id": "50c7af3479424d33a3b76ff315336902",
        "deepnote_cell_type": "code",
        "id": "5JAWTILdMTj4",
        "outputId": "da3beb74-8b49-4658-df9f-6cfc75bcff14"
      },
      "source": [
        "names = {\n",
        "    \"Please indicate the level of experience you are looking for from student applicants in each of the following skills: [Python]\": \"Python\",\n",
        "    \"Please indicate the level of experience you are looking for from student applicants in each of the following skills: [R]\": \"R\",\n",
        "    \"Please indicate the level of experience you are looking for from student applicants in each of the following skills: [SQL]\": \"SQL\",\n",
        "    \"Please indicate the level of experience you are looking for from student applicants in each of the following skills: [Exploratory Data Analysis]\": \"EDA\",\n",
        "    \"Please indicate the level of experience you are looking for from student applicants in each of the following skills: [Data Visualization]\" : \"Data Visualization\",\n",
        "    \"Please indicate the level of experience you are looking for from student applicants in each of the following skills: [Geospatial Data Analysis]\" : \"Geospatial Data Analysis\",\n",
        "    \"Please indicate the level of experience you are looking for from student applicants in each of the following skills: [Natural Language Processing]\" : \"NLP\",\n",
        "    \"Please indicate the level of experience you are looking for from student applicants in each of the following skills: [Deep Learning]\" : \"Deep Learning\",\n",
        "    \"Please indicate the level of experience you are looking for from student applicants in each of the following skills: [Computer Vision]\" : \"Computer Vision\",\n",
        "    \"Please indicate the level of experience you are looking for from student applicants in each of the following skills: [Cloud Computing]\" : \"Cloud Computing\"\n",
        "\n",
        "}\n",
        "skills = skills.rename(columns = names)\n",
        "skills = skills.dropna()\n",
        "skills"
      ],
      "execution_count": null,
      "outputs": [
        {
          "output_type": "execute_result",
          "execution_count": 5,
          "data": {
            "application/vnd.deepnote.dataframe.v3+json": {
              "column_count": 11,
              "row_count": 128,
              "columns": [
                {
                  "name": "Python",
                  "dtype": "object",
                  "stats": {
                    "unique_count": 4,
                    "nan_count": 0,
                    "categories": [
                      {
                        "name": "Intermediate",
                        "count": 64
                      },
                      {
                        "name": "Advanced",
                        "count": 37
                      },
                      {
                        "name": "2 others",
                        "count": 27
                      }
                    ]
                  }
                },
                {
                  "name": "R",
                  "dtype": "object",
                  "stats": {
                    "unique_count": 4,
                    "nan_count": 0,
                    "categories": [
                      {
                        "name": "No Experience",
                        "count": 71
                      },
                      {
                        "name": "Intermediate",
                        "count": 33
                      },
                      {
                        "name": "2 others",
                        "count": 24
                      }
                    ]
                  }
                },
                {
                  "name": "SQL",
                  "dtype": "object",
                  "stats": {
                    "unique_count": 4,
                    "nan_count": 0,
                    "categories": [
                      {
                        "name": "No Experience",
                        "count": 73
                      },
                      {
                        "name": "Intermediate",
                        "count": 25
                      },
                      {
                        "name": "2 others",
                        "count": 30
                      }
                    ]
                  }
                },
                {
                  "name": "EDA",
                  "dtype": "object",
                  "stats": {
                    "unique_count": 4,
                    "nan_count": 0,
                    "categories": [
                      {
                        "name": "Intermediate",
                        "count": 56
                      },
                      {
                        "name": "Advanced",
                        "count": 30
                      },
                      {
                        "name": "2 others",
                        "count": 42
                      }
                    ]
                  }
                },
                {
                  "name": "Data Visualization",
                  "dtype": "object",
                  "stats": {
                    "unique_count": 4,
                    "nan_count": 0,
                    "categories": [
                      {
                        "name": "Intermediate",
                        "count": 63
                      },
                      {
                        "name": "Advanced",
                        "count": 27
                      },
                      {
                        "name": "2 others",
                        "count": 38
                      }
                    ]
                  }
                },
                {
                  "name": "Geospatial Data Analysis",
                  "dtype": "object",
                  "stats": {
                    "unique_count": 4,
                    "nan_count": 0,
                    "categories": [
                      {
                        "name": "No Experience",
                        "count": 82
                      },
                      {
                        "name": "Intermediate",
                        "count": 21
                      },
                      {
                        "name": "2 others",
                        "count": 25
                      }
                    ]
                  }
                },
                {
                  "name": "NLP",
                  "dtype": "object",
                  "stats": {
                    "unique_count": 4,
                    "nan_count": 0,
                    "categories": [
                      {
                        "name": "No Experience",
                        "count": 73
                      },
                      {
                        "name": "Intermediate",
                        "count": 23
                      },
                      {
                        "name": "2 others",
                        "count": 32
                      }
                    ]
                  }
                },
                {
                  "name": "Deep Learning",
                  "dtype": "object",
                  "stats": {
                    "unique_count": 4,
                    "nan_count": 0,
                    "categories": [
                      {
                        "name": "No Experience",
                        "count": 61
                      },
                      {
                        "name": "Intermediate",
                        "count": 32
                      },
                      {
                        "name": "2 others",
                        "count": 35
                      }
                    ]
                  }
                },
                {
                  "name": "Computer Vision",
                  "dtype": "object",
                  "stats": {
                    "unique_count": 4,
                    "nan_count": 0,
                    "categories": [
                      {
                        "name": "No Experience",
                        "count": 83
                      },
                      {
                        "name": "Beginner",
                        "count": 20
                      },
                      {
                        "name": "2 others",
                        "count": 25
                      }
                    ]
                  }
                },
                {
                  "name": "Cloud Computing",
                  "dtype": "object",
                  "stats": {
                    "unique_count": 4,
                    "nan_count": 0,
                    "categories": [
                      {
                        "name": "No Experience",
                        "count": 58
                      },
                      {
                        "name": "Beginner",
                        "count": 31
                      },
                      {
                        "name": "2 others",
                        "count": 39
                      }
                    ]
                  }
                },
                {
                  "name": "Project Title",
                  "dtype": "object",
                  "stats": {
                    "unique_count": 128,
                    "nan_count": 0,
                    "categories": [
                      {
                        "name": "Mobility Analytics",
                        "count": 1
                      },
                      {
                        "name": "Transparency in Segmentation Algorithms",
                        "count": 1
                      },
                      {
                        "name": "126 others",
                        "count": 126
                      }
                    ]
                  }
                },
                {
                  "name": "_deepnote_index_column",
                  "dtype": "int64"
                }
              ],
              "rows": [
                {
                  "Python": "Intermediate",
                  "R": "No Experience",
                  "SQL": "No Experience",
                  "EDA": "Intermediate",
                  "Data Visualization": "Intermediate",
                  "Geospatial Data Analysis": "Beginner",
                  "NLP": "No Experience",
                  "Deep Learning": "Beginner",
                  "Computer Vision": "Beginner",
                  "Cloud Computing": "No Experience",
                  "Project Title": "Mobility Analytics",
                  "_deepnote_index_column": 0
                },
                {
                  "Python": "Intermediate",
                  "R": "No Experience",
                  "SQL": "No Experience",
                  "EDA": "Intermediate",
                  "Data Visualization": "Advanced",
                  "Geospatial Data Analysis": "No Experience",
                  "NLP": "Intermediate",
                  "Deep Learning": "No Experience",
                  "Computer Vision": "No Experience",
                  "Cloud Computing": "No Experience",
                  "Project Title": "Transparency in Segmentation Algorithms",
                  "_deepnote_index_column": 1
                },
                {
                  "Python": "Intermediate",
                  "R": "No Experience",
                  "SQL": "No Experience",
                  "EDA": "Intermediate",
                  "Data Visualization": "No Experience",
                  "Geospatial Data Analysis": "No Experience",
                  "NLP": "Intermediate",
                  "Deep Learning": "Intermediate",
                  "Computer Vision": "Intermediate",
                  "Cloud Computing": "Intermediate",
                  "Project Title": "Image-to-Text for an Accessible Web",
                  "_deepnote_index_column": 2
                },
                {
                  "Python": "Intermediate",
                  "R": "Beginner",
                  "SQL": "Beginner",
                  "EDA": "Beginner",
                  "Data Visualization": "Beginner",
                  "Geospatial Data Analysis": "No Experience",
                  "NLP": "No Experience",
                  "Deep Learning": "Beginner",
                  "Computer Vision": "Beginner",
                  "Cloud Computing": "Beginner",
                  "Project Title": "ML for biodiversity monitoring",
                  "_deepnote_index_column": 3
                },
                {
                  "Python": "Intermediate",
                  "R": "No Experience",
                  "SQL": "No Experience",
                  "EDA": "Intermediate",
                  "Data Visualization": "Intermediate",
                  "Geospatial Data Analysis": "No Experience",
                  "NLP": "No Experience",
                  "Deep Learning": "Intermediate",
                  "Computer Vision": "No Experience",
                  "Cloud Computing": "No Experience",
                  "Project Title": "Using machine learning to elucidate the genetic underpinnings of multicellularity",
                  "_deepnote_index_column": 4
                },
                {
                  "Python": "Intermediate",
                  "R": "Intermediate",
                  "SQL": "No Experience",
                  "EDA": "Advanced",
                  "Data Visualization": "Advanced",
                  "Geospatial Data Analysis": "No Experience",
                  "NLP": "Beginner",
                  "Deep Learning": "Beginner",
                  "Computer Vision": "Intermediate",
                  "Cloud Computing": "No Experience",
                  "Project Title": "SALT Research Group Data Post-Processing App Suite, UC Berkeley Nuclear Engineering",
                  "_deepnote_index_column": 5
                },
                {
                  "Python": "Advanced",
                  "R": "Advanced",
                  "SQL": "No Experience",
                  "EDA": "Intermediate",
                  "Data Visualization": "Intermediate",
                  "Geospatial Data Analysis": "No Experience",
                  "NLP": "Advanced",
                  "Deep Learning": "Advanced",
                  "Computer Vision": "Advanced",
                  "Cloud Computing": "Intermediate",
                  "Project Title": "Deep learning and language",
                  "_deepnote_index_column": 6
                },
                {
                  "Python": "Intermediate",
                  "R": "No Experience",
                  "SQL": "No Experience",
                  "EDA": "Intermediate",
                  "Data Visualization": "Intermediate",
                  "Geospatial Data Analysis": "No Experience",
                  "NLP": "No Experience",
                  "Deep Learning": "Intermediate",
                  "Computer Vision": "No Experience",
                  "Cloud Computing": "No Experience",
                  "Project Title": "Classification of Dislocation Cores in HCP and BCC Metals",
                  "_deepnote_index_column": 7
                },
                {
                  "Python": "Intermediate",
                  "R": "Intermediate",
                  "SQL": "Intermediate",
                  "EDA": "Intermediate",
                  "Data Visualization": "Beginner",
                  "Geospatial Data Analysis": "No Experience",
                  "NLP": "No Experience",
                  "Deep Learning": "No Experience",
                  "Computer Vision": "No Experience",
                  "Cloud Computing": "Beginner",
                  "Project Title": "Designing Cybersecure Responsive Environments: Evaluating Design Interventions",
                  "_deepnote_index_column": 8
                },
                {
                  "Python": "Advanced",
                  "R": "No Experience",
                  "SQL": "No Experience",
                  "EDA": "No Experience",
                  "Data Visualization": "No Experience",
                  "Geospatial Data Analysis": "No Experience",
                  "NLP": "Intermediate",
                  "Deep Learning": "Intermediate",
                  "Computer Vision": "No Experience",
                  "Cloud Computing": "Intermediate",
                  "Project Title": "ChatCHW for community health workers ",
                  "_deepnote_index_column": 9
                }
              ]
            },
            "text/plain": "           Python              R            SQL            EDA  \\\n0    Intermediate  No Experience  No Experience   Intermediate   \n1    Intermediate  No Experience  No Experience   Intermediate   \n2    Intermediate  No Experience  No Experience   Intermediate   \n3    Intermediate       Beginner       Beginner       Beginner   \n4    Intermediate  No Experience  No Experience   Intermediate   \n..            ...            ...            ...            ...   \n123      Advanced  No Experience  No Experience       Advanced   \n124      Advanced  No Experience   Intermediate       Advanced   \n125      Beginner       Advanced       Advanced   Intermediate   \n126  Intermediate  No Experience  No Experience       Beginner   \n127      Beginner  No Experience       Beginner  No Experience   \n\n    Data Visualization Geospatial Data Analysis            NLP  Deep Learning  \\\n0         Intermediate                 Beginner  No Experience       Beginner   \n1             Advanced            No Experience   Intermediate  No Experience   \n2        No Experience            No Experience   Intermediate   Intermediate   \n3             Beginner            No Experience  No Experience       Beginner   \n4         Intermediate            No Experience  No Experience   Intermediate   \n..                 ...                      ...            ...            ...   \n123           Advanced                 Advanced  No Experience       Advanced   \n124           Advanced                 Advanced       Beginner       Advanced   \n125       Intermediate            No Experience   Intermediate   Intermediate   \n126           Beginner            No Experience  No Experience       Beginner   \n127       Intermediate            No Experience   Intermediate  No Experience   \n\n    Computer Vision Cloud Computing  \\\n0          Beginner   No Experience   \n1     No Experience   No Experience   \n2      Intermediate    Intermediate   \n3          Beginner        Beginner   \n4     No Experience   No Experience   \n..              ...             ...   \n123   No Experience        Advanced   \n124        Beginner        Advanced   \n125        Beginner        Beginner   \n126    Intermediate        Beginner   \n127   No Experience   No Experience   \n\n                                         Project Title  \n0                                   Mobility Analytics  \n1              Transparency in Segmentation Algorithms  \n2                  Image-to-Text for an Accessible Web  \n3                       ML for biodiversity monitoring  \n4    Using machine learning to elucidate the geneti...  \n..                                                 ...  \n123  Building Machine Learning Models for Arctic Ic...  \n124  Resilient Energy Allocation System for Extreme...  \n125  Creating Directed Learning Pathways With Machi...  \n126  Automated Quality Control and Analysis of Hist...  \n127                       Supreme Court Opinion Viewer  \n\n[128 rows x 11 columns]",
            "text/html": "<div>\n<style scoped>\n    .dataframe tbody tr th:only-of-type {\n        vertical-align: middle;\n    }\n\n    .dataframe tbody tr th {\n        vertical-align: top;\n    }\n\n    .dataframe thead th {\n        text-align: right;\n    }\n</style>\n<table border=\"1\" class=\"dataframe\">\n  <thead>\n    <tr style=\"text-align: right;\">\n      <th></th>\n      <th>Python</th>\n      <th>R</th>\n      <th>SQL</th>\n      <th>EDA</th>\n      <th>Data Visualization</th>\n      <th>Geospatial Data Analysis</th>\n      <th>NLP</th>\n      <th>Deep Learning</th>\n      <th>Computer Vision</th>\n      <th>Cloud Computing</th>\n      <th>Project Title</th>\n    </tr>\n  </thead>\n  <tbody>\n    <tr>\n      <th>0</th>\n      <td>Intermediate</td>\n      <td>No Experience</td>\n      <td>No Experience</td>\n      <td>Intermediate</td>\n      <td>Intermediate</td>\n      <td>Beginner</td>\n      <td>No Experience</td>\n      <td>Beginner</td>\n      <td>Beginner</td>\n      <td>No Experience</td>\n      <td>Mobility Analytics</td>\n    </tr>\n    <tr>\n      <th>1</th>\n      <td>Intermediate</td>\n      <td>No Experience</td>\n      <td>No Experience</td>\n      <td>Intermediate</td>\n      <td>Advanced</td>\n      <td>No Experience</td>\n      <td>Intermediate</td>\n      <td>No Experience</td>\n      <td>No Experience</td>\n      <td>No Experience</td>\n      <td>Transparency in Segmentation Algorithms</td>\n    </tr>\n    <tr>\n      <th>2</th>\n      <td>Intermediate</td>\n      <td>No Experience</td>\n      <td>No Experience</td>\n      <td>Intermediate</td>\n      <td>No Experience</td>\n      <td>No Experience</td>\n      <td>Intermediate</td>\n      <td>Intermediate</td>\n      <td>Intermediate</td>\n      <td>Intermediate</td>\n      <td>Image-to-Text for an Accessible Web</td>\n    </tr>\n    <tr>\n      <th>3</th>\n      <td>Intermediate</td>\n      <td>Beginner</td>\n      <td>Beginner</td>\n      <td>Beginner</td>\n      <td>Beginner</td>\n      <td>No Experience</td>\n      <td>No Experience</td>\n      <td>Beginner</td>\n      <td>Beginner</td>\n      <td>Beginner</td>\n      <td>ML for biodiversity monitoring</td>\n    </tr>\n    <tr>\n      <th>4</th>\n      <td>Intermediate</td>\n      <td>No Experience</td>\n      <td>No Experience</td>\n      <td>Intermediate</td>\n      <td>Intermediate</td>\n      <td>No Experience</td>\n      <td>No Experience</td>\n      <td>Intermediate</td>\n      <td>No Experience</td>\n      <td>No Experience</td>\n      <td>Using machine learning to elucidate the geneti...</td>\n    </tr>\n    <tr>\n      <th>...</th>\n      <td>...</td>\n      <td>...</td>\n      <td>...</td>\n      <td>...</td>\n      <td>...</td>\n      <td>...</td>\n      <td>...</td>\n      <td>...</td>\n      <td>...</td>\n      <td>...</td>\n      <td>...</td>\n    </tr>\n    <tr>\n      <th>123</th>\n      <td>Advanced</td>\n      <td>No Experience</td>\n      <td>No Experience</td>\n      <td>Advanced</td>\n      <td>Advanced</td>\n      <td>Advanced</td>\n      <td>No Experience</td>\n      <td>Advanced</td>\n      <td>No Experience</td>\n      <td>Advanced</td>\n      <td>Building Machine Learning Models for Arctic Ic...</td>\n    </tr>\n    <tr>\n      <th>124</th>\n      <td>Advanced</td>\n      <td>No Experience</td>\n      <td>Intermediate</td>\n      <td>Advanced</td>\n      <td>Advanced</td>\n      <td>Advanced</td>\n      <td>Beginner</td>\n      <td>Advanced</td>\n      <td>Beginner</td>\n      <td>Advanced</td>\n      <td>Resilient Energy Allocation System for Extreme...</td>\n    </tr>\n    <tr>\n      <th>125</th>\n      <td>Beginner</td>\n      <td>Advanced</td>\n      <td>Advanced</td>\n      <td>Intermediate</td>\n      <td>Intermediate</td>\n      <td>No Experience</td>\n      <td>Intermediate</td>\n      <td>Intermediate</td>\n      <td>Beginner</td>\n      <td>Beginner</td>\n      <td>Creating Directed Learning Pathways With Machi...</td>\n    </tr>\n    <tr>\n      <th>126</th>\n      <td>Intermediate</td>\n      <td>No Experience</td>\n      <td>No Experience</td>\n      <td>Beginner</td>\n      <td>Beginner</td>\n      <td>No Experience</td>\n      <td>No Experience</td>\n      <td>Beginner</td>\n      <td>Intermediate</td>\n      <td>Beginner</td>\n      <td>Automated Quality Control and Analysis of Hist...</td>\n    </tr>\n    <tr>\n      <th>127</th>\n      <td>Beginner</td>\n      <td>No Experience</td>\n      <td>Beginner</td>\n      <td>No Experience</td>\n      <td>Intermediate</td>\n      <td>No Experience</td>\n      <td>Intermediate</td>\n      <td>No Experience</td>\n      <td>No Experience</td>\n      <td>No Experience</td>\n      <td>Supreme Court Opinion Viewer</td>\n    </tr>\n  </tbody>\n</table>\n<p>128 rows × 11 columns</p>\n</div>"
          },
          "metadata": {}
        }
      ]
    },
    {
      "cell_type": "code",
      "metadata": {
        "allow_embed": false,
        "source_hash": "6cb1ed88",
        "execution_start": 1726856019199,
        "execution_millis": 14,
        "execution_context_id": "c078ca54-8cfa-4172-9d38-bf0242bd3596",
        "deepnote_to_be_reexecuted": false,
        "cell_id": "541f1c220ffa4fbfa728c53f13902300",
        "deepnote_cell_type": "code",
        "id": "QNgtUTT4MTj5",
        "outputId": "6872b44e-cc84-434e-dc1f-ccf2d9b7b01a"
      },
      "source": [
        "replacement = {'No Experience': 0, \"Beginner\":1, 'Intermediate':2, \"Advanced\":3}\n",
        "\n",
        "skills = skills.replace(replacement)\n",
        "skills"
      ],
      "execution_count": null,
      "outputs": [
        {
          "output_type": "execute_result",
          "execution_count": 6,
          "data": {
            "application/vnd.deepnote.dataframe.v3+json": {
              "column_count": 11,
              "row_count": 128,
              "columns": [
                {
                  "name": "Python",
                  "dtype": "int64",
                  "stats": {
                    "unique_count": 4,
                    "nan_count": 0,
                    "min": "0",
                    "max": "3",
                    "histogram": [
                      {
                        "bin_start": 0,
                        "bin_end": 0.3,
                        "count": 14
                      },
                      {
                        "bin_start": 0.3,
                        "bin_end": 0.6,
                        "count": 0
                      },
                      {
                        "bin_start": 0.6,
                        "bin_end": 0.8999999999999999,
                        "count": 0
                      },
                      {
                        "bin_start": 0.8999999999999999,
                        "bin_end": 1.2,
                        "count": 13
                      },
                      {
                        "bin_start": 1.2,
                        "bin_end": 1.5,
                        "count": 0
                      },
                      {
                        "bin_start": 1.5,
                        "bin_end": 1.7999999999999998,
                        "count": 0
                      },
                      {
                        "bin_start": 1.7999999999999998,
                        "bin_end": 2.1,
                        "count": 64
                      },
                      {
                        "bin_start": 2.1,
                        "bin_end": 2.4,
                        "count": 0
                      },
                      {
                        "bin_start": 2.4,
                        "bin_end": 2.6999999999999997,
                        "count": 0
                      },
                      {
                        "bin_start": 2.6999999999999997,
                        "bin_end": 3,
                        "count": 37
                      }
                    ]
                  }
                },
                {
                  "name": "R",
                  "dtype": "int64",
                  "stats": {
                    "unique_count": 4,
                    "nan_count": 0,
                    "min": "0",
                    "max": "3",
                    "histogram": [
                      {
                        "bin_start": 0,
                        "bin_end": 0.3,
                        "count": 71
                      },
                      {
                        "bin_start": 0.3,
                        "bin_end": 0.6,
                        "count": 0
                      },
                      {
                        "bin_start": 0.6,
                        "bin_end": 0.8999999999999999,
                        "count": 0
                      },
                      {
                        "bin_start": 0.8999999999999999,
                        "bin_end": 1.2,
                        "count": 16
                      },
                      {
                        "bin_start": 1.2,
                        "bin_end": 1.5,
                        "count": 0
                      },
                      {
                        "bin_start": 1.5,
                        "bin_end": 1.7999999999999998,
                        "count": 0
                      },
                      {
                        "bin_start": 1.7999999999999998,
                        "bin_end": 2.1,
                        "count": 33
                      },
                      {
                        "bin_start": 2.1,
                        "bin_end": 2.4,
                        "count": 0
                      },
                      {
                        "bin_start": 2.4,
                        "bin_end": 2.6999999999999997,
                        "count": 0
                      },
                      {
                        "bin_start": 2.6999999999999997,
                        "bin_end": 3,
                        "count": 8
                      }
                    ]
                  }
                },
                {
                  "name": "SQL",
                  "dtype": "int64",
                  "stats": {
                    "unique_count": 4,
                    "nan_count": 0,
                    "min": "0",
                    "max": "3",
                    "histogram": [
                      {
                        "bin_start": 0,
                        "bin_end": 0.3,
                        "count": 73
                      },
                      {
                        "bin_start": 0.3,
                        "bin_end": 0.6,
                        "count": 0
                      },
                      {
                        "bin_start": 0.6,
                        "bin_end": 0.8999999999999999,
                        "count": 0
                      },
                      {
                        "bin_start": 0.8999999999999999,
                        "bin_end": 1.2,
                        "count": 19
                      },
                      {
                        "bin_start": 1.2,
                        "bin_end": 1.5,
                        "count": 0
                      },
                      {
                        "bin_start": 1.5,
                        "bin_end": 1.7999999999999998,
                        "count": 0
                      },
                      {
                        "bin_start": 1.7999999999999998,
                        "bin_end": 2.1,
                        "count": 25
                      },
                      {
                        "bin_start": 2.1,
                        "bin_end": 2.4,
                        "count": 0
                      },
                      {
                        "bin_start": 2.4,
                        "bin_end": 2.6999999999999997,
                        "count": 0
                      },
                      {
                        "bin_start": 2.6999999999999997,
                        "bin_end": 3,
                        "count": 11
                      }
                    ]
                  }
                },
                {
                  "name": "EDA",
                  "dtype": "int64",
                  "stats": {
                    "unique_count": 4,
                    "nan_count": 0,
                    "min": "0",
                    "max": "3",
                    "histogram": [
                      {
                        "bin_start": 0,
                        "bin_end": 0.3,
                        "count": 16
                      },
                      {
                        "bin_start": 0.3,
                        "bin_end": 0.6,
                        "count": 0
                      },
                      {
                        "bin_start": 0.6,
                        "bin_end": 0.8999999999999999,
                        "count": 0
                      },
                      {
                        "bin_start": 0.8999999999999999,
                        "bin_end": 1.2,
                        "count": 26
                      },
                      {
                        "bin_start": 1.2,
                        "bin_end": 1.5,
                        "count": 0
                      },
                      {
                        "bin_start": 1.5,
                        "bin_end": 1.7999999999999998,
                        "count": 0
                      },
                      {
                        "bin_start": 1.7999999999999998,
                        "bin_end": 2.1,
                        "count": 56
                      },
                      {
                        "bin_start": 2.1,
                        "bin_end": 2.4,
                        "count": 0
                      },
                      {
                        "bin_start": 2.4,
                        "bin_end": 2.6999999999999997,
                        "count": 0
                      },
                      {
                        "bin_start": 2.6999999999999997,
                        "bin_end": 3,
                        "count": 30
                      }
                    ]
                  }
                },
                {
                  "name": "Data Visualization",
                  "dtype": "int64",
                  "stats": {
                    "unique_count": 4,
                    "nan_count": 0,
                    "min": "0",
                    "max": "3",
                    "histogram": [
                      {
                        "bin_start": 0,
                        "bin_end": 0.3,
                        "count": 13
                      },
                      {
                        "bin_start": 0.3,
                        "bin_end": 0.6,
                        "count": 0
                      },
                      {
                        "bin_start": 0.6,
                        "bin_end": 0.8999999999999999,
                        "count": 0
                      },
                      {
                        "bin_start": 0.8999999999999999,
                        "bin_end": 1.2,
                        "count": 25
                      },
                      {
                        "bin_start": 1.2,
                        "bin_end": 1.5,
                        "count": 0
                      },
                      {
                        "bin_start": 1.5,
                        "bin_end": 1.7999999999999998,
                        "count": 0
                      },
                      {
                        "bin_start": 1.7999999999999998,
                        "bin_end": 2.1,
                        "count": 63
                      },
                      {
                        "bin_start": 2.1,
                        "bin_end": 2.4,
                        "count": 0
                      },
                      {
                        "bin_start": 2.4,
                        "bin_end": 2.6999999999999997,
                        "count": 0
                      },
                      {
                        "bin_start": 2.6999999999999997,
                        "bin_end": 3,
                        "count": 27
                      }
                    ]
                  }
                },
                {
                  "name": "Geospatial Data Analysis",
                  "dtype": "int64",
                  "stats": {
                    "unique_count": 4,
                    "nan_count": 0,
                    "min": "0",
                    "max": "3",
                    "histogram": [
                      {
                        "bin_start": 0,
                        "bin_end": 0.3,
                        "count": 82
                      },
                      {
                        "bin_start": 0.3,
                        "bin_end": 0.6,
                        "count": 0
                      },
                      {
                        "bin_start": 0.6,
                        "bin_end": 0.8999999999999999,
                        "count": 0
                      },
                      {
                        "bin_start": 0.8999999999999999,
                        "bin_end": 1.2,
                        "count": 16
                      },
                      {
                        "bin_start": 1.2,
                        "bin_end": 1.5,
                        "count": 0
                      },
                      {
                        "bin_start": 1.5,
                        "bin_end": 1.7999999999999998,
                        "count": 0
                      },
                      {
                        "bin_start": 1.7999999999999998,
                        "bin_end": 2.1,
                        "count": 21
                      },
                      {
                        "bin_start": 2.1,
                        "bin_end": 2.4,
                        "count": 0
                      },
                      {
                        "bin_start": 2.4,
                        "bin_end": 2.6999999999999997,
                        "count": 0
                      },
                      {
                        "bin_start": 2.6999999999999997,
                        "bin_end": 3,
                        "count": 9
                      }
                    ]
                  }
                },
                {
                  "name": "NLP",
                  "dtype": "int64",
                  "stats": {
                    "unique_count": 4,
                    "nan_count": 0,
                    "min": "0",
                    "max": "3",
                    "histogram": [
                      {
                        "bin_start": 0,
                        "bin_end": 0.3,
                        "count": 73
                      },
                      {
                        "bin_start": 0.3,
                        "bin_end": 0.6,
                        "count": 0
                      },
                      {
                        "bin_start": 0.6,
                        "bin_end": 0.8999999999999999,
                        "count": 0
                      },
                      {
                        "bin_start": 0.8999999999999999,
                        "bin_end": 1.2,
                        "count": 19
                      },
                      {
                        "bin_start": 1.2,
                        "bin_end": 1.5,
                        "count": 0
                      },
                      {
                        "bin_start": 1.5,
                        "bin_end": 1.7999999999999998,
                        "count": 0
                      },
                      {
                        "bin_start": 1.7999999999999998,
                        "bin_end": 2.1,
                        "count": 23
                      },
                      {
                        "bin_start": 2.1,
                        "bin_end": 2.4,
                        "count": 0
                      },
                      {
                        "bin_start": 2.4,
                        "bin_end": 2.6999999999999997,
                        "count": 0
                      },
                      {
                        "bin_start": 2.6999999999999997,
                        "bin_end": 3,
                        "count": 13
                      }
                    ]
                  }
                },
                {
                  "name": "Deep Learning",
                  "dtype": "int64",
                  "stats": {
                    "unique_count": 4,
                    "nan_count": 0,
                    "min": "0",
                    "max": "3",
                    "histogram": [
                      {
                        "bin_start": 0,
                        "bin_end": 0.3,
                        "count": 61
                      },
                      {
                        "bin_start": 0.3,
                        "bin_end": 0.6,
                        "count": 0
                      },
                      {
                        "bin_start": 0.6,
                        "bin_end": 0.8999999999999999,
                        "count": 0
                      },
                      {
                        "bin_start": 0.8999999999999999,
                        "bin_end": 1.2,
                        "count": 18
                      },
                      {
                        "bin_start": 1.2,
                        "bin_end": 1.5,
                        "count": 0
                      },
                      {
                        "bin_start": 1.5,
                        "bin_end": 1.7999999999999998,
                        "count": 0
                      },
                      {
                        "bin_start": 1.7999999999999998,
                        "bin_end": 2.1,
                        "count": 32
                      },
                      {
                        "bin_start": 2.1,
                        "bin_end": 2.4,
                        "count": 0
                      },
                      {
                        "bin_start": 2.4,
                        "bin_end": 2.6999999999999997,
                        "count": 0
                      },
                      {
                        "bin_start": 2.6999999999999997,
                        "bin_end": 3,
                        "count": 17
                      }
                    ]
                  }
                },
                {
                  "name": "Computer Vision",
                  "dtype": "int64",
                  "stats": {
                    "unique_count": 4,
                    "nan_count": 0,
                    "min": "0",
                    "max": "3",
                    "histogram": [
                      {
                        "bin_start": 0,
                        "bin_end": 0.3,
                        "count": 83
                      },
                      {
                        "bin_start": 0.3,
                        "bin_end": 0.6,
                        "count": 0
                      },
                      {
                        "bin_start": 0.6,
                        "bin_end": 0.8999999999999999,
                        "count": 0
                      },
                      {
                        "bin_start": 0.8999999999999999,
                        "bin_end": 1.2,
                        "count": 20
                      },
                      {
                        "bin_start": 1.2,
                        "bin_end": 1.5,
                        "count": 0
                      },
                      {
                        "bin_start": 1.5,
                        "bin_end": 1.7999999999999998,
                        "count": 0
                      },
                      {
                        "bin_start": 1.7999999999999998,
                        "bin_end": 2.1,
                        "count": 17
                      },
                      {
                        "bin_start": 2.1,
                        "bin_end": 2.4,
                        "count": 0
                      },
                      {
                        "bin_start": 2.4,
                        "bin_end": 2.6999999999999997,
                        "count": 0
                      },
                      {
                        "bin_start": 2.6999999999999997,
                        "bin_end": 3,
                        "count": 8
                      }
                    ]
                  }
                },
                {
                  "name": "Cloud Computing",
                  "dtype": "int64",
                  "stats": {
                    "unique_count": 4,
                    "nan_count": 0,
                    "min": "0",
                    "max": "3",
                    "histogram": [
                      {
                        "bin_start": 0,
                        "bin_end": 0.3,
                        "count": 58
                      },
                      {
                        "bin_start": 0.3,
                        "bin_end": 0.6,
                        "count": 0
                      },
                      {
                        "bin_start": 0.6,
                        "bin_end": 0.8999999999999999,
                        "count": 0
                      },
                      {
                        "bin_start": 0.8999999999999999,
                        "bin_end": 1.2,
                        "count": 31
                      },
                      {
                        "bin_start": 1.2,
                        "bin_end": 1.5,
                        "count": 0
                      },
                      {
                        "bin_start": 1.5,
                        "bin_end": 1.7999999999999998,
                        "count": 0
                      },
                      {
                        "bin_start": 1.7999999999999998,
                        "bin_end": 2.1,
                        "count": 27
                      },
                      {
                        "bin_start": 2.1,
                        "bin_end": 2.4,
                        "count": 0
                      },
                      {
                        "bin_start": 2.4,
                        "bin_end": 2.6999999999999997,
                        "count": 0
                      },
                      {
                        "bin_start": 2.6999999999999997,
                        "bin_end": 3,
                        "count": 12
                      }
                    ]
                  }
                },
                {
                  "name": "Project Title",
                  "dtype": "object",
                  "stats": {
                    "unique_count": 128,
                    "nan_count": 0,
                    "categories": [
                      {
                        "name": "Mobility Analytics",
                        "count": 1
                      },
                      {
                        "name": "Transparency in Segmentation Algorithms",
                        "count": 1
                      },
                      {
                        "name": "126 others",
                        "count": 126
                      }
                    ]
                  }
                },
                {
                  "name": "_deepnote_index_column",
                  "dtype": "int64"
                }
              ],
              "rows": [
                {
                  "Python": 2,
                  "R": 0,
                  "SQL": 0,
                  "EDA": 2,
                  "Data Visualization": 2,
                  "Geospatial Data Analysis": 1,
                  "NLP": 0,
                  "Deep Learning": 1,
                  "Computer Vision": 1,
                  "Cloud Computing": 0,
                  "Project Title": "Mobility Analytics",
                  "_deepnote_index_column": 0
                },
                {
                  "Python": 2,
                  "R": 0,
                  "SQL": 0,
                  "EDA": 2,
                  "Data Visualization": 3,
                  "Geospatial Data Analysis": 0,
                  "NLP": 2,
                  "Deep Learning": 0,
                  "Computer Vision": 0,
                  "Cloud Computing": 0,
                  "Project Title": "Transparency in Segmentation Algorithms",
                  "_deepnote_index_column": 1
                },
                {
                  "Python": 2,
                  "R": 0,
                  "SQL": 0,
                  "EDA": 2,
                  "Data Visualization": 0,
                  "Geospatial Data Analysis": 0,
                  "NLP": 2,
                  "Deep Learning": 2,
                  "Computer Vision": 2,
                  "Cloud Computing": 2,
                  "Project Title": "Image-to-Text for an Accessible Web",
                  "_deepnote_index_column": 2
                },
                {
                  "Python": 2,
                  "R": 1,
                  "SQL": 1,
                  "EDA": 1,
                  "Data Visualization": 1,
                  "Geospatial Data Analysis": 0,
                  "NLP": 0,
                  "Deep Learning": 1,
                  "Computer Vision": 1,
                  "Cloud Computing": 1,
                  "Project Title": "ML for biodiversity monitoring",
                  "_deepnote_index_column": 3
                },
                {
                  "Python": 2,
                  "R": 0,
                  "SQL": 0,
                  "EDA": 2,
                  "Data Visualization": 2,
                  "Geospatial Data Analysis": 0,
                  "NLP": 0,
                  "Deep Learning": 2,
                  "Computer Vision": 0,
                  "Cloud Computing": 0,
                  "Project Title": "Using machine learning to elucidate the genetic underpinnings of multicellularity",
                  "_deepnote_index_column": 4
                },
                {
                  "Python": 2,
                  "R": 2,
                  "SQL": 0,
                  "EDA": 3,
                  "Data Visualization": 3,
                  "Geospatial Data Analysis": 0,
                  "NLP": 1,
                  "Deep Learning": 1,
                  "Computer Vision": 2,
                  "Cloud Computing": 0,
                  "Project Title": "SALT Research Group Data Post-Processing App Suite, UC Berkeley Nuclear Engineering",
                  "_deepnote_index_column": 5
                },
                {
                  "Python": 3,
                  "R": 3,
                  "SQL": 0,
                  "EDA": 2,
                  "Data Visualization": 2,
                  "Geospatial Data Analysis": 0,
                  "NLP": 3,
                  "Deep Learning": 3,
                  "Computer Vision": 3,
                  "Cloud Computing": 2,
                  "Project Title": "Deep learning and language",
                  "_deepnote_index_column": 6
                },
                {
                  "Python": 2,
                  "R": 0,
                  "SQL": 0,
                  "EDA": 2,
                  "Data Visualization": 2,
                  "Geospatial Data Analysis": 0,
                  "NLP": 0,
                  "Deep Learning": 2,
                  "Computer Vision": 0,
                  "Cloud Computing": 0,
                  "Project Title": "Classification of Dislocation Cores in HCP and BCC Metals",
                  "_deepnote_index_column": 7
                },
                {
                  "Python": 2,
                  "R": 2,
                  "SQL": 2,
                  "EDA": 2,
                  "Data Visualization": 1,
                  "Geospatial Data Analysis": 0,
                  "NLP": 0,
                  "Deep Learning": 0,
                  "Computer Vision": 0,
                  "Cloud Computing": 1,
                  "Project Title": "Designing Cybersecure Responsive Environments: Evaluating Design Interventions",
                  "_deepnote_index_column": 8
                },
                {
                  "Python": 3,
                  "R": 0,
                  "SQL": 0,
                  "EDA": 0,
                  "Data Visualization": 0,
                  "Geospatial Data Analysis": 0,
                  "NLP": 2,
                  "Deep Learning": 2,
                  "Computer Vision": 0,
                  "Cloud Computing": 2,
                  "Project Title": "ChatCHW for community health workers ",
                  "_deepnote_index_column": 9
                }
              ]
            },
            "text/plain": "     Python  R  SQL  EDA  Data Visualization  Geospatial Data Analysis  NLP  \\\n0         2  0    0    2                   2                         1    0   \n1         2  0    0    2                   3                         0    2   \n2         2  0    0    2                   0                         0    2   \n3         2  1    1    1                   1                         0    0   \n4         2  0    0    2                   2                         0    0   \n..      ... ..  ...  ...                 ...                       ...  ...   \n123       3  0    0    3                   3                         3    0   \n124       3  0    2    3                   3                         3    1   \n125       1  3    3    2                   2                         0    2   \n126       2  0    0    1                   1                         0    0   \n127       1  0    1    0                   2                         0    2   \n\n     Deep Learning  Computer Vision  Cloud Computing  \\\n0                1                1                0   \n1                0                0                0   \n2                2                2                2   \n3                1                1                1   \n4                2                0                0   \n..             ...              ...              ...   \n123              3                0                3   \n124              3                1                3   \n125              2                1                1   \n126              1                2                1   \n127              0                0                0   \n\n                                         Project Title  \n0                                   Mobility Analytics  \n1              Transparency in Segmentation Algorithms  \n2                  Image-to-Text for an Accessible Web  \n3                       ML for biodiversity monitoring  \n4    Using machine learning to elucidate the geneti...  \n..                                                 ...  \n123  Building Machine Learning Models for Arctic Ic...  \n124  Resilient Energy Allocation System for Extreme...  \n125  Creating Directed Learning Pathways With Machi...  \n126  Automated Quality Control and Analysis of Hist...  \n127                       Supreme Court Opinion Viewer  \n\n[128 rows x 11 columns]",
            "text/html": "<div>\n<style scoped>\n    .dataframe tbody tr th:only-of-type {\n        vertical-align: middle;\n    }\n\n    .dataframe tbody tr th {\n        vertical-align: top;\n    }\n\n    .dataframe thead th {\n        text-align: right;\n    }\n</style>\n<table border=\"1\" class=\"dataframe\">\n  <thead>\n    <tr style=\"text-align: right;\">\n      <th></th>\n      <th>Python</th>\n      <th>R</th>\n      <th>SQL</th>\n      <th>EDA</th>\n      <th>Data Visualization</th>\n      <th>Geospatial Data Analysis</th>\n      <th>NLP</th>\n      <th>Deep Learning</th>\n      <th>Computer Vision</th>\n      <th>Cloud Computing</th>\n      <th>Project Title</th>\n    </tr>\n  </thead>\n  <tbody>\n    <tr>\n      <th>0</th>\n      <td>2</td>\n      <td>0</td>\n      <td>0</td>\n      <td>2</td>\n      <td>2</td>\n      <td>1</td>\n      <td>0</td>\n      <td>1</td>\n      <td>1</td>\n      <td>0</td>\n      <td>Mobility Analytics</td>\n    </tr>\n    <tr>\n      <th>1</th>\n      <td>2</td>\n      <td>0</td>\n      <td>0</td>\n      <td>2</td>\n      <td>3</td>\n      <td>0</td>\n      <td>2</td>\n      <td>0</td>\n      <td>0</td>\n      <td>0</td>\n      <td>Transparency in Segmentation Algorithms</td>\n    </tr>\n    <tr>\n      <th>2</th>\n      <td>2</td>\n      <td>0</td>\n      <td>0</td>\n      <td>2</td>\n      <td>0</td>\n      <td>0</td>\n      <td>2</td>\n      <td>2</td>\n      <td>2</td>\n      <td>2</td>\n      <td>Image-to-Text for an Accessible Web</td>\n    </tr>\n    <tr>\n      <th>3</th>\n      <td>2</td>\n      <td>1</td>\n      <td>1</td>\n      <td>1</td>\n      <td>1</td>\n      <td>0</td>\n      <td>0</td>\n      <td>1</td>\n      <td>1</td>\n      <td>1</td>\n      <td>ML for biodiversity monitoring</td>\n    </tr>\n    <tr>\n      <th>4</th>\n      <td>2</td>\n      <td>0</td>\n      <td>0</td>\n      <td>2</td>\n      <td>2</td>\n      <td>0</td>\n      <td>0</td>\n      <td>2</td>\n      <td>0</td>\n      <td>0</td>\n      <td>Using machine learning to elucidate the geneti...</td>\n    </tr>\n    <tr>\n      <th>...</th>\n      <td>...</td>\n      <td>...</td>\n      <td>...</td>\n      <td>...</td>\n      <td>...</td>\n      <td>...</td>\n      <td>...</td>\n      <td>...</td>\n      <td>...</td>\n      <td>...</td>\n      <td>...</td>\n    </tr>\n    <tr>\n      <th>123</th>\n      <td>3</td>\n      <td>0</td>\n      <td>0</td>\n      <td>3</td>\n      <td>3</td>\n      <td>3</td>\n      <td>0</td>\n      <td>3</td>\n      <td>0</td>\n      <td>3</td>\n      <td>Building Machine Learning Models for Arctic Ic...</td>\n    </tr>\n    <tr>\n      <th>124</th>\n      <td>3</td>\n      <td>0</td>\n      <td>2</td>\n      <td>3</td>\n      <td>3</td>\n      <td>3</td>\n      <td>1</td>\n      <td>3</td>\n      <td>1</td>\n      <td>3</td>\n      <td>Resilient Energy Allocation System for Extreme...</td>\n    </tr>\n    <tr>\n      <th>125</th>\n      <td>1</td>\n      <td>3</td>\n      <td>3</td>\n      <td>2</td>\n      <td>2</td>\n      <td>0</td>\n      <td>2</td>\n      <td>2</td>\n      <td>1</td>\n      <td>1</td>\n      <td>Creating Directed Learning Pathways With Machi...</td>\n    </tr>\n    <tr>\n      <th>126</th>\n      <td>2</td>\n      <td>0</td>\n      <td>0</td>\n      <td>1</td>\n      <td>1</td>\n      <td>0</td>\n      <td>0</td>\n      <td>1</td>\n      <td>2</td>\n      <td>1</td>\n      <td>Automated Quality Control and Analysis of Hist...</td>\n    </tr>\n    <tr>\n      <th>127</th>\n      <td>1</td>\n      <td>0</td>\n      <td>1</td>\n      <td>0</td>\n      <td>2</td>\n      <td>0</td>\n      <td>2</td>\n      <td>0</td>\n      <td>0</td>\n      <td>0</td>\n      <td>Supreme Court Opinion Viewer</td>\n    </tr>\n  </tbody>\n</table>\n<p>128 rows × 11 columns</p>\n</div>"
          },
          "metadata": {}
        }
      ]
    },
    {
      "cell_type": "code",
      "metadata": {
        "source_hash": "960d0900",
        "execution_start": 1726856019256,
        "execution_millis": 613,
        "execution_context_id": "c078ca54-8cfa-4172-9d38-bf0242bd3596",
        "deepnote_to_be_reexecuted": false,
        "cell_id": "d09ad24dc1c949d78fd5475112a234ed",
        "deepnote_cell_type": "code",
        "id": "zo4LWUPKMTj5",
        "outputId": "9f6f3698-e321-439f-bbe3-6dca5a8f9b45"
      },
      "source": [
        "from sklearn import linear_model as lm\n",
        "\n",
        "y = skills[\"Project Title\"]\n",
        "X = skills.drop(\"Project Title\", axis = \"columns\")\n",
        "\n",
        "predictor = lm.LogisticRegression(multi_class=\"multinomial\")\n",
        "predictor.fit(X,y)\n",
        "predictor.predict(X)"
      ],
      "execution_count": null,
      "outputs": [
        {
          "name": "stderr",
          "text": "/shared-libs/python3.9/py/lib/python3.9/site-packages/sklearn/linear_model/_logistic.py:444: ConvergenceWarning: lbfgs failed to converge (status=1):\nSTOP: TOTAL NO. of ITERATIONS REACHED LIMIT.\n\nIncrease the number of iterations (max_iter) or scale the data as shown in:\n    https://scikit-learn.org/stable/modules/preprocessing.html\nPlease also refer to the documentation for alternative solver options:\n    https://scikit-learn.org/stable/modules/linear_model.html#logistic-regression\n  n_iter_i = _check_optimize_result(\n",
          "output_type": "stream"
        },
        {
          "output_type": "execute_result",
          "execution_count": 7,
          "data": {
            "text/plain": "array(['Mobility Analytics', 'Transparency in Segmentation Algorithms',\n       'Image-to-Text for an Accessible Web',\n       'ML for biodiversity monitoring',\n       '8.\\tAdvanced Methods of Time Series Data Analysis',\n       'SALT Research Group Data Post-Processing App Suite, UC Berkeley Nuclear Engineering',\n       'Deep learning and language',\n       '8.\\tAdvanced Methods of Time Series Data Analysis',\n       'Designing Cybersecure Responsive Environments: Evaluating Design Interventions',\n       'ChatCHW for community health workers ',\n       'Assessing Creative Agency in the Big Ideas Course: From Imagination to Innovation',\n       'Do labor market policies reduce racial and ethnic disparities in mental health and substance use?',\n       'Data Access Pattern of Distributed Disk Cache system',\n       'Archive of Urban Futures',\n       'Gamifying cognitive training for emotion regulation ',\n       'Graph Neural Network for Online Particle Identificaton at the Large Hadron Collider',\n       'Traffic signal conditions tested by a robot:',\n       'Natural Language Processing: Technologies to Inform Practice in Science (TIPS)',\n       'Identifying the epigenetic and expression profile of regulatory T cells expressing an Ezh2 gain-of-function mutation TBD',\n       'Chemoproteomic Analysis of Methionine Redox Sites',\n       'LookIt studies: a platform for developmental psychology research',\n       'Enhancing Severe Heatwave Forecasting Using Theory and Data Science',\n       'Analyzing Healthcare Prices',\n       'Mapping Cultural Institutions in the US',\n       'The Unnatural Translation Database: Streamlining data entry through automation ',\n       'Characterizing the Landscape of Student Learning Outcomes in Undergraduate Programs via a Web-scraping Text Analysis Approach',\n       'Violawalkhome: a mobile safety app ', 'LMC', 'Project AEI',\n       'Computationally evaluating design rationale',\n       \"Adoption of new technologies, women's safety, and trust in formal institutions\",\n       'Identifying threats in the Web3 ecosystem',\n       'Data Driven Design (Graph Neural Network) of Metamaterials',\n       'Using Large-Scale Video and Text Data to Understand Minority Language Accommodation in Local Education Governance',\n       'Enabling drug discovery with AI-powered quantum chemistry',\n       'Detecting illegal sand mining with deep learning and remote sensing',\n       'Predicting future water main breaks with pressure data',\n       'The Demise of Urban Renewal and the Invention of Land Banking',\n       'Search Query Suggestions',\n       \"Analyzing Students' Submitted Projects\",\n       'The Sierra Nevada Beaver Project: Estimating How Restored Beaver Populations Influence Water Resources in the Sierra Nevada Under Various Climate Scenarios',\n       'Candidate Feedback Report',\n       'Does diet reduce antibiotic resistant bacteria in clinical interventional trials',\n       'The Next Step in Public Education: Factors influencing elementary student success and family engagement',\n       'DaanMatch Knowledge Graph', 'NGO Insights Dashboard',\n       'The Costs and Benefits of Buying American',\n       'Accelerating Quantum Optical Spectroscopy with Statistical Learning',\n       'Our Way of Life', 'ChatBots: What can they be really used for?',\n       'Missing Object Library', 'DSG Interns - Various Projects',\n       'Developing CNN model for segmenting electron microscopy images',\n       'Machine learning to localize particles',\n       'Can We Build Entrepreneurs and Better Negotiators? A Field Experiment in Uganda (Machine Learning and Big Data)',\n       'Credit Scoring Algorithms using Alternative Data Sources and Machine-Learning ',\n       'Political Party Endorsements of Minority Rights',\n       'Evolution of retinal cell types',\n       'Community Science Measuring Lead Hazards in Newark, New Jersey',\n       'Flexible and Scalable Earthquake Forecasting',\n       'Proving that Public/Private Partnerships Promote Digital Equity',\n       'Co-evolution inference of key amino acids that allosterically confer protein structure and function from a distance',\n       'Moment Price Estimator',\n       'Interaction between Random Heteropolymers and metal ions: Perspective from selective lanthanides separation',\n       'Data Analyst in a Box', 'Pagefelt AI Mentor', 'Alecto AI ',\n       'Predicting lead in tap water ', 'LLM for internal employee use',\n       'Product Development AI', 'RecSys - Merlin Models',\n       'Personalized Contextual Product Reviews ',\n       'AI Machine Translation for Cuneiform',\n       'TOPH (True Retrieval Of Proteins Homologs):             Adapting A Constrastive Question-Answering Framework for Protein Search',\n       'Sub-seasonal wildfire burned area prediction with machine learning',\n       'Discovery of Undocumented Oil and Gas Wells', 'Alecto AI ',\n       \"The Data Initiative for Environmental and Climate Action in California's TK–12 Schools\",\n       'A computational suite for the RNA universe',\n       'Evidenced-Based Parent Education: The Protective Factors Survey',\n       'Random turn games governed by stakes',\n       'Global Hunger Data & Predictive Model', 'Project Sidewalk',\n       'Saving Data from the Archives: Transforming Legacy Engineering Reports into Useful Machine Readable Information ',\n       'Acheivemnt Gaps in Berkeley Public Schools',\n       'Machine-learning tools for measuring spectral lines',\n       'comfortDAT - an open-source data analysis toolkit for thermal comfort research',\n       'Enterprise Customer Content \"Taste\"',\n       'User Metadata Standardization', 'Eviction Research Network',\n       'data visualization of biological and ecological data',\n       'Interrupting Lethal Structures: \"No Cop City in San Pablo!\"',\n       'Strain History Database',\n       'Development of Building Component Fragility Database to Support Recovery-Based Seismic Analysis and Design',\n       'Impact of localizing/transalting the discovery experience',\n       'Impact of localizing/transalting the discovery experience',\n       'Impact of localizing/transalting the discovery experience',\n       'Unmasking Media Bias: Criminal Justice Reform in the News',\n       'The polymorph evolution of protein two-dimensional crystals',\n       'Changes in the Global Economy',\n       'OpenSidewalks: responsible data science for equitable civic analytics',\n       'AI-powered development of novel CRISPR-based therapeutics ',\n       'Surface Layer Scheme Exploration',\n       'Life Cycle Assessment of Building Structures', 'Alecto AI ',\n       'Interactive 3D Visualization to enable Visual Analytics for Measurement Science ',\n       'Simplified web-based application to help design high thermal mass radiant systems',\n       'The Bay Twin: A Climate Justice “Digital Twin” for the San Francisco Bay Area  ',\n       'Trend analysis of birth, acquired, age related disabilities and factors that impact such trends.',\n       'EpiNu: Community Nutrition Security in DR Congo',\n       '8.\\tAdvanced Methods of Time Series Data Analysis',\n       'comfortDAT - an open-source data analysis toolkit for thermal comfort research',\n       'Data on Recovery after Natural Hazard Events',\n       'Homelessness and Mental Illness in California - towards a new scale of outcomes ',\n       'Sustainability Data Framework',\n       'Fiber Reinforced Polymer (FRP) Retrofitted Shear Wall Relational Database Development',\n       'Dataset for Automation of Quantum Dot Devices Control', 'Datahub',\n       'Lead Identification', 'Lead Identification',\n       'TranscribeGlass software internship',\n       'Building proactive climate-smart technologies to prevent heat-related human health hazard and mortality',\n       'AI applications for Pebble Bed Nuclear Reactor Control and Fuel Management',\n       'Building Machine Learning Models for Arctic Ice Restoration',\n       'Resilient Energy Allocation System for Extreme Weather: Balancing AC Demand and Fire Safety',\n       'Creating Directed Learning Pathways With Machine Learning',\n       'Automated Quality Control and Analysis of Histopathology Images using deep learning',\n       'Supreme Court Opinion Viewer'], dtype=object)"
          },
          "metadata": {}
        }
      ]
    },
    {
      "cell_type": "code",
      "metadata": {
        "source_hash": "8a4ed4eb",
        "execution_start": 1726856019911,
        "execution_millis": 1,
        "execution_context_id": "c078ca54-8cfa-4172-9d38-bf0242bd3596",
        "deepnote_to_be_reexecuted": false,
        "cell_id": "c26bbd293dcd4bef8606ff27fb3afc60",
        "deepnote_cell_type": "code",
        "id": "i_uCB6VmMTj6",
        "outputId": "0e15f36e-92f0-4239-ff0e-ee1fd39cc30b"
      },
      "source": [
        "predictor.score(X,y)"
      ],
      "execution_count": null,
      "outputs": [
        {
          "output_type": "execute_result",
          "execution_count": 8,
          "data": {
            "text/plain": "0.9375"
          },
          "metadata": {}
        }
      ]
    },
    {
      "cell_type": "code",
      "metadata": {
        "source_hash": "302558ec",
        "execution_start": 1726856019967,
        "execution_millis": 1,
        "execution_context_id": "c078ca54-8cfa-4172-9d38-bf0242bd3596",
        "deepnote_to_be_reexecuted": false,
        "cell_id": "cb805e6534ba4a3a9f99c51b772f6e9d",
        "deepnote_cell_type": "code",
        "id": "X0XauWDDMTj6",
        "outputId": "aa7fd2a1-0f5a-48e5-d3d6-8d5e036d9832"
      },
      "source": [
        "predictions = predictor.predict(X)\n",
        "errors = pd.DataFrame({'titles': y, 'pred': predictions})\n",
        "a = errors[errors[\"titles\"] != errors[\"pred\"]]\n",
        "a"
      ],
      "execution_count": null,
      "outputs": [
        {
          "output_type": "execute_result",
          "execution_count": 9,
          "data": {
            "application/vnd.deepnote.dataframe.v3+json": {
              "column_count": 2,
              "row_count": 8,
              "columns": [
                {
                  "name": "titles",
                  "dtype": "object",
                  "stats": {
                    "unique_count": 8,
                    "nan_count": 0,
                    "categories": [
                      {
                        "name": "Using machine learning to elucidate the genetic underpinnings of multicellularity",
                        "count": 1
                      },
                      {
                        "name": "Classification of Dislocation Cores in HCP and BCC Metals",
                        "count": 1
                      },
                      {
                        "name": "6 others",
                        "count": 6
                      }
                    ]
                  }
                },
                {
                  "name": "pred",
                  "dtype": "object",
                  "stats": {
                    "unique_count": 5,
                    "nan_count": 0,
                    "categories": [
                      {
                        "name": "8.\tAdvanced Methods of Time Series Data Analysis",
                        "count": 2
                      },
                      {
                        "name": "Alecto AI ",
                        "count": 2
                      },
                      {
                        "name": "3 others",
                        "count": 4
                      }
                    ]
                  }
                },
                {
                  "name": "_deepnote_index_column",
                  "dtype": "int64"
                }
              ],
              "rows": [
                {
                  "titles": "Using machine learning to elucidate the genetic underpinnings of multicellularity",
                  "pred": "8.\tAdvanced Methods of Time Series Data Analysis",
                  "_deepnote_index_column": 4
                },
                {
                  "titles": "Classification of Dislocation Cores in HCP and BCC Metals",
                  "pred": "8.\tAdvanced Methods of Time Series Data Analysis",
                  "_deepnote_index_column": 7
                },
                {
                  "titles": "Exploring Visualization Options with a Django Database",
                  "pred": "Alecto AI ",
                  "_deepnote_index_column": 76
                },
                {
                  "titles": "Monetization journey of existing free users",
                  "pred": "Impact of localizing/transalting the discovery experience",
                  "_deepnote_index_column": 95
                },
                {
                  "titles": "Data-backed global pricing strategy",
                  "pred": "Impact of localizing/transalting the discovery experience",
                  "_deepnote_index_column": 96
                },
                {
                  "titles": "The Opportunities and Risks and its Implications in Clinical Research and Training Development",
                  "pred": "Alecto AI ",
                  "_deepnote_index_column": 104
                },
                {
                  "titles": "Demonstrating Reproducibility in Data Science",
                  "pred": "comfortDAT - an open-source data analysis toolkit for thermal comfort research",
                  "_deepnote_index_column": 111
                },
                {
                  "titles": "GMO acceptance of bioengineered brewer's yeast",
                  "pred": "Lead Identification",
                  "_deepnote_index_column": 119
                }
              ]
            },
            "text/plain": "                                                titles  \\\n4    Using machine learning to elucidate the geneti...   \n7    Classification of Dislocation Cores in HCP and...   \n76   Exploring Visualization Options with a Django ...   \n95         Monetization journey of existing free users   \n96                 Data-backed global pricing strategy   \n104  The Opportunities and Risks and its Implicatio...   \n111      Demonstrating Reproducibility in Data Science   \n119     GMO acceptance of bioengineered brewer's yeast   \n\n                                                  pred  \n4    8.\\tAdvanced Methods of Time Series Data Analysis  \n7    8.\\tAdvanced Methods of Time Series Data Analysis  \n76                                          Alecto AI   \n95   Impact of localizing/transalting the discovery...  \n96   Impact of localizing/transalting the discovery...  \n104                                         Alecto AI   \n111  comfortDAT - an open-source data analysis tool...  \n119                                Lead Identification  ",
            "text/html": "<div>\n<style scoped>\n    .dataframe tbody tr th:only-of-type {\n        vertical-align: middle;\n    }\n\n    .dataframe tbody tr th {\n        vertical-align: top;\n    }\n\n    .dataframe thead th {\n        text-align: right;\n    }\n</style>\n<table border=\"1\" class=\"dataframe\">\n  <thead>\n    <tr style=\"text-align: right;\">\n      <th></th>\n      <th>titles</th>\n      <th>pred</th>\n    </tr>\n  </thead>\n  <tbody>\n    <tr>\n      <th>4</th>\n      <td>Using machine learning to elucidate the geneti...</td>\n      <td>8.\\tAdvanced Methods of Time Series Data Analysis</td>\n    </tr>\n    <tr>\n      <th>7</th>\n      <td>Classification of Dislocation Cores in HCP and...</td>\n      <td>8.\\tAdvanced Methods of Time Series Data Analysis</td>\n    </tr>\n    <tr>\n      <th>76</th>\n      <td>Exploring Visualization Options with a Django ...</td>\n      <td>Alecto AI</td>\n    </tr>\n    <tr>\n      <th>95</th>\n      <td>Monetization journey of existing free users</td>\n      <td>Impact of localizing/transalting the discovery...</td>\n    </tr>\n    <tr>\n      <th>96</th>\n      <td>Data-backed global pricing strategy</td>\n      <td>Impact of localizing/transalting the discovery...</td>\n    </tr>\n    <tr>\n      <th>104</th>\n      <td>The Opportunities and Risks and its Implicatio...</td>\n      <td>Alecto AI</td>\n    </tr>\n    <tr>\n      <th>111</th>\n      <td>Demonstrating Reproducibility in Data Science</td>\n      <td>comfortDAT - an open-source data analysis tool...</td>\n    </tr>\n    <tr>\n      <th>119</th>\n      <td>GMO acceptance of bioengineered brewer's yeast</td>\n      <td>Lead Identification</td>\n    </tr>\n  </tbody>\n</table>\n</div>"
          },
          "metadata": {}
        }
      ]
    },
    {
      "cell_type": "code",
      "metadata": {
        "source_hash": "8b057389",
        "execution_start": 1726856020031,
        "execution_millis": 0,
        "execution_context_id": "c078ca54-8cfa-4172-9d38-bf0242bd3596",
        "deepnote_to_be_reexecuted": false,
        "cell_id": "cac24dba18c64618adfb589a17bf3996",
        "deepnote_cell_type": "code",
        "id": "Qnjrd1kIMTj6"
      },
      "source": [
        "def pipelineFunc(response):\n",
        "    #changing the names of the columns\n",
        "    names = {\n",
        "    \"Please indicate the level of experience you are looking for from student applicants in each of the following skills: [Python]\": \"Python\",\n",
        "    \"Please indicate the level of experience you are looking for from student applicants in each of the following skills: [R]\": \"R\",\n",
        "    \"Please indicate the level of experience you are looking for from student applicants in each of the following skills: [SQL]\": \"SQL\",\n",
        "    \"Please indicate the level of experience you are looking for from student applicants in each of the following skills: [Exploratory Data Analysis]\": \"EDA\",\n",
        "    \"Please indicate the level of experience you are looking for from student applicants in each of the following skills: [Data Visualization]\" : \"Data Visualization\",\n",
        "    \"Please indicate the level of experience you are looking for from student applicants in each of the following skills: [Geospatial Data Analysis]\" : \"Geospatial Data Analysis\",\n",
        "    \"Please indicate the level of experience you are looking for from student applicants in each of the following skills: [Natural Language Processing]\" : \"NLP\",\n",
        "    \"Please indicate the level of experience you are looking for from student applicants in each of the following skills: [Deep Learning]\" : \"Deep Learning\",\n",
        "    \"Please indicate the level of experience you are looking for from student applicants in each of the following skills: [Computer Vision]\" : \"Computer Vision\",\n",
        "    \"Please indicate the level of experience you are looking for from student applicants in each of the following skills: [Cloud Computing]\" : \"Cloud Computing\"\n",
        "\n",
        "    }\n",
        "    response = response.rename(columns = names)\n",
        "    response = response.dropna()\n",
        "    replacement = {'No Experience': 0, \"Beginner\":1, 'Intermediate':2, \"Advanced\":3}\n",
        "\n",
        "    response = response.replace(replacement)\n",
        "\n",
        "    return response\n"
      ],
      "execution_count": null,
      "outputs": []
    },
    {
      "cell_type": "code",
      "metadata": {
        "source_hash": "7f10fe8f",
        "execution_start": 1726856020087,
        "execution_millis": 1,
        "execution_context_id": "c078ca54-8cfa-4172-9d38-bf0242bd3596",
        "deepnote_to_be_reexecuted": false,
        "cell_id": "e82087e6a3704d5798a74f7953222644",
        "deepnote_cell_type": "code",
        "id": "2MUon8kwMTj7",
        "outputId": "1c7fa75f-f937-4389-e673-006cb6e5abaa"
      },
      "source": [
        "test = partnerInfo.iloc[:,25:35].iloc[[0]]\n",
        "test\n",
        "\n",
        "test_response = pipelineFunc(test)\n",
        "test_response\n"
      ],
      "execution_count": null,
      "outputs": [
        {
          "output_type": "execute_result",
          "execution_count": 11,
          "data": {
            "application/vnd.deepnote.dataframe.v3+json": {
              "column_count": 10,
              "row_count": 1,
              "columns": [
                {
                  "name": "Python",
                  "dtype": "int64",
                  "stats": {
                    "unique_count": 1,
                    "nan_count": 0,
                    "min": "2",
                    "max": "2",
                    "histogram": [
                      {
                        "bin_start": 1.5,
                        "bin_end": 1.6,
                        "count": 0
                      },
                      {
                        "bin_start": 1.6,
                        "bin_end": 1.7,
                        "count": 0
                      },
                      {
                        "bin_start": 1.7,
                        "bin_end": 1.8,
                        "count": 0
                      },
                      {
                        "bin_start": 1.8,
                        "bin_end": 1.9,
                        "count": 0
                      },
                      {
                        "bin_start": 1.9,
                        "bin_end": 2,
                        "count": 0
                      },
                      {
                        "bin_start": 2,
                        "bin_end": 2.1,
                        "count": 1
                      },
                      {
                        "bin_start": 2.1,
                        "bin_end": 2.2,
                        "count": 0
                      },
                      {
                        "bin_start": 2.2,
                        "bin_end": 2.3,
                        "count": 0
                      },
                      {
                        "bin_start": 2.3,
                        "bin_end": 2.4,
                        "count": 0
                      },
                      {
                        "bin_start": 2.4,
                        "bin_end": 2.5,
                        "count": 0
                      }
                    ]
                  }
                },
                {
                  "name": "R",
                  "dtype": "int64",
                  "stats": {
                    "unique_count": 1,
                    "nan_count": 0,
                    "min": "0",
                    "max": "0",
                    "histogram": [
                      {
                        "bin_start": -0.5,
                        "bin_end": -0.4,
                        "count": 0
                      },
                      {
                        "bin_start": -0.4,
                        "bin_end": -0.3,
                        "count": 0
                      },
                      {
                        "bin_start": -0.3,
                        "bin_end": -0.19999999999999996,
                        "count": 0
                      },
                      {
                        "bin_start": -0.19999999999999996,
                        "bin_end": -0.09999999999999998,
                        "count": 0
                      },
                      {
                        "bin_start": -0.09999999999999998,
                        "bin_end": 0,
                        "count": 0
                      },
                      {
                        "bin_start": 0,
                        "bin_end": 0.10000000000000009,
                        "count": 1
                      },
                      {
                        "bin_start": 0.10000000000000009,
                        "bin_end": 0.20000000000000007,
                        "count": 0
                      },
                      {
                        "bin_start": 0.20000000000000007,
                        "bin_end": 0.30000000000000004,
                        "count": 0
                      },
                      {
                        "bin_start": 0.30000000000000004,
                        "bin_end": 0.4,
                        "count": 0
                      },
                      {
                        "bin_start": 0.4,
                        "bin_end": 0.5,
                        "count": 0
                      }
                    ]
                  }
                },
                {
                  "name": "SQL",
                  "dtype": "int64",
                  "stats": {
                    "unique_count": 1,
                    "nan_count": 0,
                    "min": "0",
                    "max": "0",
                    "histogram": [
                      {
                        "bin_start": -0.5,
                        "bin_end": -0.4,
                        "count": 0
                      },
                      {
                        "bin_start": -0.4,
                        "bin_end": -0.3,
                        "count": 0
                      },
                      {
                        "bin_start": -0.3,
                        "bin_end": -0.19999999999999996,
                        "count": 0
                      },
                      {
                        "bin_start": -0.19999999999999996,
                        "bin_end": -0.09999999999999998,
                        "count": 0
                      },
                      {
                        "bin_start": -0.09999999999999998,
                        "bin_end": 0,
                        "count": 0
                      },
                      {
                        "bin_start": 0,
                        "bin_end": 0.10000000000000009,
                        "count": 1
                      },
                      {
                        "bin_start": 0.10000000000000009,
                        "bin_end": 0.20000000000000007,
                        "count": 0
                      },
                      {
                        "bin_start": 0.20000000000000007,
                        "bin_end": 0.30000000000000004,
                        "count": 0
                      },
                      {
                        "bin_start": 0.30000000000000004,
                        "bin_end": 0.4,
                        "count": 0
                      },
                      {
                        "bin_start": 0.4,
                        "bin_end": 0.5,
                        "count": 0
                      }
                    ]
                  }
                },
                {
                  "name": "EDA",
                  "dtype": "int64",
                  "stats": {
                    "unique_count": 1,
                    "nan_count": 0,
                    "min": "2",
                    "max": "2",
                    "histogram": [
                      {
                        "bin_start": 1.5,
                        "bin_end": 1.6,
                        "count": 0
                      },
                      {
                        "bin_start": 1.6,
                        "bin_end": 1.7,
                        "count": 0
                      },
                      {
                        "bin_start": 1.7,
                        "bin_end": 1.8,
                        "count": 0
                      },
                      {
                        "bin_start": 1.8,
                        "bin_end": 1.9,
                        "count": 0
                      },
                      {
                        "bin_start": 1.9,
                        "bin_end": 2,
                        "count": 0
                      },
                      {
                        "bin_start": 2,
                        "bin_end": 2.1,
                        "count": 1
                      },
                      {
                        "bin_start": 2.1,
                        "bin_end": 2.2,
                        "count": 0
                      },
                      {
                        "bin_start": 2.2,
                        "bin_end": 2.3,
                        "count": 0
                      },
                      {
                        "bin_start": 2.3,
                        "bin_end": 2.4,
                        "count": 0
                      },
                      {
                        "bin_start": 2.4,
                        "bin_end": 2.5,
                        "count": 0
                      }
                    ]
                  }
                },
                {
                  "name": "Data Visualization",
                  "dtype": "int64",
                  "stats": {
                    "unique_count": 1,
                    "nan_count": 0,
                    "min": "2",
                    "max": "2",
                    "histogram": [
                      {
                        "bin_start": 1.5,
                        "bin_end": 1.6,
                        "count": 0
                      },
                      {
                        "bin_start": 1.6,
                        "bin_end": 1.7,
                        "count": 0
                      },
                      {
                        "bin_start": 1.7,
                        "bin_end": 1.8,
                        "count": 0
                      },
                      {
                        "bin_start": 1.8,
                        "bin_end": 1.9,
                        "count": 0
                      },
                      {
                        "bin_start": 1.9,
                        "bin_end": 2,
                        "count": 0
                      },
                      {
                        "bin_start": 2,
                        "bin_end": 2.1,
                        "count": 1
                      },
                      {
                        "bin_start": 2.1,
                        "bin_end": 2.2,
                        "count": 0
                      },
                      {
                        "bin_start": 2.2,
                        "bin_end": 2.3,
                        "count": 0
                      },
                      {
                        "bin_start": 2.3,
                        "bin_end": 2.4,
                        "count": 0
                      },
                      {
                        "bin_start": 2.4,
                        "bin_end": 2.5,
                        "count": 0
                      }
                    ]
                  }
                },
                {
                  "name": "Geospatial Data Analysis",
                  "dtype": "int64",
                  "stats": {
                    "unique_count": 1,
                    "nan_count": 0,
                    "min": "1",
                    "max": "1",
                    "histogram": [
                      {
                        "bin_start": 0.5,
                        "bin_end": 0.6,
                        "count": 0
                      },
                      {
                        "bin_start": 0.6,
                        "bin_end": 0.7,
                        "count": 0
                      },
                      {
                        "bin_start": 0.7,
                        "bin_end": 0.8,
                        "count": 0
                      },
                      {
                        "bin_start": 0.8,
                        "bin_end": 0.9,
                        "count": 0
                      },
                      {
                        "bin_start": 0.9,
                        "bin_end": 1,
                        "count": 0
                      },
                      {
                        "bin_start": 1,
                        "bin_end": 1.1,
                        "count": 1
                      },
                      {
                        "bin_start": 1.1,
                        "bin_end": 1.2000000000000002,
                        "count": 0
                      },
                      {
                        "bin_start": 1.2000000000000002,
                        "bin_end": 1.3,
                        "count": 0
                      },
                      {
                        "bin_start": 1.3,
                        "bin_end": 1.4,
                        "count": 0
                      },
                      {
                        "bin_start": 1.4,
                        "bin_end": 1.5,
                        "count": 0
                      }
                    ]
                  }
                },
                {
                  "name": "NLP",
                  "dtype": "int64",
                  "stats": {
                    "unique_count": 1,
                    "nan_count": 0,
                    "min": "0",
                    "max": "0",
                    "histogram": [
                      {
                        "bin_start": -0.5,
                        "bin_end": -0.4,
                        "count": 0
                      },
                      {
                        "bin_start": -0.4,
                        "bin_end": -0.3,
                        "count": 0
                      },
                      {
                        "bin_start": -0.3,
                        "bin_end": -0.19999999999999996,
                        "count": 0
                      },
                      {
                        "bin_start": -0.19999999999999996,
                        "bin_end": -0.09999999999999998,
                        "count": 0
                      },
                      {
                        "bin_start": -0.09999999999999998,
                        "bin_end": 0,
                        "count": 0
                      },
                      {
                        "bin_start": 0,
                        "bin_end": 0.10000000000000009,
                        "count": 1
                      },
                      {
                        "bin_start": 0.10000000000000009,
                        "bin_end": 0.20000000000000007,
                        "count": 0
                      },
                      {
                        "bin_start": 0.20000000000000007,
                        "bin_end": 0.30000000000000004,
                        "count": 0
                      },
                      {
                        "bin_start": 0.30000000000000004,
                        "bin_end": 0.4,
                        "count": 0
                      },
                      {
                        "bin_start": 0.4,
                        "bin_end": 0.5,
                        "count": 0
                      }
                    ]
                  }
                },
                {
                  "name": "Deep Learning",
                  "dtype": "int64",
                  "stats": {
                    "unique_count": 1,
                    "nan_count": 0,
                    "min": "1",
                    "max": "1",
                    "histogram": [
                      {
                        "bin_start": 0.5,
                        "bin_end": 0.6,
                        "count": 0
                      },
                      {
                        "bin_start": 0.6,
                        "bin_end": 0.7,
                        "count": 0
                      },
                      {
                        "bin_start": 0.7,
                        "bin_end": 0.8,
                        "count": 0
                      },
                      {
                        "bin_start": 0.8,
                        "bin_end": 0.9,
                        "count": 0
                      },
                      {
                        "bin_start": 0.9,
                        "bin_end": 1,
                        "count": 0
                      },
                      {
                        "bin_start": 1,
                        "bin_end": 1.1,
                        "count": 1
                      },
                      {
                        "bin_start": 1.1,
                        "bin_end": 1.2000000000000002,
                        "count": 0
                      },
                      {
                        "bin_start": 1.2000000000000002,
                        "bin_end": 1.3,
                        "count": 0
                      },
                      {
                        "bin_start": 1.3,
                        "bin_end": 1.4,
                        "count": 0
                      },
                      {
                        "bin_start": 1.4,
                        "bin_end": 1.5,
                        "count": 0
                      }
                    ]
                  }
                },
                {
                  "name": "Computer Vision",
                  "dtype": "int64",
                  "stats": {
                    "unique_count": 1,
                    "nan_count": 0,
                    "min": "1",
                    "max": "1",
                    "histogram": [
                      {
                        "bin_start": 0.5,
                        "bin_end": 0.6,
                        "count": 0
                      },
                      {
                        "bin_start": 0.6,
                        "bin_end": 0.7,
                        "count": 0
                      },
                      {
                        "bin_start": 0.7,
                        "bin_end": 0.8,
                        "count": 0
                      },
                      {
                        "bin_start": 0.8,
                        "bin_end": 0.9,
                        "count": 0
                      },
                      {
                        "bin_start": 0.9,
                        "bin_end": 1,
                        "count": 0
                      },
                      {
                        "bin_start": 1,
                        "bin_end": 1.1,
                        "count": 1
                      },
                      {
                        "bin_start": 1.1,
                        "bin_end": 1.2000000000000002,
                        "count": 0
                      },
                      {
                        "bin_start": 1.2000000000000002,
                        "bin_end": 1.3,
                        "count": 0
                      },
                      {
                        "bin_start": 1.3,
                        "bin_end": 1.4,
                        "count": 0
                      },
                      {
                        "bin_start": 1.4,
                        "bin_end": 1.5,
                        "count": 0
                      }
                    ]
                  }
                },
                {
                  "name": "Cloud Computing",
                  "dtype": "int64",
                  "stats": {
                    "unique_count": 1,
                    "nan_count": 0,
                    "min": "0",
                    "max": "0",
                    "histogram": [
                      {
                        "bin_start": -0.5,
                        "bin_end": -0.4,
                        "count": 0
                      },
                      {
                        "bin_start": -0.4,
                        "bin_end": -0.3,
                        "count": 0
                      },
                      {
                        "bin_start": -0.3,
                        "bin_end": -0.19999999999999996,
                        "count": 0
                      },
                      {
                        "bin_start": -0.19999999999999996,
                        "bin_end": -0.09999999999999998,
                        "count": 0
                      },
                      {
                        "bin_start": -0.09999999999999998,
                        "bin_end": 0,
                        "count": 0
                      },
                      {
                        "bin_start": 0,
                        "bin_end": 0.10000000000000009,
                        "count": 1
                      },
                      {
                        "bin_start": 0.10000000000000009,
                        "bin_end": 0.20000000000000007,
                        "count": 0
                      },
                      {
                        "bin_start": 0.20000000000000007,
                        "bin_end": 0.30000000000000004,
                        "count": 0
                      },
                      {
                        "bin_start": 0.30000000000000004,
                        "bin_end": 0.4,
                        "count": 0
                      },
                      {
                        "bin_start": 0.4,
                        "bin_end": 0.5,
                        "count": 0
                      }
                    ]
                  }
                },
                {
                  "name": "_deepnote_index_column",
                  "dtype": "int64"
                }
              ],
              "rows": [
                {
                  "Python": 2,
                  "R": 0,
                  "SQL": 0,
                  "EDA": 2,
                  "Data Visualization": 2,
                  "Geospatial Data Analysis": 1,
                  "NLP": 0,
                  "Deep Learning": 1,
                  "Computer Vision": 1,
                  "Cloud Computing": 0,
                  "_deepnote_index_column": 0
                }
              ]
            },
            "text/plain": "   Python  R  SQL  EDA  Data Visualization  Geospatial Data Analysis  NLP  \\\n0       2  0    0    2                   2                         1    0   \n\n   Deep Learning  Computer Vision  Cloud Computing  \n0              1                1                0  ",
            "text/html": "<div>\n<style scoped>\n    .dataframe tbody tr th:only-of-type {\n        vertical-align: middle;\n    }\n\n    .dataframe tbody tr th {\n        vertical-align: top;\n    }\n\n    .dataframe thead th {\n        text-align: right;\n    }\n</style>\n<table border=\"1\" class=\"dataframe\">\n  <thead>\n    <tr style=\"text-align: right;\">\n      <th></th>\n      <th>Python</th>\n      <th>R</th>\n      <th>SQL</th>\n      <th>EDA</th>\n      <th>Data Visualization</th>\n      <th>Geospatial Data Analysis</th>\n      <th>NLP</th>\n      <th>Deep Learning</th>\n      <th>Computer Vision</th>\n      <th>Cloud Computing</th>\n    </tr>\n  </thead>\n  <tbody>\n    <tr>\n      <th>0</th>\n      <td>2</td>\n      <td>0</td>\n      <td>0</td>\n      <td>2</td>\n      <td>2</td>\n      <td>1</td>\n      <td>0</td>\n      <td>1</td>\n      <td>1</td>\n      <td>0</td>\n    </tr>\n  </tbody>\n</table>\n</div>"
          },
          "metadata": {}
        }
      ]
    },
    {
      "cell_type": "code",
      "metadata": {
        "source_hash": "40b4d0b8",
        "execution_start": 1726856020135,
        "execution_millis": 1,
        "execution_context_id": "c078ca54-8cfa-4172-9d38-bf0242bd3596",
        "deepnote_to_be_reexecuted": false,
        "cell_id": "3d6b3603bcb64d1ab53a6f9497e4f9c3",
        "deepnote_cell_type": "code",
        "id": "0hXIcOHpMTj7",
        "outputId": "43b3679b-f0b6-4448-9b5c-25bd4644e697"
      },
      "source": [
        "predictor.predict(test_response)"
      ],
      "execution_count": null,
      "outputs": [
        {
          "output_type": "execute_result",
          "execution_count": 12,
          "data": {
            "text/plain": "array(['Mobility Analytics'], dtype=object)"
          },
          "metadata": {}
        }
      ]
    },
    {
      "cell_type": "code",
      "metadata": {
        "source_hash": "8b07b284",
        "execution_start": 1726856020187,
        "execution_millis": 1,
        "execution_context_id": "c078ca54-8cfa-4172-9d38-bf0242bd3596",
        "deepnote_to_be_reexecuted": false,
        "cell_id": "3e44e79dcb164e0dab33e57b628f84b7",
        "deepnote_cell_type": "code",
        "id": "fURVUkrWMTj7",
        "outputId": "2a68bec0-66cd-48dd-bbd3-d6ac0c29dd22"
      },
      "source": [
        "test_2 = partnerInfo.iloc[:,25:35].iloc[[0]].replace(\"Intermediate\", \"Advanced\")\n",
        "x = pipelineFunc(test_2)\n",
        "predictor.predict(x)"
      ],
      "execution_count": null,
      "outputs": [
        {
          "output_type": "execute_result",
          "execution_count": 13,
          "data": {
            "text/plain": "array(['Dataset for Automation of Quantum Dot Devices Control'],\n      dtype=object)"
          },
          "metadata": {}
        }
      ]
    },
    {
      "cell_type": "code",
      "metadata": {
        "source_hash": "4e3b7f95",
        "execution_start": 1726856020243,
        "execution_millis": 1,
        "execution_context_id": "c078ca54-8cfa-4172-9d38-bf0242bd3596",
        "deepnote_to_be_reexecuted": false,
        "cell_id": "c21472f6839448469879c9a4cd9381f2",
        "deepnote_cell_type": "code",
        "id": "djzQeyQ0MTj7",
        "outputId": "3ebbabf6-06cd-4807-fccd-b5ca42b6afbe"
      },
      "source": [
        "table = skills[[\"Project Title\"]].sort_values(\"Project Title\").reset_index(drop=True)\n",
        "arr = pd.Series(predictor.predict_proba(x)[0])\n",
        "table[\"probs\"] = arr\n",
        "table.sort_values(\"probs\", ascending=False).iloc[0:5,0]"
      ],
      "execution_count": null,
      "outputs": [
        {
          "output_type": "execute_result",
          "execution_count": 14,
          "data": {
            "text/plain": "37    Dataset for Automation of Quantum Dot Devices ...\n25    Community Science Measuring Lead Hazards in Ne...\n67    Interactive 3D Visualization to enable Visual ...\n79                                   Mobility Analytics\n5     Accelerating Quantum Optical Spectroscopy with...\nName: Project Title, dtype: object"
          },
          "metadata": {}
        }
      ]
    },
    {
      "cell_type": "code",
      "metadata": {
        "source_hash": "51d396d3",
        "execution_start": 1726856020299,
        "execution_millis": 1,
        "execution_context_id": "c078ca54-8cfa-4172-9d38-bf0242bd3596",
        "deepnote_to_be_reexecuted": false,
        "cell_id": "158e40d549a74e358a573c11f128941f",
        "deepnote_cell_type": "code",
        "id": "7m2FkuZbMTj7",
        "outputId": "4937ac6e-15c9-455f-c68b-6442e691296b"
      },
      "source": [
        "curr = partnerInfo.iloc[:,25:35].iloc[[9]]\n",
        "fin = pipelineFunc(curr)\n",
        "predictor.predict(fin)"
      ],
      "execution_count": null,
      "outputs": [
        {
          "output_type": "execute_result",
          "execution_count": 15,
          "data": {
            "text/plain": "array(['ChatCHW for community health workers '], dtype=object)"
          },
          "metadata": {}
        }
      ]
    },
    {
      "cell_type": "markdown",
      "metadata": {
        "formattedRanges": [],
        "cell_id": "683c5b5bd4604e84b7a3064bfa764b93",
        "deepnote_cell_type": "text-cell-p",
        "id": "AbdfEXVDMTj8"
      },
      "source": [
        "## Generate fake test data:"
      ]
    },
    {
      "cell_type": "code",
      "metadata": {
        "source_hash": "50c83906",
        "execution_start": 1726856020390,
        "execution_millis": 182,
        "deepnote_table_state": {
          "sortBy": [],
          "filters": [],
          "pageSize": 10,
          "pageIndex": 0
        },
        "execution_context_id": "c078ca54-8cfa-4172-9d38-bf0242bd3596",
        "deepnote_table_loading": false,
        "deepnote_to_be_reexecuted": false,
        "cell_id": "c034d45458f94b60bcb93df9fc6ff042",
        "deepnote_cell_type": "code",
        "id": "6BOG8baJMTj8",
        "outputId": "fbd270e1-0129-4bc0-9b42-25d0b09c2442"
      },
      "source": [
        "import itertools\n",
        "\n",
        "columns = ['Python', 'R', 'SQL', 'EDA', 'Data Visualization',\n",
        "           'Geospatial Data Analysis', 'NLP', 'Deep Learning',\n",
        "           'Computer Vision', 'Cloud Computing']\n",
        "combinations = list(itertools.product([1, 2, 3], repeat=len(columns)))\n",
        "df_all = pd.DataFrame(combinations, columns=columns)\n",
        "df_all"
      ],
      "execution_count": null,
      "outputs": [
        {
          "output_type": "execute_result",
          "execution_count": 16,
          "data": {
            "application/vnd.deepnote.dataframe.v3+json": {
              "column_count": 10,
              "row_count": 59049,
              "columns": [
                {
                  "name": "Python",
                  "dtype": "int64",
                  "stats": {
                    "unique_count": 3,
                    "nan_count": 0,
                    "min": "1",
                    "max": "3",
                    "histogram": [
                      {
                        "bin_start": 1,
                        "bin_end": 1.2,
                        "count": 19683
                      },
                      {
                        "bin_start": 1.2,
                        "bin_end": 1.4,
                        "count": 0
                      },
                      {
                        "bin_start": 1.4,
                        "bin_end": 1.6,
                        "count": 0
                      },
                      {
                        "bin_start": 1.6,
                        "bin_end": 1.8,
                        "count": 0
                      },
                      {
                        "bin_start": 1.8,
                        "bin_end": 2,
                        "count": 0
                      },
                      {
                        "bin_start": 2,
                        "bin_end": 2.2,
                        "count": 19683
                      },
                      {
                        "bin_start": 2.2,
                        "bin_end": 2.4000000000000004,
                        "count": 0
                      },
                      {
                        "bin_start": 2.4000000000000004,
                        "bin_end": 2.6,
                        "count": 0
                      },
                      {
                        "bin_start": 2.6,
                        "bin_end": 2.8,
                        "count": 0
                      },
                      {
                        "bin_start": 2.8,
                        "bin_end": 3,
                        "count": 19683
                      }
                    ]
                  }
                },
                {
                  "name": "R",
                  "dtype": "int64"
                },
                {
                  "name": "SQL",
                  "dtype": "int64"
                },
                {
                  "name": "EDA",
                  "dtype": "int64"
                },
                {
                  "name": "Data Visualization",
                  "dtype": "int64"
                },
                {
                  "name": "Geospatial Data Analysis",
                  "dtype": "int64"
                },
                {
                  "name": "NLP",
                  "dtype": "int64"
                },
                {
                  "name": "Deep Learning",
                  "dtype": "int64"
                },
                {
                  "name": "Computer Vision",
                  "dtype": "int64"
                },
                {
                  "name": "Cloud Computing",
                  "dtype": "int64"
                },
                {
                  "name": "_deepnote_index_column",
                  "dtype": "int64"
                }
              ],
              "rows": [
                {
                  "Python": 1,
                  "R": 1,
                  "SQL": 1,
                  "EDA": 1,
                  "Data Visualization": 1,
                  "Geospatial Data Analysis": 1,
                  "NLP": 1,
                  "Deep Learning": 1,
                  "Computer Vision": 1,
                  "Cloud Computing": 1,
                  "_deepnote_index_column": 0
                },
                {
                  "Python": 1,
                  "R": 1,
                  "SQL": 1,
                  "EDA": 1,
                  "Data Visualization": 1,
                  "Geospatial Data Analysis": 1,
                  "NLP": 1,
                  "Deep Learning": 1,
                  "Computer Vision": 1,
                  "Cloud Computing": 2,
                  "_deepnote_index_column": 1
                },
                {
                  "Python": 1,
                  "R": 1,
                  "SQL": 1,
                  "EDA": 1,
                  "Data Visualization": 1,
                  "Geospatial Data Analysis": 1,
                  "NLP": 1,
                  "Deep Learning": 1,
                  "Computer Vision": 1,
                  "Cloud Computing": 3,
                  "_deepnote_index_column": 2
                },
                {
                  "Python": 1,
                  "R": 1,
                  "SQL": 1,
                  "EDA": 1,
                  "Data Visualization": 1,
                  "Geospatial Data Analysis": 1,
                  "NLP": 1,
                  "Deep Learning": 1,
                  "Computer Vision": 2,
                  "Cloud Computing": 1,
                  "_deepnote_index_column": 3
                },
                {
                  "Python": 1,
                  "R": 1,
                  "SQL": 1,
                  "EDA": 1,
                  "Data Visualization": 1,
                  "Geospatial Data Analysis": 1,
                  "NLP": 1,
                  "Deep Learning": 1,
                  "Computer Vision": 2,
                  "Cloud Computing": 2,
                  "_deepnote_index_column": 4
                },
                {
                  "Python": 1,
                  "R": 1,
                  "SQL": 1,
                  "EDA": 1,
                  "Data Visualization": 1,
                  "Geospatial Data Analysis": 1,
                  "NLP": 1,
                  "Deep Learning": 1,
                  "Computer Vision": 2,
                  "Cloud Computing": 3,
                  "_deepnote_index_column": 5
                },
                {
                  "Python": 1,
                  "R": 1,
                  "SQL": 1,
                  "EDA": 1,
                  "Data Visualization": 1,
                  "Geospatial Data Analysis": 1,
                  "NLP": 1,
                  "Deep Learning": 1,
                  "Computer Vision": 3,
                  "Cloud Computing": 1,
                  "_deepnote_index_column": 6
                },
                {
                  "Python": 1,
                  "R": 1,
                  "SQL": 1,
                  "EDA": 1,
                  "Data Visualization": 1,
                  "Geospatial Data Analysis": 1,
                  "NLP": 1,
                  "Deep Learning": 1,
                  "Computer Vision": 3,
                  "Cloud Computing": 2,
                  "_deepnote_index_column": 7
                },
                {
                  "Python": 1,
                  "R": 1,
                  "SQL": 1,
                  "EDA": 1,
                  "Data Visualization": 1,
                  "Geospatial Data Analysis": 1,
                  "NLP": 1,
                  "Deep Learning": 1,
                  "Computer Vision": 3,
                  "Cloud Computing": 3,
                  "_deepnote_index_column": 8
                },
                {
                  "Python": 1,
                  "R": 1,
                  "SQL": 1,
                  "EDA": 1,
                  "Data Visualization": 1,
                  "Geospatial Data Analysis": 1,
                  "NLP": 1,
                  "Deep Learning": 2,
                  "Computer Vision": 1,
                  "Cloud Computing": 1,
                  "_deepnote_index_column": 9
                }
              ]
            },
            "text/plain": "       Python  R  SQL  EDA  Data Visualization  Geospatial Data Analysis  NLP  \\\n0           1  1    1    1                   1                         1    1   \n1           1  1    1    1                   1                         1    1   \n2           1  1    1    1                   1                         1    1   \n3           1  1    1    1                   1                         1    1   \n4           1  1    1    1                   1                         1    1   \n...       ... ..  ...  ...                 ...                       ...  ...   \n59044       3  3    3    3                   3                         3    3   \n59045       3  3    3    3                   3                         3    3   \n59046       3  3    3    3                   3                         3    3   \n59047       3  3    3    3                   3                         3    3   \n59048       3  3    3    3                   3                         3    3   \n\n       Deep Learning  Computer Vision  Cloud Computing  \n0                  1                1                1  \n1                  1                1                2  \n2                  1                1                3  \n3                  1                2                1  \n4                  1                2                2  \n...              ...              ...              ...  \n59044              3                2                2  \n59045              3                2                3  \n59046              3                3                1  \n59047              3                3                2  \n59048              3                3                3  \n\n[59049 rows x 10 columns]",
            "text/html": "<div>\n<style scoped>\n    .dataframe tbody tr th:only-of-type {\n        vertical-align: middle;\n    }\n\n    .dataframe tbody tr th {\n        vertical-align: top;\n    }\n\n    .dataframe thead th {\n        text-align: right;\n    }\n</style>\n<table border=\"1\" class=\"dataframe\">\n  <thead>\n    <tr style=\"text-align: right;\">\n      <th></th>\n      <th>Python</th>\n      <th>R</th>\n      <th>SQL</th>\n      <th>EDA</th>\n      <th>Data Visualization</th>\n      <th>Geospatial Data Analysis</th>\n      <th>NLP</th>\n      <th>Deep Learning</th>\n      <th>Computer Vision</th>\n      <th>Cloud Computing</th>\n    </tr>\n  </thead>\n  <tbody>\n    <tr>\n      <th>0</th>\n      <td>1</td>\n      <td>1</td>\n      <td>1</td>\n      <td>1</td>\n      <td>1</td>\n      <td>1</td>\n      <td>1</td>\n      <td>1</td>\n      <td>1</td>\n      <td>1</td>\n    </tr>\n    <tr>\n      <th>1</th>\n      <td>1</td>\n      <td>1</td>\n      <td>1</td>\n      <td>1</td>\n      <td>1</td>\n      <td>1</td>\n      <td>1</td>\n      <td>1</td>\n      <td>1</td>\n      <td>2</td>\n    </tr>\n    <tr>\n      <th>2</th>\n      <td>1</td>\n      <td>1</td>\n      <td>1</td>\n      <td>1</td>\n      <td>1</td>\n      <td>1</td>\n      <td>1</td>\n      <td>1</td>\n      <td>1</td>\n      <td>3</td>\n    </tr>\n    <tr>\n      <th>3</th>\n      <td>1</td>\n      <td>1</td>\n      <td>1</td>\n      <td>1</td>\n      <td>1</td>\n      <td>1</td>\n      <td>1</td>\n      <td>1</td>\n      <td>2</td>\n      <td>1</td>\n    </tr>\n    <tr>\n      <th>4</th>\n      <td>1</td>\n      <td>1</td>\n      <td>1</td>\n      <td>1</td>\n      <td>1</td>\n      <td>1</td>\n      <td>1</td>\n      <td>1</td>\n      <td>2</td>\n      <td>2</td>\n    </tr>\n    <tr>\n      <th>...</th>\n      <td>...</td>\n      <td>...</td>\n      <td>...</td>\n      <td>...</td>\n      <td>...</td>\n      <td>...</td>\n      <td>...</td>\n      <td>...</td>\n      <td>...</td>\n      <td>...</td>\n    </tr>\n    <tr>\n      <th>59044</th>\n      <td>3</td>\n      <td>3</td>\n      <td>3</td>\n      <td>3</td>\n      <td>3</td>\n      <td>3</td>\n      <td>3</td>\n      <td>3</td>\n      <td>2</td>\n      <td>2</td>\n    </tr>\n    <tr>\n      <th>59045</th>\n      <td>3</td>\n      <td>3</td>\n      <td>3</td>\n      <td>3</td>\n      <td>3</td>\n      <td>3</td>\n      <td>3</td>\n      <td>3</td>\n      <td>2</td>\n      <td>3</td>\n    </tr>\n    <tr>\n      <th>59046</th>\n      <td>3</td>\n      <td>3</td>\n      <td>3</td>\n      <td>3</td>\n      <td>3</td>\n      <td>3</td>\n      <td>3</td>\n      <td>3</td>\n      <td>3</td>\n      <td>1</td>\n    </tr>\n    <tr>\n      <th>59047</th>\n      <td>3</td>\n      <td>3</td>\n      <td>3</td>\n      <td>3</td>\n      <td>3</td>\n      <td>3</td>\n      <td>3</td>\n      <td>3</td>\n      <td>3</td>\n      <td>2</td>\n    </tr>\n    <tr>\n      <th>59048</th>\n      <td>3</td>\n      <td>3</td>\n      <td>3</td>\n      <td>3</td>\n      <td>3</td>\n      <td>3</td>\n      <td>3</td>\n      <td>3</td>\n      <td>3</td>\n      <td>3</td>\n    </tr>\n  </tbody>\n</table>\n<p>59049 rows × 10 columns</p>\n</div>"
          },
          "metadata": {}
        }
      ]
    },
    {
      "cell_type": "code",
      "metadata": {
        "source_hash": "31cd09e4",
        "execution_start": 1726856020671,
        "execution_millis": 0,
        "execution_context_id": "c078ca54-8cfa-4172-9d38-bf0242bd3596",
        "deepnote_to_be_reexecuted": false,
        "cell_id": "1180e383eb3e40279b8bba2510529c57",
        "deepnote_cell_type": "code",
        "id": "gc9R17f6MTj8"
      },
      "source": [
        "def prob_pred(x):\n",
        "    table = skills[[\"Project Title\"]].sort_values(\"Project Title\").reset_index(drop=True)\n",
        "    arr = pd.Series(predictor.predict_proba(x)[0])\n",
        "    table[\"probs\"] = arr\n",
        "    table = table.sort_values(\"probs\", ascending=False).iloc[0:5,0].reset_index(drop=True)\n",
        "    return table"
      ],
      "execution_count": null,
      "outputs": []
    },
    {
      "cell_type": "code",
      "metadata": {
        "source_hash": "5932a4c8",
        "execution_start": 1726856020735,
        "execution_millis": 107995,
        "execution_context_id": "c078ca54-8cfa-4172-9d38-bf0242bd3596",
        "deepnote_to_be_reexecuted": false,
        "cell_id": "dc87758e5faa4691ad5e335b4669f4db",
        "deepnote_cell_type": "code",
        "id": "C993pMjUMTj8"
      },
      "source": [
        "batch_size = 100  # Adjust the batch size according to your system's capabilities\n",
        "\n",
        "skills_sorted = skills[[\"Project Title\"]].sort_values(\"Project Title\").reset_index(drop=True)\n",
        "\n",
        "# Define a function that processes a batch of data\n",
        "def process_batch(batch_data):\n",
        "    # Get the probability predictions for the batch\n",
        "    prob_predictions = predictor.predict_proba(batch_data)\n",
        "\n",
        "    # Create a DataFrame to store results for the batch\n",
        "    batch_results = pd.DataFrame()\n",
        "\n",
        "    # Iterate through each set of probabilities and corresponding index\n",
        "    for index, proba in enumerate(prob_predictions):\n",
        "        # Get the index of the sorted probabilities (descending order)\n",
        "        sorted_idx = (-proba).argsort()\n",
        "\n",
        "        # Create a DataFrame with project titles and their probabilities\n",
        "        temp_df = pd.DataFrame({\n",
        "            'Project Title': skills_sorted['Project Title'].iloc[sorted_idx].values,\n",
        "            'Probability': np.sort(proba)[::-1]\n",
        "        })\n",
        "\n",
        "        # Only take the top N projects if necessary\n",
        "        # temp_df = temp_df.head(N)\n",
        "\n",
        "        # Append a column with the original index to maintain association with input\n",
        "        temp_df['Original Index'] = index + batch_data.index.start\n",
        "\n",
        "        # Append to the batch results\n",
        "        batch_results = pd.concat([batch_results, temp_df])\n",
        "\n",
        "    return batch_results\n",
        "\n",
        "# Prepare a DataFrame to collect all results\n",
        "final_results = pd.DataFrame()\n",
        "\n",
        "# Process each batch and concatenate the results\n",
        "for start in range(0, df_all.shape[0], batch_size):\n",
        "    end = min(start + batch_size, df_all.shape[0])\n",
        "    batch_data = df_all.iloc[start:end]\n",
        "    batch_results = process_batch(batch_data)\n",
        "    final_results = pd.concat([final_results, batch_results], ignore_index=True)\n",
        "\n",
        "# Merge final_results back with df_all to match each input row with its predictions\n",
        "df_all_with_predictions = df_all.reset_index().merge(final_results, left_on='index', right_on='Original Index', how='left')\n",
        "\n",
        "# Drop the extra columns we no longer need\n",
        "df_all_with_predictions.drop(['index', 'Original Index'], axis=1, inplace=True)\n",
        "\n",
        "# Now, df_all_with_predictions contains the original data in df_all with associated project titles and their probabilities"
      ],
      "execution_count": null,
      "outputs": []
    },
    {
      "cell_type": "code",
      "metadata": {
        "source_hash": "5fe9c69b",
        "execution_start": 1726856128776,
        "execution_millis": 963,
        "deepnote_table_state": {
          "sortBy": [],
          "filters": [],
          "pageSize": 10,
          "pageIndex": 0
        },
        "execution_context_id": "c078ca54-8cfa-4172-9d38-bf0242bd3596",
        "deepnote_table_invalid": false,
        "deepnote_table_loading": false,
        "deepnote_to_be_reexecuted": false,
        "cell_id": "94bec0aeeff34555a5095a75587e542b",
        "deepnote_cell_type": "code",
        "id": "EPQrJZLMMTj8",
        "outputId": "e489217a-5f48-4d89-d824-2420ef86a983"
      },
      "source": [
        "df_all_with_predictions"
      ],
      "execution_count": null,
      "outputs": [
        {
          "output_type": "execute_result",
          "execution_count": 20,
          "data": {
            "application/vnd.deepnote.dataframe.v3+json": {
              "column_count": 12,
              "row_count": 7558272,
              "columns": [
                {
                  "name": "Python",
                  "dtype": "int64"
                },
                {
                  "name": "R",
                  "dtype": "int64"
                },
                {
                  "name": "SQL",
                  "dtype": "int64"
                },
                {
                  "name": "EDA",
                  "dtype": "int64"
                },
                {
                  "name": "Data Visualization",
                  "dtype": "int64"
                },
                {
                  "name": "Geospatial Data Analysis",
                  "dtype": "int64"
                },
                {
                  "name": "NLP",
                  "dtype": "int64"
                },
                {
                  "name": "Deep Learning",
                  "dtype": "int64"
                },
                {
                  "name": "Computer Vision",
                  "dtype": "int64"
                },
                {
                  "name": "Cloud Computing",
                  "dtype": "int64"
                },
                {
                  "name": "Project Title",
                  "dtype": "object"
                },
                {
                  "name": "Probability",
                  "dtype": "float64"
                },
                {
                  "name": "_deepnote_index_column",
                  "dtype": "int64"
                }
              ],
              "rows": [
                {
                  "Python": 1,
                  "R": 1,
                  "SQL": 1,
                  "EDA": 1,
                  "Data Visualization": 1,
                  "Geospatial Data Analysis": 1,
                  "NLP": 1,
                  "Deep Learning": 1,
                  "Computer Vision": 1,
                  "Cloud Computing": 1,
                  "Project Title": "Archive of Urban Futures",
                  "Probability": 0.03605949696393821,
                  "_deepnote_index_column": 0
                },
                {
                  "Python": 1,
                  "R": 1,
                  "SQL": 1,
                  "EDA": 1,
                  "Data Visualization": 1,
                  "Geospatial Data Analysis": 1,
                  "NLP": 1,
                  "Deep Learning": 1,
                  "Computer Vision": 1,
                  "Cloud Computing": 1,
                  "Project Title": "DSG Interns - Various Projects",
                  "Probability": 0.022838189222937486,
                  "_deepnote_index_column": 1
                },
                {
                  "Python": 1,
                  "R": 1,
                  "SQL": 1,
                  "EDA": 1,
                  "Data Visualization": 1,
                  "Geospatial Data Analysis": 1,
                  "NLP": 1,
                  "Deep Learning": 1,
                  "Computer Vision": 1,
                  "Cloud Computing": 1,
                  "Project Title": "ML for biodiversity monitoring",
                  "Probability": 0.02114269921795194,
                  "_deepnote_index_column": 2
                },
                {
                  "Python": 1,
                  "R": 1,
                  "SQL": 1,
                  "EDA": 1,
                  "Data Visualization": 1,
                  "Geospatial Data Analysis": 1,
                  "NLP": 1,
                  "Deep Learning": 1,
                  "Computer Vision": 1,
                  "Cloud Computing": 1,
                  "Project Title": "Fiber Reinforced Polymer (FRP) Retrofitted Shear Wall Relational Database Development",
                  "Probability": 0.019772641212333242,
                  "_deepnote_index_column": 3
                },
                {
                  "Python": 1,
                  "R": 1,
                  "SQL": 1,
                  "EDA": 1,
                  "Data Visualization": 1,
                  "Geospatial Data Analysis": 1,
                  "NLP": 1,
                  "Deep Learning": 1,
                  "Computer Vision": 1,
                  "Cloud Computing": 1,
                  "Project Title": "Natural Language Processing: Technologies to Inform Practice in Science (TIPS)",
                  "Probability": 0.018573894136940414,
                  "_deepnote_index_column": 4
                },
                {
                  "Python": 1,
                  "R": 1,
                  "SQL": 1,
                  "EDA": 1,
                  "Data Visualization": 1,
                  "Geospatial Data Analysis": 1,
                  "NLP": 1,
                  "Deep Learning": 1,
                  "Computer Vision": 1,
                  "Cloud Computing": 1,
                  "Project Title": "OpenSidewalks: responsible data science for equitable civic analytics",
                  "Probability": 0.01856895411396748,
                  "_deepnote_index_column": 5
                },
                {
                  "Python": 1,
                  "R": 1,
                  "SQL": 1,
                  "EDA": 1,
                  "Data Visualization": 1,
                  "Geospatial Data Analysis": 1,
                  "NLP": 1,
                  "Deep Learning": 1,
                  "Computer Vision": 1,
                  "Cloud Computing": 1,
                  "Project Title": "Surface Layer Scheme Exploration",
                  "Probability": 0.018513556493313814,
                  "_deepnote_index_column": 6
                },
                {
                  "Python": 1,
                  "R": 1,
                  "SQL": 1,
                  "EDA": 1,
                  "Data Visualization": 1,
                  "Geospatial Data Analysis": 1,
                  "NLP": 1,
                  "Deep Learning": 1,
                  "Computer Vision": 1,
                  "Cloud Computing": 1,
                  "Project Title": "EpiNu: Community Nutrition Security in DR Congo",
                  "Probability": 0.018462019310703712,
                  "_deepnote_index_column": 7
                },
                {
                  "Python": 1,
                  "R": 1,
                  "SQL": 1,
                  "EDA": 1,
                  "Data Visualization": 1,
                  "Geospatial Data Analysis": 1,
                  "NLP": 1,
                  "Deep Learning": 1,
                  "Computer Vision": 1,
                  "Cloud Computing": 1,
                  "Project Title": "Discovery of Undocumented Oil and Gas Wells",
                  "Probability": 0.017527584049272512,
                  "_deepnote_index_column": 8
                },
                {
                  "Python": 1,
                  "R": 1,
                  "SQL": 1,
                  "EDA": 1,
                  "Data Visualization": 1,
                  "Geospatial Data Analysis": 1,
                  "NLP": 1,
                  "Deep Learning": 1,
                  "Computer Vision": 1,
                  "Cloud Computing": 1,
                  "Project Title": "Eviction Research Network",
                  "Probability": 0.01739161165716882,
                  "_deepnote_index_column": 9
                }
              ]
            },
            "text/plain": "         Python  R  SQL  EDA  Data Visualization  Geospatial Data Analysis  \\\n0             1  1    1    1                   1                         1   \n1             1  1    1    1                   1                         1   \n2             1  1    1    1                   1                         1   \n3             1  1    1    1                   1                         1   \n4             1  1    1    1                   1                         1   \n...         ... ..  ...  ...                 ...                       ...   \n7558267       3  3    3    3                   3                         3   \n7558268       3  3    3    3                   3                         3   \n7558269       3  3    3    3                   3                         3   \n7558270       3  3    3    3                   3                         3   \n7558271       3  3    3    3                   3                         3   \n\n         NLP  Deep Learning  Computer Vision  Cloud Computing  \\\n0          1              1                1                1   \n1          1              1                1                1   \n2          1              1                1                1   \n3          1              1                1                1   \n4          1              1                1                1   \n...      ...            ...              ...              ...   \n7558267    3              3                3                3   \n7558268    3              3                3                3   \n7558269    3              3                3                3   \n7558270    3              3                3                3   \n7558271    3              3                3                3   \n\n                                             Project Title   Probability  \n0                                 Archive of Urban Futures  3.605950e-02  \n1                           DSG Interns - Various Projects  2.283819e-02  \n2                           ML for biodiversity monitoring  2.114270e-02  \n3        Fiber Reinforced Polymer (FRP) Retrofitted She...  1.977264e-02  \n4        Natural Language Processing: Technologies to I...  1.857389e-02  \n...                                                    ...           ...  \n7558267     GMO acceptance of bioengineered brewer's yeast  6.968169e-07  \n7558268                                Lead Identification  6.968169e-07  \n7558269               Random turn games governed by stakes  2.927481e-07  \n7558270       Life Cycle Assessment of Building Structures  2.164891e-07  \n7558271  Interrupting Lethal Structures: \"No Cop City i...  6.604010e-08  \n\n[7558272 rows x 12 columns]",
            "text/html": "<div>\n<style scoped>\n    .dataframe tbody tr th:only-of-type {\n        vertical-align: middle;\n    }\n\n    .dataframe tbody tr th {\n        vertical-align: top;\n    }\n\n    .dataframe thead th {\n        text-align: right;\n    }\n</style>\n<table border=\"1\" class=\"dataframe\">\n  <thead>\n    <tr style=\"text-align: right;\">\n      <th></th>\n      <th>Python</th>\n      <th>R</th>\n      <th>SQL</th>\n      <th>EDA</th>\n      <th>Data Visualization</th>\n      <th>Geospatial Data Analysis</th>\n      <th>NLP</th>\n      <th>Deep Learning</th>\n      <th>Computer Vision</th>\n      <th>Cloud Computing</th>\n      <th>Project Title</th>\n      <th>Probability</th>\n    </tr>\n  </thead>\n  <tbody>\n    <tr>\n      <th>0</th>\n      <td>1</td>\n      <td>1</td>\n      <td>1</td>\n      <td>1</td>\n      <td>1</td>\n      <td>1</td>\n      <td>1</td>\n      <td>1</td>\n      <td>1</td>\n      <td>1</td>\n      <td>Archive of Urban Futures</td>\n      <td>3.605950e-02</td>\n    </tr>\n    <tr>\n      <th>1</th>\n      <td>1</td>\n      <td>1</td>\n      <td>1</td>\n      <td>1</td>\n      <td>1</td>\n      <td>1</td>\n      <td>1</td>\n      <td>1</td>\n      <td>1</td>\n      <td>1</td>\n      <td>DSG Interns - Various Projects</td>\n      <td>2.283819e-02</td>\n    </tr>\n    <tr>\n      <th>2</th>\n      <td>1</td>\n      <td>1</td>\n      <td>1</td>\n      <td>1</td>\n      <td>1</td>\n      <td>1</td>\n      <td>1</td>\n      <td>1</td>\n      <td>1</td>\n      <td>1</td>\n      <td>ML for biodiversity monitoring</td>\n      <td>2.114270e-02</td>\n    </tr>\n    <tr>\n      <th>3</th>\n      <td>1</td>\n      <td>1</td>\n      <td>1</td>\n      <td>1</td>\n      <td>1</td>\n      <td>1</td>\n      <td>1</td>\n      <td>1</td>\n      <td>1</td>\n      <td>1</td>\n      <td>Fiber Reinforced Polymer (FRP) Retrofitted She...</td>\n      <td>1.977264e-02</td>\n    </tr>\n    <tr>\n      <th>4</th>\n      <td>1</td>\n      <td>1</td>\n      <td>1</td>\n      <td>1</td>\n      <td>1</td>\n      <td>1</td>\n      <td>1</td>\n      <td>1</td>\n      <td>1</td>\n      <td>1</td>\n      <td>Natural Language Processing: Technologies to I...</td>\n      <td>1.857389e-02</td>\n    </tr>\n    <tr>\n      <th>...</th>\n      <td>...</td>\n      <td>...</td>\n      <td>...</td>\n      <td>...</td>\n      <td>...</td>\n      <td>...</td>\n      <td>...</td>\n      <td>...</td>\n      <td>...</td>\n      <td>...</td>\n      <td>...</td>\n      <td>...</td>\n    </tr>\n    <tr>\n      <th>7558267</th>\n      <td>3</td>\n      <td>3</td>\n      <td>3</td>\n      <td>3</td>\n      <td>3</td>\n      <td>3</td>\n      <td>3</td>\n      <td>3</td>\n      <td>3</td>\n      <td>3</td>\n      <td>GMO acceptance of bioengineered brewer's yeast</td>\n      <td>6.968169e-07</td>\n    </tr>\n    <tr>\n      <th>7558268</th>\n      <td>3</td>\n      <td>3</td>\n      <td>3</td>\n      <td>3</td>\n      <td>3</td>\n      <td>3</td>\n      <td>3</td>\n      <td>3</td>\n      <td>3</td>\n      <td>3</td>\n      <td>Lead Identification</td>\n      <td>6.968169e-07</td>\n    </tr>\n    <tr>\n      <th>7558269</th>\n      <td>3</td>\n      <td>3</td>\n      <td>3</td>\n      <td>3</td>\n      <td>3</td>\n      <td>3</td>\n      <td>3</td>\n      <td>3</td>\n      <td>3</td>\n      <td>3</td>\n      <td>Random turn games governed by stakes</td>\n      <td>2.927481e-07</td>\n    </tr>\n    <tr>\n      <th>7558270</th>\n      <td>3</td>\n      <td>3</td>\n      <td>3</td>\n      <td>3</td>\n      <td>3</td>\n      <td>3</td>\n      <td>3</td>\n      <td>3</td>\n      <td>3</td>\n      <td>3</td>\n      <td>Life Cycle Assessment of Building Structures</td>\n      <td>2.164891e-07</td>\n    </tr>\n    <tr>\n      <th>7558271</th>\n      <td>3</td>\n      <td>3</td>\n      <td>3</td>\n      <td>3</td>\n      <td>3</td>\n      <td>3</td>\n      <td>3</td>\n      <td>3</td>\n      <td>3</td>\n      <td>3</td>\n      <td>Interrupting Lethal Structures: \"No Cop City i...</td>\n      <td>6.604010e-08</td>\n    </tr>\n  </tbody>\n</table>\n<p>7558272 rows × 12 columns</p>\n</div>"
          },
          "metadata": {}
        }
      ]
    },
    {
      "cell_type": "code",
      "metadata": {
        "source_hash": "645cf280",
        "execution_start": 1726856129792,
        "execution_millis": 76,
        "execution_context_id": "c078ca54-8cfa-4172-9d38-bf0242bd3596",
        "deepnote_to_be_reexecuted": false,
        "cell_id": "544219cb094e46ba8d4e8b5f881b26c5",
        "deepnote_cell_type": "code",
        "id": "TdEnHwL2MTj9"
      },
      "source": [
        "test_df = df_all_with_predictions.loc[(df_all_with_predictions['Python'] == 1) & (df_all_with_predictions['R'] == 2) & (df_all_with_predictions['SQL'] == 1) & (df_all_with_predictions['EDA'] == 1) & (df_all_with_predictions['NLP'] == 1) & (df_all_with_predictions['Data Visualization'] == 1) & (df_all_with_predictions['Geospatial Data Analysis'] == 1) & (df_all_with_predictions['Deep Learning'] == 1) & (df_all_with_predictions['Computer Vision'] == 1) & (df_all_with_predictions['Cloud Computing'] == 1)]"
      ],
      "execution_count": null,
      "outputs": []
    },
    {
      "cell_type": "code",
      "metadata": {
        "source_hash": "e1417c66",
        "execution_start": 1726856129924,
        "execution_millis": 1,
        "execution_context_id": "c078ca54-8cfa-4172-9d38-bf0242bd3596",
        "deepnote_to_be_reexecuted": false,
        "cell_id": "f8daf0b477ea4259a511fd1b5b6d7841",
        "deepnote_cell_type": "code",
        "id": "e_59RcEzMTj9",
        "outputId": "9ac6f2ff-a572-4c45-e43c-cf408efc67df"
      },
      "source": [
        "test_df[[\"Project Title\"]]"
      ],
      "execution_count": null,
      "outputs": [
        {
          "output_type": "execute_result",
          "execution_count": 22,
          "data": {
            "application/vnd.deepnote.dataframe.v3+json": {
              "column_count": 1,
              "row_count": 128,
              "columns": [
                {
                  "name": "Project Title",
                  "dtype": "object",
                  "stats": {
                    "unique_count": 128,
                    "nan_count": 0,
                    "categories": [
                      {
                        "name": "Archive of Urban Futures",
                        "count": 1
                      },
                      {
                        "name": "OpenSidewalks: responsible data science for equitable civic analytics",
                        "count": 1
                      },
                      {
                        "name": "126 others",
                        "count": 126
                      }
                    ]
                  }
                },
                {
                  "name": "_deepnote_index_column",
                  "dtype": "int64"
                }
              ],
              "rows": [
                {
                  "Project Title": "Archive of Urban Futures",
                  "_deepnote_index_column": 839808
                },
                {
                  "Project Title": "OpenSidewalks: responsible data science for equitable civic analytics",
                  "_deepnote_index_column": 839809
                },
                {
                  "Project Title": "Eviction Research Network",
                  "_deepnote_index_column": 839810
                },
                {
                  "Project Title": "Natural Language Processing: Technologies to Inform Practice in Science (TIPS)",
                  "_deepnote_index_column": 839811
                },
                {
                  "Project Title": "Do labor market policies reduce racial and ethnic disparities in mental health and substance use?",
                  "_deepnote_index_column": 839812
                },
                {
                  "Project Title": "ML for biodiversity monitoring",
                  "_deepnote_index_column": 839813
                },
                {
                  "Project Title": "The Opportunities and Risks and its Implications in Clinical Research and Training Development",
                  "_deepnote_index_column": 839814
                },
                {
                  "Project Title": "Exploring Visualization Options with a Django Database",
                  "_deepnote_index_column": 839815
                },
                {
                  "Project Title": "Simplified web-based application to help design high thermal mass radiant systems",
                  "_deepnote_index_column": 839816
                },
                {
                  "Project Title": "DSG Interns - Various Projects",
                  "_deepnote_index_column": 839817
                }
              ]
            },
            "text/plain": "                                            Project Title\n839808                           Archive of Urban Futures\n839809  OpenSidewalks: responsible data science for eq...\n839810                          Eviction Research Network\n839811  Natural Language Processing: Technologies to I...\n839812  Do labor market policies reduce racial and eth...\n...                                                   ...\n839931  Resilient Energy Allocation System for Extreme...\n839932                Enterprise Customer Content \"Taste\"\n839933  Building Machine Learning Models for Arctic Ic...\n839934                TranscribeGlass software internship\n839935  Interactive 3D Visualization to enable Visual ...\n\n[128 rows x 1 columns]",
            "text/html": "<div>\n<style scoped>\n    .dataframe tbody tr th:only-of-type {\n        vertical-align: middle;\n    }\n\n    .dataframe tbody tr th {\n        vertical-align: top;\n    }\n\n    .dataframe thead th {\n        text-align: right;\n    }\n</style>\n<table border=\"1\" class=\"dataframe\">\n  <thead>\n    <tr style=\"text-align: right;\">\n      <th></th>\n      <th>Project Title</th>\n    </tr>\n  </thead>\n  <tbody>\n    <tr>\n      <th>839808</th>\n      <td>Archive of Urban Futures</td>\n    </tr>\n    <tr>\n      <th>839809</th>\n      <td>OpenSidewalks: responsible data science for eq...</td>\n    </tr>\n    <tr>\n      <th>839810</th>\n      <td>Eviction Research Network</td>\n    </tr>\n    <tr>\n      <th>839811</th>\n      <td>Natural Language Processing: Technologies to I...</td>\n    </tr>\n    <tr>\n      <th>839812</th>\n      <td>Do labor market policies reduce racial and eth...</td>\n    </tr>\n    <tr>\n      <th>...</th>\n      <td>...</td>\n    </tr>\n    <tr>\n      <th>839931</th>\n      <td>Resilient Energy Allocation System for Extreme...</td>\n    </tr>\n    <tr>\n      <th>839932</th>\n      <td>Enterprise Customer Content \"Taste\"</td>\n    </tr>\n    <tr>\n      <th>839933</th>\n      <td>Building Machine Learning Models for Arctic Ic...</td>\n    </tr>\n    <tr>\n      <th>839934</th>\n      <td>TranscribeGlass software internship</td>\n    </tr>\n    <tr>\n      <th>839935</th>\n      <td>Interactive 3D Visualization to enable Visual ...</td>\n    </tr>\n  </tbody>\n</table>\n<p>128 rows × 1 columns</p>\n</div>"
          },
          "metadata": {}
        }
      ]
    },
    {
      "cell_type": "code",
      "metadata": {
        "source_hash": "964a1bed",
        "execution_start": 1726856129971,
        "execution_millis": 1,
        "execution_context_id": "c078ca54-8cfa-4172-9d38-bf0242bd3596",
        "deepnote_to_be_reexecuted": false,
        "cell_id": "b25fd42537074b6d89f210ec512cf122",
        "deepnote_cell_type": "code",
        "id": "_9XAPlcoMTj9"
      },
      "source": [
        "# df_all_with_predictions.to_csv(\"final_result_w_prob.csv\")"
      ],
      "execution_count": null,
      "outputs": []
    },
    {
      "cell_type": "markdown",
      "metadata": {
        "formattedRanges": [],
        "cell_id": "4025c53c4a1b492ab1c2d9fa758d0411",
        "deepnote_cell_type": "text-cell-h1",
        "id": "W5TP5SQOMTj9"
      },
      "source": [
        "## Testing to ensure final table returns expected values - VALIDATED!!! NICE!"
      ]
    },
    {
      "cell_type": "code",
      "metadata": {
        "source_hash": "63d4fbe2",
        "execution_start": 1726856130024,
        "execution_millis": 1,
        "execution_context_id": "c078ca54-8cfa-4172-9d38-bf0242bd3596",
        "deepnote_to_be_reexecuted": false,
        "cell_id": "c5dd50dfc110430ca0b5532661f1a9fb",
        "deepnote_cell_type": "code",
        "id": "d7ruu1bcMTj9",
        "outputId": "93e857da-170a-40c8-91c4-de921f98949b"
      },
      "source": [
        "testing = df_all_with_predictions.iloc[0:1].drop(columns=['Project Title', 'Probability'])\n",
        "testing['R'] = 2\n",
        "testing"
      ],
      "execution_count": null,
      "outputs": [
        {
          "output_type": "execute_result",
          "execution_count": 24,
          "data": {
            "application/vnd.deepnote.dataframe.v3+json": {
              "column_count": 10,
              "row_count": 1,
              "columns": [
                {
                  "name": "Python",
                  "dtype": "int64",
                  "stats": {
                    "unique_count": 1,
                    "nan_count": 0,
                    "min": "1",
                    "max": "1",
                    "histogram": [
                      {
                        "bin_start": 0.5,
                        "bin_end": 0.6,
                        "count": 0
                      },
                      {
                        "bin_start": 0.6,
                        "bin_end": 0.7,
                        "count": 0
                      },
                      {
                        "bin_start": 0.7,
                        "bin_end": 0.8,
                        "count": 0
                      },
                      {
                        "bin_start": 0.8,
                        "bin_end": 0.9,
                        "count": 0
                      },
                      {
                        "bin_start": 0.9,
                        "bin_end": 1,
                        "count": 0
                      },
                      {
                        "bin_start": 1,
                        "bin_end": 1.1,
                        "count": 1
                      },
                      {
                        "bin_start": 1.1,
                        "bin_end": 1.2000000000000002,
                        "count": 0
                      },
                      {
                        "bin_start": 1.2000000000000002,
                        "bin_end": 1.3,
                        "count": 0
                      },
                      {
                        "bin_start": 1.3,
                        "bin_end": 1.4,
                        "count": 0
                      },
                      {
                        "bin_start": 1.4,
                        "bin_end": 1.5,
                        "count": 0
                      }
                    ]
                  }
                },
                {
                  "name": "R",
                  "dtype": "int64",
                  "stats": {
                    "unique_count": 1,
                    "nan_count": 0,
                    "min": "2",
                    "max": "2",
                    "histogram": [
                      {
                        "bin_start": 1.5,
                        "bin_end": 1.6,
                        "count": 0
                      },
                      {
                        "bin_start": 1.6,
                        "bin_end": 1.7,
                        "count": 0
                      },
                      {
                        "bin_start": 1.7,
                        "bin_end": 1.8,
                        "count": 0
                      },
                      {
                        "bin_start": 1.8,
                        "bin_end": 1.9,
                        "count": 0
                      },
                      {
                        "bin_start": 1.9,
                        "bin_end": 2,
                        "count": 0
                      },
                      {
                        "bin_start": 2,
                        "bin_end": 2.1,
                        "count": 1
                      },
                      {
                        "bin_start": 2.1,
                        "bin_end": 2.2,
                        "count": 0
                      },
                      {
                        "bin_start": 2.2,
                        "bin_end": 2.3,
                        "count": 0
                      },
                      {
                        "bin_start": 2.3,
                        "bin_end": 2.4,
                        "count": 0
                      },
                      {
                        "bin_start": 2.4,
                        "bin_end": 2.5,
                        "count": 0
                      }
                    ]
                  }
                },
                {
                  "name": "SQL",
                  "dtype": "int64",
                  "stats": {
                    "unique_count": 1,
                    "nan_count": 0,
                    "min": "1",
                    "max": "1",
                    "histogram": [
                      {
                        "bin_start": 0.5,
                        "bin_end": 0.6,
                        "count": 0
                      },
                      {
                        "bin_start": 0.6,
                        "bin_end": 0.7,
                        "count": 0
                      },
                      {
                        "bin_start": 0.7,
                        "bin_end": 0.8,
                        "count": 0
                      },
                      {
                        "bin_start": 0.8,
                        "bin_end": 0.9,
                        "count": 0
                      },
                      {
                        "bin_start": 0.9,
                        "bin_end": 1,
                        "count": 0
                      },
                      {
                        "bin_start": 1,
                        "bin_end": 1.1,
                        "count": 1
                      },
                      {
                        "bin_start": 1.1,
                        "bin_end": 1.2000000000000002,
                        "count": 0
                      },
                      {
                        "bin_start": 1.2000000000000002,
                        "bin_end": 1.3,
                        "count": 0
                      },
                      {
                        "bin_start": 1.3,
                        "bin_end": 1.4,
                        "count": 0
                      },
                      {
                        "bin_start": 1.4,
                        "bin_end": 1.5,
                        "count": 0
                      }
                    ]
                  }
                },
                {
                  "name": "EDA",
                  "dtype": "int64",
                  "stats": {
                    "unique_count": 1,
                    "nan_count": 0,
                    "min": "1",
                    "max": "1",
                    "histogram": [
                      {
                        "bin_start": 0.5,
                        "bin_end": 0.6,
                        "count": 0
                      },
                      {
                        "bin_start": 0.6,
                        "bin_end": 0.7,
                        "count": 0
                      },
                      {
                        "bin_start": 0.7,
                        "bin_end": 0.8,
                        "count": 0
                      },
                      {
                        "bin_start": 0.8,
                        "bin_end": 0.9,
                        "count": 0
                      },
                      {
                        "bin_start": 0.9,
                        "bin_end": 1,
                        "count": 0
                      },
                      {
                        "bin_start": 1,
                        "bin_end": 1.1,
                        "count": 1
                      },
                      {
                        "bin_start": 1.1,
                        "bin_end": 1.2000000000000002,
                        "count": 0
                      },
                      {
                        "bin_start": 1.2000000000000002,
                        "bin_end": 1.3,
                        "count": 0
                      },
                      {
                        "bin_start": 1.3,
                        "bin_end": 1.4,
                        "count": 0
                      },
                      {
                        "bin_start": 1.4,
                        "bin_end": 1.5,
                        "count": 0
                      }
                    ]
                  }
                },
                {
                  "name": "Data Visualization",
                  "dtype": "int64",
                  "stats": {
                    "unique_count": 1,
                    "nan_count": 0,
                    "min": "1",
                    "max": "1",
                    "histogram": [
                      {
                        "bin_start": 0.5,
                        "bin_end": 0.6,
                        "count": 0
                      },
                      {
                        "bin_start": 0.6,
                        "bin_end": 0.7,
                        "count": 0
                      },
                      {
                        "bin_start": 0.7,
                        "bin_end": 0.8,
                        "count": 0
                      },
                      {
                        "bin_start": 0.8,
                        "bin_end": 0.9,
                        "count": 0
                      },
                      {
                        "bin_start": 0.9,
                        "bin_end": 1,
                        "count": 0
                      },
                      {
                        "bin_start": 1,
                        "bin_end": 1.1,
                        "count": 1
                      },
                      {
                        "bin_start": 1.1,
                        "bin_end": 1.2000000000000002,
                        "count": 0
                      },
                      {
                        "bin_start": 1.2000000000000002,
                        "bin_end": 1.3,
                        "count": 0
                      },
                      {
                        "bin_start": 1.3,
                        "bin_end": 1.4,
                        "count": 0
                      },
                      {
                        "bin_start": 1.4,
                        "bin_end": 1.5,
                        "count": 0
                      }
                    ]
                  }
                },
                {
                  "name": "Geospatial Data Analysis",
                  "dtype": "int64",
                  "stats": {
                    "unique_count": 1,
                    "nan_count": 0,
                    "min": "1",
                    "max": "1",
                    "histogram": [
                      {
                        "bin_start": 0.5,
                        "bin_end": 0.6,
                        "count": 0
                      },
                      {
                        "bin_start": 0.6,
                        "bin_end": 0.7,
                        "count": 0
                      },
                      {
                        "bin_start": 0.7,
                        "bin_end": 0.8,
                        "count": 0
                      },
                      {
                        "bin_start": 0.8,
                        "bin_end": 0.9,
                        "count": 0
                      },
                      {
                        "bin_start": 0.9,
                        "bin_end": 1,
                        "count": 0
                      },
                      {
                        "bin_start": 1,
                        "bin_end": 1.1,
                        "count": 1
                      },
                      {
                        "bin_start": 1.1,
                        "bin_end": 1.2000000000000002,
                        "count": 0
                      },
                      {
                        "bin_start": 1.2000000000000002,
                        "bin_end": 1.3,
                        "count": 0
                      },
                      {
                        "bin_start": 1.3,
                        "bin_end": 1.4,
                        "count": 0
                      },
                      {
                        "bin_start": 1.4,
                        "bin_end": 1.5,
                        "count": 0
                      }
                    ]
                  }
                },
                {
                  "name": "NLP",
                  "dtype": "int64",
                  "stats": {
                    "unique_count": 1,
                    "nan_count": 0,
                    "min": "1",
                    "max": "1",
                    "histogram": [
                      {
                        "bin_start": 0.5,
                        "bin_end": 0.6,
                        "count": 0
                      },
                      {
                        "bin_start": 0.6,
                        "bin_end": 0.7,
                        "count": 0
                      },
                      {
                        "bin_start": 0.7,
                        "bin_end": 0.8,
                        "count": 0
                      },
                      {
                        "bin_start": 0.8,
                        "bin_end": 0.9,
                        "count": 0
                      },
                      {
                        "bin_start": 0.9,
                        "bin_end": 1,
                        "count": 0
                      },
                      {
                        "bin_start": 1,
                        "bin_end": 1.1,
                        "count": 1
                      },
                      {
                        "bin_start": 1.1,
                        "bin_end": 1.2000000000000002,
                        "count": 0
                      },
                      {
                        "bin_start": 1.2000000000000002,
                        "bin_end": 1.3,
                        "count": 0
                      },
                      {
                        "bin_start": 1.3,
                        "bin_end": 1.4,
                        "count": 0
                      },
                      {
                        "bin_start": 1.4,
                        "bin_end": 1.5,
                        "count": 0
                      }
                    ]
                  }
                },
                {
                  "name": "Deep Learning",
                  "dtype": "int64",
                  "stats": {
                    "unique_count": 1,
                    "nan_count": 0,
                    "min": "1",
                    "max": "1",
                    "histogram": [
                      {
                        "bin_start": 0.5,
                        "bin_end": 0.6,
                        "count": 0
                      },
                      {
                        "bin_start": 0.6,
                        "bin_end": 0.7,
                        "count": 0
                      },
                      {
                        "bin_start": 0.7,
                        "bin_end": 0.8,
                        "count": 0
                      },
                      {
                        "bin_start": 0.8,
                        "bin_end": 0.9,
                        "count": 0
                      },
                      {
                        "bin_start": 0.9,
                        "bin_end": 1,
                        "count": 0
                      },
                      {
                        "bin_start": 1,
                        "bin_end": 1.1,
                        "count": 1
                      },
                      {
                        "bin_start": 1.1,
                        "bin_end": 1.2000000000000002,
                        "count": 0
                      },
                      {
                        "bin_start": 1.2000000000000002,
                        "bin_end": 1.3,
                        "count": 0
                      },
                      {
                        "bin_start": 1.3,
                        "bin_end": 1.4,
                        "count": 0
                      },
                      {
                        "bin_start": 1.4,
                        "bin_end": 1.5,
                        "count": 0
                      }
                    ]
                  }
                },
                {
                  "name": "Computer Vision",
                  "dtype": "int64",
                  "stats": {
                    "unique_count": 1,
                    "nan_count": 0,
                    "min": "1",
                    "max": "1",
                    "histogram": [
                      {
                        "bin_start": 0.5,
                        "bin_end": 0.6,
                        "count": 0
                      },
                      {
                        "bin_start": 0.6,
                        "bin_end": 0.7,
                        "count": 0
                      },
                      {
                        "bin_start": 0.7,
                        "bin_end": 0.8,
                        "count": 0
                      },
                      {
                        "bin_start": 0.8,
                        "bin_end": 0.9,
                        "count": 0
                      },
                      {
                        "bin_start": 0.9,
                        "bin_end": 1,
                        "count": 0
                      },
                      {
                        "bin_start": 1,
                        "bin_end": 1.1,
                        "count": 1
                      },
                      {
                        "bin_start": 1.1,
                        "bin_end": 1.2000000000000002,
                        "count": 0
                      },
                      {
                        "bin_start": 1.2000000000000002,
                        "bin_end": 1.3,
                        "count": 0
                      },
                      {
                        "bin_start": 1.3,
                        "bin_end": 1.4,
                        "count": 0
                      },
                      {
                        "bin_start": 1.4,
                        "bin_end": 1.5,
                        "count": 0
                      }
                    ]
                  }
                },
                {
                  "name": "Cloud Computing",
                  "dtype": "int64",
                  "stats": {
                    "unique_count": 1,
                    "nan_count": 0,
                    "min": "1",
                    "max": "1",
                    "histogram": [
                      {
                        "bin_start": 0.5,
                        "bin_end": 0.6,
                        "count": 0
                      },
                      {
                        "bin_start": 0.6,
                        "bin_end": 0.7,
                        "count": 0
                      },
                      {
                        "bin_start": 0.7,
                        "bin_end": 0.8,
                        "count": 0
                      },
                      {
                        "bin_start": 0.8,
                        "bin_end": 0.9,
                        "count": 0
                      },
                      {
                        "bin_start": 0.9,
                        "bin_end": 1,
                        "count": 0
                      },
                      {
                        "bin_start": 1,
                        "bin_end": 1.1,
                        "count": 1
                      },
                      {
                        "bin_start": 1.1,
                        "bin_end": 1.2000000000000002,
                        "count": 0
                      },
                      {
                        "bin_start": 1.2000000000000002,
                        "bin_end": 1.3,
                        "count": 0
                      },
                      {
                        "bin_start": 1.3,
                        "bin_end": 1.4,
                        "count": 0
                      },
                      {
                        "bin_start": 1.4,
                        "bin_end": 1.5,
                        "count": 0
                      }
                    ]
                  }
                },
                {
                  "name": "_deepnote_index_column",
                  "dtype": "int64"
                }
              ],
              "rows": [
                {
                  "Python": 1,
                  "R": 2,
                  "SQL": 1,
                  "EDA": 1,
                  "Data Visualization": 1,
                  "Geospatial Data Analysis": 1,
                  "NLP": 1,
                  "Deep Learning": 1,
                  "Computer Vision": 1,
                  "Cloud Computing": 1,
                  "_deepnote_index_column": 0
                }
              ]
            },
            "text/plain": "   Python  R  SQL  EDA  Data Visualization  Geospatial Data Analysis  NLP  \\\n0       1  2    1    1                   1                         1    1   \n\n   Deep Learning  Computer Vision  Cloud Computing  \n0              1                1                1  ",
            "text/html": "<div>\n<style scoped>\n    .dataframe tbody tr th:only-of-type {\n        vertical-align: middle;\n    }\n\n    .dataframe tbody tr th {\n        vertical-align: top;\n    }\n\n    .dataframe thead th {\n        text-align: right;\n    }\n</style>\n<table border=\"1\" class=\"dataframe\">\n  <thead>\n    <tr style=\"text-align: right;\">\n      <th></th>\n      <th>Python</th>\n      <th>R</th>\n      <th>SQL</th>\n      <th>EDA</th>\n      <th>Data Visualization</th>\n      <th>Geospatial Data Analysis</th>\n      <th>NLP</th>\n      <th>Deep Learning</th>\n      <th>Computer Vision</th>\n      <th>Cloud Computing</th>\n    </tr>\n  </thead>\n  <tbody>\n    <tr>\n      <th>0</th>\n      <td>1</td>\n      <td>2</td>\n      <td>1</td>\n      <td>1</td>\n      <td>1</td>\n      <td>1</td>\n      <td>1</td>\n      <td>1</td>\n      <td>1</td>\n      <td>1</td>\n    </tr>\n  </tbody>\n</table>\n</div>"
          },
          "metadata": {}
        }
      ]
    },
    {
      "cell_type": "code",
      "metadata": {
        "source_hash": "8912b909",
        "execution_start": 1726856130075,
        "execution_millis": 1,
        "execution_context_id": "c078ca54-8cfa-4172-9d38-bf0242bd3596",
        "deepnote_to_be_reexecuted": false,
        "cell_id": "44bbea9cb6a147c69b83c93fb632c540",
        "deepnote_cell_type": "code",
        "id": "hWYRjRjGMTj9",
        "outputId": "40124466-df69-4fad-fe7f-56a3249f25ff"
      },
      "source": [
        "table = skills[[\"Project Title\"]].sort_values(\"Project Title\").reset_index(drop=True)\n",
        "arr = pd.Series(predictor.predict_proba(testing)[0])\n",
        "table[\"probs\"] = arr\n",
        "table = table.sort_values(\"probs\", ascending=False).iloc[0:5,0].reset_index(drop=True)\n",
        "table"
      ],
      "execution_count": null,
      "outputs": [
        {
          "output_type": "execute_result",
          "execution_count": 25,
          "data": {
            "text/plain": "0                             Archive of Urban Futures\n1    OpenSidewalks: responsible data science for eq...\n2                            Eviction Research Network\n3    Natural Language Processing: Technologies to I...\n4    Do labor market policies reduce racial and eth...\nName: Project Title, dtype: object"
          },
          "metadata": {}
        }
      ]
    },
    {
      "cell_type": "markdown",
      "metadata": {
        "cell_id": "416f9e25edc24385a4cb1b0eb38534f0",
        "deepnote_cell_type": "markdown",
        "id": "7UYgb7neMTj9"
      },
      "source": [
        "## Final deliverable, please visit this [dashboard](https://public.tableau.com/app/profile/shuran.yang/viz/DataDiscoveryRecommendationSystem/Dashboard1)\n",
        "![image.png](data:image/png;base64,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)"
      ]
    },
    {
      "cell_type": "markdown",
      "metadata": {
        "formattedRanges": [],
        "cell_id": "45844dfeec214299819c2d8a3ad77b9a",
        "deepnote_cell_type": "text-cell-h1",
        "id": "LFvuq3G2MTj-"
      },
      "source": [
        "## Edge Case Testing - Why does are model have error?"
      ]
    },
    {
      "cell_type": "markdown",
      "metadata": {
        "formattedRanges": [],
        "cell_id": "301b3537c95f4ab7a51f540966611099",
        "deepnote_cell_type": "text-cell-bullet",
        "id": "ySr5TO3rMTj-"
      },
      "source": [
        "- Duplicate entries across all skill levels results in the model predicting incorrectly for duplicates instances"
      ]
    },
    {
      "cell_type": "markdown",
      "metadata": {
        "formattedRanges": [],
        "cell_id": "14bbfd28b1904fee98dcaafcd33e6e52",
        "deepnote_cell_type": "text-cell-bullet",
        "id": "5Pg3ybr3MTj-"
      },
      "source": [
        "- Found 12 duplicates (5 unique + 7 duplicates) but our model accuracy is 93.75 and misclassifying 7 due to duplicate issues should result in an accuracy of ~94.5 (121/128) but this is not happening"
      ]
    },
    {
      "cell_type": "markdown",
      "metadata": {
        "formattedRanges": [
          {
            "type": "marks",
            "marks": {
              "bold": true,
              "italic": true
            },
            "toCodePoint": 137,
            "fromCodePoint": 0
          }
        ],
        "cell_id": "bb98921f30154e55b3c2b546357bc75f",
        "deepnote_cell_type": "text-cell-bullet",
        "id": "04HqLIgXMTj-"
      },
      "source": [
        "- Future improvement: Find out what this 1 outlier is coming from and why it is happening? Will this cause significant issues in the future?"
      ]
    },
    {
      "cell_type": "code",
      "metadata": {
        "source_hash": "d1a675c7",
        "execution_start": 1726856137672,
        "execution_millis": 2,
        "execution_context_id": "c078ca54-8cfa-4172-9d38-bf0242bd3596",
        "deepnote_to_be_reexecuted": false,
        "cell_id": "c9816d9d1ef44a88a132b46322f4e82e",
        "deepnote_cell_type": "code",
        "id": "exfsFV7XMTj-",
        "outputId": "32d33ffc-42cc-4e98-a679-dba69362dd46"
      },
      "source": [
        "unique = X.drop_duplicates()\n",
        "unique.shape"
      ],
      "execution_count": null,
      "outputs": [
        {
          "output_type": "execute_result",
          "execution_count": 29,
          "data": {
            "text/plain": "(121, 10)"
          },
          "metadata": {}
        }
      ]
    },
    {
      "cell_type": "code",
      "metadata": {
        "source_hash": "da7241c9",
        "execution_start": 1726856137739,
        "execution_millis": 1,
        "execution_context_id": "c078ca54-8cfa-4172-9d38-bf0242bd3596",
        "deepnote_to_be_reexecuted": false,
        "cell_id": "ddca68bdfcf34e89879838e8ea7f1479",
        "deepnote_cell_type": "code",
        "id": "xZOavfLNMTkC",
        "outputId": "2ebe8dbe-7208-4445-d74b-5f00b318b510"
      },
      "source": [
        "skills.shape"
      ],
      "execution_count": null,
      "outputs": [
        {
          "output_type": "execute_result",
          "execution_count": 30,
          "data": {
            "text/plain": "(128, 11)"
          },
          "metadata": {}
        }
      ]
    },
    {
      "cell_type": "code",
      "metadata": {
        "source_hash": "313b5dfd",
        "execution_start": 1726856137796,
        "execution_millis": 1,
        "deepnote_table_state": {
          "sortBy": [],
          "filters": [],
          "pageSize": 10,
          "pageIndex": 0
        },
        "execution_context_id": "c078ca54-8cfa-4172-9d38-bf0242bd3596",
        "deepnote_table_loading": false,
        "deepnote_to_be_reexecuted": false,
        "cell_id": "83e2739b984b4bf6912e56569ffa9152",
        "deepnote_cell_type": "code",
        "id": "jNappThXMTkD",
        "outputId": "d89d8065-d31c-42b4-cdb6-6c9f100d9534"
      },
      "source": [
        "duplicate_rows = X[X.duplicated(keep=False)].sort_values(by=list(X.columns))\n",
        "duplicate_rows"
      ],
      "execution_count": null,
      "outputs": [
        {
          "output_type": "execute_result",
          "execution_count": 31,
          "data": {
            "application/vnd.deepnote.dataframe.v3+json": {
              "column_count": 10,
              "row_count": 12,
              "columns": [
                {
                  "name": "Python",
                  "dtype": "int64",
                  "stats": {
                    "unique_count": 1,
                    "nan_count": 0,
                    "min": "2",
                    "max": "2",
                    "histogram": [
                      {
                        "bin_start": 1.5,
                        "bin_end": 1.6,
                        "count": 0
                      },
                      {
                        "bin_start": 1.6,
                        "bin_end": 1.7,
                        "count": 0
                      },
                      {
                        "bin_start": 1.7,
                        "bin_end": 1.8,
                        "count": 0
                      },
                      {
                        "bin_start": 1.8,
                        "bin_end": 1.9,
                        "count": 0
                      },
                      {
                        "bin_start": 1.9,
                        "bin_end": 2,
                        "count": 0
                      },
                      {
                        "bin_start": 2,
                        "bin_end": 2.1,
                        "count": 12
                      },
                      {
                        "bin_start": 2.1,
                        "bin_end": 2.2,
                        "count": 0
                      },
                      {
                        "bin_start": 2.2,
                        "bin_end": 2.3,
                        "count": 0
                      },
                      {
                        "bin_start": 2.3,
                        "bin_end": 2.4,
                        "count": 0
                      },
                      {
                        "bin_start": 2.4,
                        "bin_end": 2.5,
                        "count": 0
                      }
                    ]
                  }
                },
                {
                  "name": "R",
                  "dtype": "int64",
                  "stats": {
                    "unique_count": 2,
                    "nan_count": 0,
                    "min": "0",
                    "max": "2",
                    "histogram": [
                      {
                        "bin_start": 0,
                        "bin_end": 0.2,
                        "count": 5
                      },
                      {
                        "bin_start": 0.2,
                        "bin_end": 0.4,
                        "count": 0
                      },
                      {
                        "bin_start": 0.4,
                        "bin_end": 0.6000000000000001,
                        "count": 0
                      },
                      {
                        "bin_start": 0.6000000000000001,
                        "bin_end": 0.8,
                        "count": 0
                      },
                      {
                        "bin_start": 0.8,
                        "bin_end": 1,
                        "count": 0
                      },
                      {
                        "bin_start": 1,
                        "bin_end": 1.2000000000000002,
                        "count": 0
                      },
                      {
                        "bin_start": 1.2000000000000002,
                        "bin_end": 1.4000000000000001,
                        "count": 0
                      },
                      {
                        "bin_start": 1.4000000000000001,
                        "bin_end": 1.6,
                        "count": 0
                      },
                      {
                        "bin_start": 1.6,
                        "bin_end": 1.8,
                        "count": 0
                      },
                      {
                        "bin_start": 1.8,
                        "bin_end": 2,
                        "count": 7
                      }
                    ]
                  }
                },
                {
                  "name": "SQL",
                  "dtype": "int64",
                  "stats": {
                    "unique_count": 3,
                    "nan_count": 0,
                    "min": "0",
                    "max": "3",
                    "histogram": [
                      {
                        "bin_start": 0,
                        "bin_end": 0.3,
                        "count": 7
                      },
                      {
                        "bin_start": 0.3,
                        "bin_end": 0.6,
                        "count": 0
                      },
                      {
                        "bin_start": 0.6,
                        "bin_end": 0.8999999999999999,
                        "count": 0
                      },
                      {
                        "bin_start": 0.8999999999999999,
                        "bin_end": 1.2,
                        "count": 0
                      },
                      {
                        "bin_start": 1.2,
                        "bin_end": 1.5,
                        "count": 0
                      },
                      {
                        "bin_start": 1.5,
                        "bin_end": 1.7999999999999998,
                        "count": 0
                      },
                      {
                        "bin_start": 1.7999999999999998,
                        "bin_end": 2.1,
                        "count": 2
                      },
                      {
                        "bin_start": 2.1,
                        "bin_end": 2.4,
                        "count": 0
                      },
                      {
                        "bin_start": 2.4,
                        "bin_end": 2.6999999999999997,
                        "count": 0
                      },
                      {
                        "bin_start": 2.6999999999999997,
                        "bin_end": 3,
                        "count": 3
                      }
                    ]
                  }
                },
                {
                  "name": "EDA",
                  "dtype": "int64",
                  "stats": {
                    "unique_count": 2,
                    "nan_count": 0,
                    "min": "2",
                    "max": "3",
                    "histogram": [
                      {
                        "bin_start": 2,
                        "bin_end": 2.1,
                        "count": 9
                      },
                      {
                        "bin_start": 2.1,
                        "bin_end": 2.2,
                        "count": 0
                      },
                      {
                        "bin_start": 2.2,
                        "bin_end": 2.3,
                        "count": 0
                      },
                      {
                        "bin_start": 2.3,
                        "bin_end": 2.4,
                        "count": 0
                      },
                      {
                        "bin_start": 2.4,
                        "bin_end": 2.5,
                        "count": 0
                      },
                      {
                        "bin_start": 2.5,
                        "bin_end": 2.6,
                        "count": 0
                      },
                      {
                        "bin_start": 2.6,
                        "bin_end": 2.7,
                        "count": 0
                      },
                      {
                        "bin_start": 2.7,
                        "bin_end": 2.8,
                        "count": 0
                      },
                      {
                        "bin_start": 2.8,
                        "bin_end": 2.9,
                        "count": 0
                      },
                      {
                        "bin_start": 2.9,
                        "bin_end": 3,
                        "count": 3
                      }
                    ]
                  }
                },
                {
                  "name": "Data Visualization",
                  "dtype": "int64",
                  "stats": {
                    "unique_count": 2,
                    "nan_count": 0,
                    "min": "0",
                    "max": "2",
                    "histogram": [
                      {
                        "bin_start": 0,
                        "bin_end": 0.2,
                        "count": 2
                      },
                      {
                        "bin_start": 0.2,
                        "bin_end": 0.4,
                        "count": 0
                      },
                      {
                        "bin_start": 0.4,
                        "bin_end": 0.6000000000000001,
                        "count": 0
                      },
                      {
                        "bin_start": 0.6000000000000001,
                        "bin_end": 0.8,
                        "count": 0
                      },
                      {
                        "bin_start": 0.8,
                        "bin_end": 1,
                        "count": 0
                      },
                      {
                        "bin_start": 1,
                        "bin_end": 1.2000000000000002,
                        "count": 0
                      },
                      {
                        "bin_start": 1.2000000000000002,
                        "bin_end": 1.4000000000000001,
                        "count": 0
                      },
                      {
                        "bin_start": 1.4000000000000001,
                        "bin_end": 1.6,
                        "count": 0
                      },
                      {
                        "bin_start": 1.6,
                        "bin_end": 1.8,
                        "count": 0
                      },
                      {
                        "bin_start": 1.8,
                        "bin_end": 2,
                        "count": 10
                      }
                    ]
                  }
                },
                {
                  "name": "Geospatial Data Analysis",
                  "dtype": "int64",
                  "stats": {
                    "unique_count": 2,
                    "nan_count": 0,
                    "min": "0",
                    "max": "2",
                    "histogram": [
                      {
                        "bin_start": 0,
                        "bin_end": 0.2,
                        "count": 10
                      },
                      {
                        "bin_start": 0.2,
                        "bin_end": 0.4,
                        "count": 0
                      },
                      {
                        "bin_start": 0.4,
                        "bin_end": 0.6000000000000001,
                        "count": 0
                      },
                      {
                        "bin_start": 0.6000000000000001,
                        "bin_end": 0.8,
                        "count": 0
                      },
                      {
                        "bin_start": 0.8,
                        "bin_end": 1,
                        "count": 0
                      },
                      {
                        "bin_start": 1,
                        "bin_end": 1.2000000000000002,
                        "count": 0
                      },
                      {
                        "bin_start": 1.2000000000000002,
                        "bin_end": 1.4000000000000001,
                        "count": 0
                      },
                      {
                        "bin_start": 1.4000000000000001,
                        "bin_end": 1.6,
                        "count": 0
                      },
                      {
                        "bin_start": 1.6,
                        "bin_end": 1.8,
                        "count": 0
                      },
                      {
                        "bin_start": 1.8,
                        "bin_end": 2,
                        "count": 2
                      }
                    ]
                  }
                },
                {
                  "name": "NLP",
                  "dtype": "int64",
                  "stats": {
                    "unique_count": 2,
                    "nan_count": 0,
                    "min": "0",
                    "max": "2",
                    "histogram": [
                      {
                        "bin_start": 0,
                        "bin_end": 0.2,
                        "count": 10
                      },
                      {
                        "bin_start": 0.2,
                        "bin_end": 0.4,
                        "count": 0
                      },
                      {
                        "bin_start": 0.4,
                        "bin_end": 0.6000000000000001,
                        "count": 0
                      },
                      {
                        "bin_start": 0.6000000000000001,
                        "bin_end": 0.8,
                        "count": 0
                      },
                      {
                        "bin_start": 0.8,
                        "bin_end": 1,
                        "count": 0
                      },
                      {
                        "bin_start": 1,
                        "bin_end": 1.2000000000000002,
                        "count": 0
                      },
                      {
                        "bin_start": 1.2000000000000002,
                        "bin_end": 1.4000000000000001,
                        "count": 0
                      },
                      {
                        "bin_start": 1.4000000000000001,
                        "bin_end": 1.6,
                        "count": 0
                      },
                      {
                        "bin_start": 1.6,
                        "bin_end": 1.8,
                        "count": 0
                      },
                      {
                        "bin_start": 1.8,
                        "bin_end": 2,
                        "count": 2
                      }
                    ]
                  }
                },
                {
                  "name": "Deep Learning",
                  "dtype": "int64",
                  "stats": {
                    "unique_count": 2,
                    "nan_count": 0,
                    "min": "0",
                    "max": "2",
                    "histogram": [
                      {
                        "bin_start": 0,
                        "bin_end": 0.2,
                        "count": 7
                      },
                      {
                        "bin_start": 0.2,
                        "bin_end": 0.4,
                        "count": 0
                      },
                      {
                        "bin_start": 0.4,
                        "bin_end": 0.6000000000000001,
                        "count": 0
                      },
                      {
                        "bin_start": 0.6000000000000001,
                        "bin_end": 0.8,
                        "count": 0
                      },
                      {
                        "bin_start": 0.8,
                        "bin_end": 1,
                        "count": 0
                      },
                      {
                        "bin_start": 1,
                        "bin_end": 1.2000000000000002,
                        "count": 0
                      },
                      {
                        "bin_start": 1.2000000000000002,
                        "bin_end": 1.4000000000000001,
                        "count": 0
                      },
                      {
                        "bin_start": 1.4000000000000001,
                        "bin_end": 1.6,
                        "count": 0
                      },
                      {
                        "bin_start": 1.6,
                        "bin_end": 1.8,
                        "count": 0
                      },
                      {
                        "bin_start": 1.8,
                        "bin_end": 2,
                        "count": 5
                      }
                    ]
                  }
                },
                {
                  "name": "Computer Vision",
                  "dtype": "int64",
                  "stats": {
                    "unique_count": 2,
                    "nan_count": 0,
                    "min": "0",
                    "max": "2",
                    "histogram": [
                      {
                        "bin_start": 0,
                        "bin_end": 0.2,
                        "count": 10
                      },
                      {
                        "bin_start": 0.2,
                        "bin_end": 0.4,
                        "count": 0
                      },
                      {
                        "bin_start": 0.4,
                        "bin_end": 0.6000000000000001,
                        "count": 0
                      },
                      {
                        "bin_start": 0.6000000000000001,
                        "bin_end": 0.8,
                        "count": 0
                      },
                      {
                        "bin_start": 0.8,
                        "bin_end": 1,
                        "count": 0
                      },
                      {
                        "bin_start": 1,
                        "bin_end": 1.2000000000000002,
                        "count": 0
                      },
                      {
                        "bin_start": 1.2000000000000002,
                        "bin_end": 1.4000000000000001,
                        "count": 0
                      },
                      {
                        "bin_start": 1.4000000000000001,
                        "bin_end": 1.6,
                        "count": 0
                      },
                      {
                        "bin_start": 1.6,
                        "bin_end": 1.8,
                        "count": 0
                      },
                      {
                        "bin_start": 1.8,
                        "bin_end": 2,
                        "count": 2
                      }
                    ]
                  }
                },
                {
                  "name": "Cloud Computing",
                  "dtype": "int64",
                  "stats": {
                    "unique_count": 2,
                    "nan_count": 0,
                    "min": "0",
                    "max": "2",
                    "histogram": [
                      {
                        "bin_start": 0,
                        "bin_end": 0.2,
                        "count": 10
                      },
                      {
                        "bin_start": 0.2,
                        "bin_end": 0.4,
                        "count": 0
                      },
                      {
                        "bin_start": 0.4,
                        "bin_end": 0.6000000000000001,
                        "count": 0
                      },
                      {
                        "bin_start": 0.6000000000000001,
                        "bin_end": 0.8,
                        "count": 0
                      },
                      {
                        "bin_start": 0.8,
                        "bin_end": 1,
                        "count": 0
                      },
                      {
                        "bin_start": 1,
                        "bin_end": 1.2000000000000002,
                        "count": 0
                      },
                      {
                        "bin_start": 1.2000000000000002,
                        "bin_end": 1.4000000000000001,
                        "count": 0
                      },
                      {
                        "bin_start": 1.4000000000000001,
                        "bin_end": 1.6,
                        "count": 0
                      },
                      {
                        "bin_start": 1.6,
                        "bin_end": 1.8,
                        "count": 0
                      },
                      {
                        "bin_start": 1.8,
                        "bin_end": 2,
                        "count": 2
                      }
                    ]
                  }
                },
                {
                  "name": "_deepnote_index_column",
                  "dtype": "int64"
                }
              ],
              "rows": [
                {
                  "Python": 2,
                  "R": 0,
                  "SQL": 0,
                  "EDA": 2,
                  "Data Visualization": 0,
                  "Geospatial Data Analysis": 0,
                  "NLP": 0,
                  "Deep Learning": 0,
                  "Computer Vision": 0,
                  "Cloud Computing": 0,
                  "_deepnote_index_column": 118
                },
                {
                  "Python": 2,
                  "R": 0,
                  "SQL": 0,
                  "EDA": 2,
                  "Data Visualization": 0,
                  "Geospatial Data Analysis": 0,
                  "NLP": 0,
                  "Deep Learning": 0,
                  "Computer Vision": 0,
                  "Cloud Computing": 0,
                  "_deepnote_index_column": 119
                },
                {
                  "Python": 2,
                  "R": 0,
                  "SQL": 0,
                  "EDA": 2,
                  "Data Visualization": 2,
                  "Geospatial Data Analysis": 0,
                  "NLP": 0,
                  "Deep Learning": 2,
                  "Computer Vision": 0,
                  "Cloud Computing": 0,
                  "_deepnote_index_column": 4
                },
                {
                  "Python": 2,
                  "R": 0,
                  "SQL": 0,
                  "EDA": 2,
                  "Data Visualization": 2,
                  "Geospatial Data Analysis": 0,
                  "NLP": 0,
                  "Deep Learning": 2,
                  "Computer Vision": 0,
                  "Cloud Computing": 0,
                  "_deepnote_index_column": 7
                },
                {
                  "Python": 2,
                  "R": 0,
                  "SQL": 0,
                  "EDA": 2,
                  "Data Visualization": 2,
                  "Geospatial Data Analysis": 0,
                  "NLP": 0,
                  "Deep Learning": 2,
                  "Computer Vision": 0,
                  "Cloud Computing": 0,
                  "_deepnote_index_column": 110
                },
                {
                  "Python": 2,
                  "R": 2,
                  "SQL": 0,
                  "EDA": 2,
                  "Data Visualization": 2,
                  "Geospatial Data Analysis": 0,
                  "NLP": 0,
                  "Deep Learning": 0,
                  "Computer Vision": 0,
                  "Cloud Computing": 0,
                  "_deepnote_index_column": 86
                },
                {
                  "Python": 2,
                  "R": 2,
                  "SQL": 0,
                  "EDA": 2,
                  "Data Visualization": 2,
                  "Geospatial Data Analysis": 0,
                  "NLP": 0,
                  "Deep Learning": 0,
                  "Computer Vision": 0,
                  "Cloud Computing": 0,
                  "_deepnote_index_column": 111
                },
                {
                  "Python": 2,
                  "R": 2,
                  "SQL": 2,
                  "EDA": 2,
                  "Data Visualization": 2,
                  "Geospatial Data Analysis": 2,
                  "NLP": 2,
                  "Deep Learning": 2,
                  "Computer Vision": 2,
                  "Cloud Computing": 2,
                  "_deepnote_index_column": 76
                },
                {
                  "Python": 2,
                  "R": 2,
                  "SQL": 2,
                  "EDA": 2,
                  "Data Visualization": 2,
                  "Geospatial Data Analysis": 2,
                  "NLP": 2,
                  "Deep Learning": 2,
                  "Computer Vision": 2,
                  "Cloud Computing": 2,
                  "_deepnote_index_column": 104
                },
                {
                  "Python": 2,
                  "R": 2,
                  "SQL": 3,
                  "EDA": 3,
                  "Data Visualization": 2,
                  "Geospatial Data Analysis": 0,
                  "NLP": 0,
                  "Deep Learning": 0,
                  "Computer Vision": 0,
                  "Cloud Computing": 0,
                  "_deepnote_index_column": 94
                }
              ]
            },
            "text/plain": "     Python  R  SQL  EDA  Data Visualization  Geospatial Data Analysis  NLP  \\\n118       2  0    0    2                   0                         0    0   \n119       2  0    0    2                   0                         0    0   \n4         2  0    0    2                   2                         0    0   \n7         2  0    0    2                   2                         0    0   \n110       2  0    0    2                   2                         0    0   \n86        2  2    0    2                   2                         0    0   \n111       2  2    0    2                   2                         0    0   \n76        2  2    2    2                   2                         2    2   \n104       2  2    2    2                   2                         2    2   \n94        2  2    3    3                   2                         0    0   \n95        2  2    3    3                   2                         0    0   \n96        2  2    3    3                   2                         0    0   \n\n     Deep Learning  Computer Vision  Cloud Computing  \n118              0                0                0  \n119              0                0                0  \n4                2                0                0  \n7                2                0                0  \n110              2                0                0  \n86               0                0                0  \n111              0                0                0  \n76               2                2                2  \n104              2                2                2  \n94               0                0                0  \n95               0                0                0  \n96               0                0                0  ",
            "text/html": "<div>\n<style scoped>\n    .dataframe tbody tr th:only-of-type {\n        vertical-align: middle;\n    }\n\n    .dataframe tbody tr th {\n        vertical-align: top;\n    }\n\n    .dataframe thead th {\n        text-align: right;\n    }\n</style>\n<table border=\"1\" class=\"dataframe\">\n  <thead>\n    <tr style=\"text-align: right;\">\n      <th></th>\n      <th>Python</th>\n      <th>R</th>\n      <th>SQL</th>\n      <th>EDA</th>\n      <th>Data Visualization</th>\n      <th>Geospatial Data Analysis</th>\n      <th>NLP</th>\n      <th>Deep Learning</th>\n      <th>Computer Vision</th>\n      <th>Cloud Computing</th>\n    </tr>\n  </thead>\n  <tbody>\n    <tr>\n      <th>118</th>\n      <td>2</td>\n      <td>0</td>\n      <td>0</td>\n      <td>2</td>\n      <td>0</td>\n      <td>0</td>\n      <td>0</td>\n      <td>0</td>\n      <td>0</td>\n      <td>0</td>\n    </tr>\n    <tr>\n      <th>119</th>\n      <td>2</td>\n      <td>0</td>\n      <td>0</td>\n      <td>2</td>\n      <td>0</td>\n      <td>0</td>\n      <td>0</td>\n      <td>0</td>\n      <td>0</td>\n      <td>0</td>\n    </tr>\n    <tr>\n      <th>4</th>\n      <td>2</td>\n      <td>0</td>\n      <td>0</td>\n      <td>2</td>\n      <td>2</td>\n      <td>0</td>\n      <td>0</td>\n      <td>2</td>\n      <td>0</td>\n      <td>0</td>\n    </tr>\n    <tr>\n      <th>7</th>\n      <td>2</td>\n      <td>0</td>\n      <td>0</td>\n      <td>2</td>\n      <td>2</td>\n      <td>0</td>\n      <td>0</td>\n      <td>2</td>\n      <td>0</td>\n      <td>0</td>\n    </tr>\n    <tr>\n      <th>110</th>\n      <td>2</td>\n      <td>0</td>\n      <td>0</td>\n      <td>2</td>\n      <td>2</td>\n      <td>0</td>\n      <td>0</td>\n      <td>2</td>\n      <td>0</td>\n      <td>0</td>\n    </tr>\n    <tr>\n      <th>86</th>\n      <td>2</td>\n      <td>2</td>\n      <td>0</td>\n      <td>2</td>\n      <td>2</td>\n      <td>0</td>\n      <td>0</td>\n      <td>0</td>\n      <td>0</td>\n      <td>0</td>\n    </tr>\n    <tr>\n      <th>111</th>\n      <td>2</td>\n      <td>2</td>\n      <td>0</td>\n      <td>2</td>\n      <td>2</td>\n      <td>0</td>\n      <td>0</td>\n      <td>0</td>\n      <td>0</td>\n      <td>0</td>\n    </tr>\n    <tr>\n      <th>76</th>\n      <td>2</td>\n      <td>2</td>\n      <td>2</td>\n      <td>2</td>\n      <td>2</td>\n      <td>2</td>\n      <td>2</td>\n      <td>2</td>\n      <td>2</td>\n      <td>2</td>\n    </tr>\n    <tr>\n      <th>104</th>\n      <td>2</td>\n      <td>2</td>\n      <td>2</td>\n      <td>2</td>\n      <td>2</td>\n      <td>2</td>\n      <td>2</td>\n      <td>2</td>\n      <td>2</td>\n      <td>2</td>\n    </tr>\n    <tr>\n      <th>94</th>\n      <td>2</td>\n      <td>2</td>\n      <td>3</td>\n      <td>3</td>\n      <td>2</td>\n      <td>0</td>\n      <td>0</td>\n      <td>0</td>\n      <td>0</td>\n      <td>0</td>\n    </tr>\n    <tr>\n      <th>95</th>\n      <td>2</td>\n      <td>2</td>\n      <td>3</td>\n      <td>3</td>\n      <td>2</td>\n      <td>0</td>\n      <td>0</td>\n      <td>0</td>\n      <td>0</td>\n      <td>0</td>\n    </tr>\n    <tr>\n      <th>96</th>\n      <td>2</td>\n      <td>2</td>\n      <td>3</td>\n      <td>3</td>\n      <td>2</td>\n      <td>0</td>\n      <td>0</td>\n      <td>0</td>\n      <td>0</td>\n      <td>0</td>\n    </tr>\n  </tbody>\n</table>\n</div>"
          },
          "metadata": {}
        }
      ]
    },
    {
      "cell_type": "code",
      "metadata": {
        "source_hash": "db5ba807",
        "execution_start": 1726856137847,
        "execution_millis": 34,
        "execution_context_id": "c078ca54-8cfa-4172-9d38-bf0242bd3596",
        "deepnote_to_be_reexecuted": false,
        "cell_id": "704d20cdb4064e4c8aabb3a486b36a17",
        "deepnote_cell_type": "code",
        "id": "33UjkxjrMTkD",
        "outputId": "bcfaba10-f79f-4572-c9b8-22e625a25f6e"
      },
      "source": [
        "duplicate_counts = X[X.duplicated(keep=False)].groupby(X.columns.tolist()).size().reset_index(name='Count')\n",
        "duplicate_counts"
      ],
      "execution_count": null,
      "outputs": [
        {
          "output_type": "execute_result",
          "execution_count": 32,
          "data": {
            "application/vnd.deepnote.dataframe.v3+json": {
              "column_count": 11,
              "row_count": 5,
              "columns": [
                {
                  "name": "Python",
                  "dtype": "int64",
                  "stats": {
                    "unique_count": 1,
                    "nan_count": 0,
                    "min": "2",
                    "max": "2",
                    "histogram": [
                      {
                        "bin_start": 1.5,
                        "bin_end": 1.6,
                        "count": 0
                      },
                      {
                        "bin_start": 1.6,
                        "bin_end": 1.7,
                        "count": 0
                      },
                      {
                        "bin_start": 1.7,
                        "bin_end": 1.8,
                        "count": 0
                      },
                      {
                        "bin_start": 1.8,
                        "bin_end": 1.9,
                        "count": 0
                      },
                      {
                        "bin_start": 1.9,
                        "bin_end": 2,
                        "count": 0
                      },
                      {
                        "bin_start": 2,
                        "bin_end": 2.1,
                        "count": 5
                      },
                      {
                        "bin_start": 2.1,
                        "bin_end": 2.2,
                        "count": 0
                      },
                      {
                        "bin_start": 2.2,
                        "bin_end": 2.3,
                        "count": 0
                      },
                      {
                        "bin_start": 2.3,
                        "bin_end": 2.4,
                        "count": 0
                      },
                      {
                        "bin_start": 2.4,
                        "bin_end": 2.5,
                        "count": 0
                      }
                    ]
                  }
                },
                {
                  "name": "R",
                  "dtype": "int64",
                  "stats": {
                    "unique_count": 2,
                    "nan_count": 0,
                    "min": "0",
                    "max": "2",
                    "histogram": [
                      {
                        "bin_start": 0,
                        "bin_end": 0.2,
                        "count": 2
                      },
                      {
                        "bin_start": 0.2,
                        "bin_end": 0.4,
                        "count": 0
                      },
                      {
                        "bin_start": 0.4,
                        "bin_end": 0.6000000000000001,
                        "count": 0
                      },
                      {
                        "bin_start": 0.6000000000000001,
                        "bin_end": 0.8,
                        "count": 0
                      },
                      {
                        "bin_start": 0.8,
                        "bin_end": 1,
                        "count": 0
                      },
                      {
                        "bin_start": 1,
                        "bin_end": 1.2000000000000002,
                        "count": 0
                      },
                      {
                        "bin_start": 1.2000000000000002,
                        "bin_end": 1.4000000000000001,
                        "count": 0
                      },
                      {
                        "bin_start": 1.4000000000000001,
                        "bin_end": 1.6,
                        "count": 0
                      },
                      {
                        "bin_start": 1.6,
                        "bin_end": 1.8,
                        "count": 0
                      },
                      {
                        "bin_start": 1.8,
                        "bin_end": 2,
                        "count": 3
                      }
                    ]
                  }
                },
                {
                  "name": "SQL",
                  "dtype": "int64",
                  "stats": {
                    "unique_count": 3,
                    "nan_count": 0,
                    "min": "0",
                    "max": "3",
                    "histogram": [
                      {
                        "bin_start": 0,
                        "bin_end": 0.3,
                        "count": 3
                      },
                      {
                        "bin_start": 0.3,
                        "bin_end": 0.6,
                        "count": 0
                      },
                      {
                        "bin_start": 0.6,
                        "bin_end": 0.8999999999999999,
                        "count": 0
                      },
                      {
                        "bin_start": 0.8999999999999999,
                        "bin_end": 1.2,
                        "count": 0
                      },
                      {
                        "bin_start": 1.2,
                        "bin_end": 1.5,
                        "count": 0
                      },
                      {
                        "bin_start": 1.5,
                        "bin_end": 1.7999999999999998,
                        "count": 0
                      },
                      {
                        "bin_start": 1.7999999999999998,
                        "bin_end": 2.1,
                        "count": 1
                      },
                      {
                        "bin_start": 2.1,
                        "bin_end": 2.4,
                        "count": 0
                      },
                      {
                        "bin_start": 2.4,
                        "bin_end": 2.6999999999999997,
                        "count": 0
                      },
                      {
                        "bin_start": 2.6999999999999997,
                        "bin_end": 3,
                        "count": 1
                      }
                    ]
                  }
                },
                {
                  "name": "EDA",
                  "dtype": "int64",
                  "stats": {
                    "unique_count": 2,
                    "nan_count": 0,
                    "min": "2",
                    "max": "3",
                    "histogram": [
                      {
                        "bin_start": 2,
                        "bin_end": 2.1,
                        "count": 4
                      },
                      {
                        "bin_start": 2.1,
                        "bin_end": 2.2,
                        "count": 0
                      },
                      {
                        "bin_start": 2.2,
                        "bin_end": 2.3,
                        "count": 0
                      },
                      {
                        "bin_start": 2.3,
                        "bin_end": 2.4,
                        "count": 0
                      },
                      {
                        "bin_start": 2.4,
                        "bin_end": 2.5,
                        "count": 0
                      },
                      {
                        "bin_start": 2.5,
                        "bin_end": 2.6,
                        "count": 0
                      },
                      {
                        "bin_start": 2.6,
                        "bin_end": 2.7,
                        "count": 0
                      },
                      {
                        "bin_start": 2.7,
                        "bin_end": 2.8,
                        "count": 0
                      },
                      {
                        "bin_start": 2.8,
                        "bin_end": 2.9,
                        "count": 0
                      },
                      {
                        "bin_start": 2.9,
                        "bin_end": 3,
                        "count": 1
                      }
                    ]
                  }
                },
                {
                  "name": "Data Visualization",
                  "dtype": "int64",
                  "stats": {
                    "unique_count": 2,
                    "nan_count": 0,
                    "min": "0",
                    "max": "2",
                    "histogram": [
                      {
                        "bin_start": 0,
                        "bin_end": 0.2,
                        "count": 1
                      },
                      {
                        "bin_start": 0.2,
                        "bin_end": 0.4,
                        "count": 0
                      },
                      {
                        "bin_start": 0.4,
                        "bin_end": 0.6000000000000001,
                        "count": 0
                      },
                      {
                        "bin_start": 0.6000000000000001,
                        "bin_end": 0.8,
                        "count": 0
                      },
                      {
                        "bin_start": 0.8,
                        "bin_end": 1,
                        "count": 0
                      },
                      {
                        "bin_start": 1,
                        "bin_end": 1.2000000000000002,
                        "count": 0
                      },
                      {
                        "bin_start": 1.2000000000000002,
                        "bin_end": 1.4000000000000001,
                        "count": 0
                      },
                      {
                        "bin_start": 1.4000000000000001,
                        "bin_end": 1.6,
                        "count": 0
                      },
                      {
                        "bin_start": 1.6,
                        "bin_end": 1.8,
                        "count": 0
                      },
                      {
                        "bin_start": 1.8,
                        "bin_end": 2,
                        "count": 4
                      }
                    ]
                  }
                },
                {
                  "name": "Geospatial Data Analysis",
                  "dtype": "int64",
                  "stats": {
                    "unique_count": 2,
                    "nan_count": 0,
                    "min": "0",
                    "max": "2",
                    "histogram": [
                      {
                        "bin_start": 0,
                        "bin_end": 0.2,
                        "count": 4
                      },
                      {
                        "bin_start": 0.2,
                        "bin_end": 0.4,
                        "count": 0
                      },
                      {
                        "bin_start": 0.4,
                        "bin_end": 0.6000000000000001,
                        "count": 0
                      },
                      {
                        "bin_start": 0.6000000000000001,
                        "bin_end": 0.8,
                        "count": 0
                      },
                      {
                        "bin_start": 0.8,
                        "bin_end": 1,
                        "count": 0
                      },
                      {
                        "bin_start": 1,
                        "bin_end": 1.2000000000000002,
                        "count": 0
                      },
                      {
                        "bin_start": 1.2000000000000002,
                        "bin_end": 1.4000000000000001,
                        "count": 0
                      },
                      {
                        "bin_start": 1.4000000000000001,
                        "bin_end": 1.6,
                        "count": 0
                      },
                      {
                        "bin_start": 1.6,
                        "bin_end": 1.8,
                        "count": 0
                      },
                      {
                        "bin_start": 1.8,
                        "bin_end": 2,
                        "count": 1
                      }
                    ]
                  }
                },
                {
                  "name": "NLP",
                  "dtype": "int64",
                  "stats": {
                    "unique_count": 2,
                    "nan_count": 0,
                    "min": "0",
                    "max": "2",
                    "histogram": [
                      {
                        "bin_start": 0,
                        "bin_end": 0.2,
                        "count": 4
                      },
                      {
                        "bin_start": 0.2,
                        "bin_end": 0.4,
                        "count": 0
                      },
                      {
                        "bin_start": 0.4,
                        "bin_end": 0.6000000000000001,
                        "count": 0
                      },
                      {
                        "bin_start": 0.6000000000000001,
                        "bin_end": 0.8,
                        "count": 0
                      },
                      {
                        "bin_start": 0.8,
                        "bin_end": 1,
                        "count": 0
                      },
                      {
                        "bin_start": 1,
                        "bin_end": 1.2000000000000002,
                        "count": 0
                      },
                      {
                        "bin_start": 1.2000000000000002,
                        "bin_end": 1.4000000000000001,
                        "count": 0
                      },
                      {
                        "bin_start": 1.4000000000000001,
                        "bin_end": 1.6,
                        "count": 0
                      },
                      {
                        "bin_start": 1.6,
                        "bin_end": 1.8,
                        "count": 0
                      },
                      {
                        "bin_start": 1.8,
                        "bin_end": 2,
                        "count": 1
                      }
                    ]
                  }
                },
                {
                  "name": "Deep Learning",
                  "dtype": "int64",
                  "stats": {
                    "unique_count": 2,
                    "nan_count": 0,
                    "min": "0",
                    "max": "2",
                    "histogram": [
                      {
                        "bin_start": 0,
                        "bin_end": 0.2,
                        "count": 3
                      },
                      {
                        "bin_start": 0.2,
                        "bin_end": 0.4,
                        "count": 0
                      },
                      {
                        "bin_start": 0.4,
                        "bin_end": 0.6000000000000001,
                        "count": 0
                      },
                      {
                        "bin_start": 0.6000000000000001,
                        "bin_end": 0.8,
                        "count": 0
                      },
                      {
                        "bin_start": 0.8,
                        "bin_end": 1,
                        "count": 0
                      },
                      {
                        "bin_start": 1,
                        "bin_end": 1.2000000000000002,
                        "count": 0
                      },
                      {
                        "bin_start": 1.2000000000000002,
                        "bin_end": 1.4000000000000001,
                        "count": 0
                      },
                      {
                        "bin_start": 1.4000000000000001,
                        "bin_end": 1.6,
                        "count": 0
                      },
                      {
                        "bin_start": 1.6,
                        "bin_end": 1.8,
                        "count": 0
                      },
                      {
                        "bin_start": 1.8,
                        "bin_end": 2,
                        "count": 2
                      }
                    ]
                  }
                },
                {
                  "name": "Computer Vision",
                  "dtype": "int64",
                  "stats": {
                    "unique_count": 2,
                    "nan_count": 0,
                    "min": "0",
                    "max": "2",
                    "histogram": [
                      {
                        "bin_start": 0,
                        "bin_end": 0.2,
                        "count": 4
                      },
                      {
                        "bin_start": 0.2,
                        "bin_end": 0.4,
                        "count": 0
                      },
                      {
                        "bin_start": 0.4,
                        "bin_end": 0.6000000000000001,
                        "count": 0
                      },
                      {
                        "bin_start": 0.6000000000000001,
                        "bin_end": 0.8,
                        "count": 0
                      },
                      {
                        "bin_start": 0.8,
                        "bin_end": 1,
                        "count": 0
                      },
                      {
                        "bin_start": 1,
                        "bin_end": 1.2000000000000002,
                        "count": 0
                      },
                      {
                        "bin_start": 1.2000000000000002,
                        "bin_end": 1.4000000000000001,
                        "count": 0
                      },
                      {
                        "bin_start": 1.4000000000000001,
                        "bin_end": 1.6,
                        "count": 0
                      },
                      {
                        "bin_start": 1.6,
                        "bin_end": 1.8,
                        "count": 0
                      },
                      {
                        "bin_start": 1.8,
                        "bin_end": 2,
                        "count": 1
                      }
                    ]
                  }
                },
                {
                  "name": "Cloud Computing",
                  "dtype": "int64",
                  "stats": {
                    "unique_count": 2,
                    "nan_count": 0,
                    "min": "0",
                    "max": "2",
                    "histogram": [
                      {
                        "bin_start": 0,
                        "bin_end": 0.2,
                        "count": 4
                      },
                      {
                        "bin_start": 0.2,
                        "bin_end": 0.4,
                        "count": 0
                      },
                      {
                        "bin_start": 0.4,
                        "bin_end": 0.6000000000000001,
                        "count": 0
                      },
                      {
                        "bin_start": 0.6000000000000001,
                        "bin_end": 0.8,
                        "count": 0
                      },
                      {
                        "bin_start": 0.8,
                        "bin_end": 1,
                        "count": 0
                      },
                      {
                        "bin_start": 1,
                        "bin_end": 1.2000000000000002,
                        "count": 0
                      },
                      {
                        "bin_start": 1.2000000000000002,
                        "bin_end": 1.4000000000000001,
                        "count": 0
                      },
                      {
                        "bin_start": 1.4000000000000001,
                        "bin_end": 1.6,
                        "count": 0
                      },
                      {
                        "bin_start": 1.6,
                        "bin_end": 1.8,
                        "count": 0
                      },
                      {
                        "bin_start": 1.8,
                        "bin_end": 2,
                        "count": 1
                      }
                    ]
                  }
                },
                {
                  "name": "Count",
                  "dtype": "int64",
                  "stats": {
                    "unique_count": 2,
                    "nan_count": 0,
                    "min": "2",
                    "max": "3",
                    "histogram": [
                      {
                        "bin_start": 2,
                        "bin_end": 2.1,
                        "count": 3
                      },
                      {
                        "bin_start": 2.1,
                        "bin_end": 2.2,
                        "count": 0
                      },
                      {
                        "bin_start": 2.2,
                        "bin_end": 2.3,
                        "count": 0
                      },
                      {
                        "bin_start": 2.3,
                        "bin_end": 2.4,
                        "count": 0
                      },
                      {
                        "bin_start": 2.4,
                        "bin_end": 2.5,
                        "count": 0
                      },
                      {
                        "bin_start": 2.5,
                        "bin_end": 2.6,
                        "count": 0
                      },
                      {
                        "bin_start": 2.6,
                        "bin_end": 2.7,
                        "count": 0
                      },
                      {
                        "bin_start": 2.7,
                        "bin_end": 2.8,
                        "count": 0
                      },
                      {
                        "bin_start": 2.8,
                        "bin_end": 2.9,
                        "count": 0
                      },
                      {
                        "bin_start": 2.9,
                        "bin_end": 3,
                        "count": 2
                      }
                    ]
                  }
                },
                {
                  "name": "_deepnote_index_column",
                  "dtype": "int64"
                }
              ],
              "rows": [
                {
                  "Python": 2,
                  "R": 0,
                  "SQL": 0,
                  "EDA": 2,
                  "Data Visualization": 0,
                  "Geospatial Data Analysis": 0,
                  "NLP": 0,
                  "Deep Learning": 0,
                  "Computer Vision": 0,
                  "Cloud Computing": 0,
                  "Count": 2,
                  "_deepnote_index_column": 0
                },
                {
                  "Python": 2,
                  "R": 0,
                  "SQL": 0,
                  "EDA": 2,
                  "Data Visualization": 2,
                  "Geospatial Data Analysis": 0,
                  "NLP": 0,
                  "Deep Learning": 2,
                  "Computer Vision": 0,
                  "Cloud Computing": 0,
                  "Count": 3,
                  "_deepnote_index_column": 1
                },
                {
                  "Python": 2,
                  "R": 2,
                  "SQL": 0,
                  "EDA": 2,
                  "Data Visualization": 2,
                  "Geospatial Data Analysis": 0,
                  "NLP": 0,
                  "Deep Learning": 0,
                  "Computer Vision": 0,
                  "Cloud Computing": 0,
                  "Count": 2,
                  "_deepnote_index_column": 2
                },
                {
                  "Python": 2,
                  "R": 2,
                  "SQL": 2,
                  "EDA": 2,
                  "Data Visualization": 2,
                  "Geospatial Data Analysis": 2,
                  "NLP": 2,
                  "Deep Learning": 2,
                  "Computer Vision": 2,
                  "Cloud Computing": 2,
                  "Count": 2,
                  "_deepnote_index_column": 3
                },
                {
                  "Python": 2,
                  "R": 2,
                  "SQL": 3,
                  "EDA": 3,
                  "Data Visualization": 2,
                  "Geospatial Data Analysis": 0,
                  "NLP": 0,
                  "Deep Learning": 0,
                  "Computer Vision": 0,
                  "Cloud Computing": 0,
                  "Count": 3,
                  "_deepnote_index_column": 4
                }
              ]
            },
            "text/plain": "   Python  R  SQL  EDA  Data Visualization  Geospatial Data Analysis  NLP  \\\n0       2  0    0    2                   0                         0    0   \n1       2  0    0    2                   2                         0    0   \n2       2  2    0    2                   2                         0    0   \n3       2  2    2    2                   2                         2    2   \n4       2  2    3    3                   2                         0    0   \n\n   Deep Learning  Computer Vision  Cloud Computing  Count  \n0              0                0                0      2  \n1              2                0                0      3  \n2              0                0                0      2  \n3              2                2                2      2  \n4              0                0                0      3  ",
            "text/html": "<div>\n<style scoped>\n    .dataframe tbody tr th:only-of-type {\n        vertical-align: middle;\n    }\n\n    .dataframe tbody tr th {\n        vertical-align: top;\n    }\n\n    .dataframe thead th {\n        text-align: right;\n    }\n</style>\n<table border=\"1\" class=\"dataframe\">\n  <thead>\n    <tr style=\"text-align: right;\">\n      <th></th>\n      <th>Python</th>\n      <th>R</th>\n      <th>SQL</th>\n      <th>EDA</th>\n      <th>Data Visualization</th>\n      <th>Geospatial Data Analysis</th>\n      <th>NLP</th>\n      <th>Deep Learning</th>\n      <th>Computer Vision</th>\n      <th>Cloud Computing</th>\n      <th>Count</th>\n    </tr>\n  </thead>\n  <tbody>\n    <tr>\n      <th>0</th>\n      <td>2</td>\n      <td>0</td>\n      <td>0</td>\n      <td>2</td>\n      <td>0</td>\n      <td>0</td>\n      <td>0</td>\n      <td>0</td>\n      <td>0</td>\n      <td>0</td>\n      <td>2</td>\n    </tr>\n    <tr>\n      <th>1</th>\n      <td>2</td>\n      <td>0</td>\n      <td>0</td>\n      <td>2</td>\n      <td>2</td>\n      <td>0</td>\n      <td>0</td>\n      <td>2</td>\n      <td>0</td>\n      <td>0</td>\n      <td>3</td>\n    </tr>\n    <tr>\n      <th>2</th>\n      <td>2</td>\n      <td>2</td>\n      <td>0</td>\n      <td>2</td>\n      <td>2</td>\n      <td>0</td>\n      <td>0</td>\n      <td>0</td>\n      <td>0</td>\n      <td>0</td>\n      <td>2</td>\n    </tr>\n    <tr>\n      <th>3</th>\n      <td>2</td>\n      <td>2</td>\n      <td>2</td>\n      <td>2</td>\n      <td>2</td>\n      <td>2</td>\n      <td>2</td>\n      <td>2</td>\n      <td>2</td>\n      <td>2</td>\n      <td>2</td>\n    </tr>\n    <tr>\n      <th>4</th>\n      <td>2</td>\n      <td>2</td>\n      <td>3</td>\n      <td>3</td>\n      <td>2</td>\n      <td>0</td>\n      <td>0</td>\n      <td>0</td>\n      <td>0</td>\n      <td>0</td>\n      <td>3</td>\n    </tr>\n  </tbody>\n</table>\n</div>"
          },
          "metadata": {}
        }
      ]
    },
    {
      "cell_type": "markdown",
      "source": [
        "<a style='text-decoration:none;line-height:16px;display:flex;color:#5B5B62;padding:10px;justify-content:end;' href='https://deepnote.com?utm_source=created-in-deepnote-cell&projectId=ac95e036-ae63-46b9-9e0e-47f956a4c149' target=\"_blank\">\n",
        "<img alt='Created in deepnote.com' style='display:inline;max-height:16px;margin:0px;margin-right:7.5px;' src='data:image/svg+xml;base64,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' > </img>\n",
        "Created in <span style='font-weight:600;margin-left:4px;'>Deepnote</span></a>"
      ],
      "metadata": {
        "created_in_deepnote_cell": true,
        "deepnote_cell_type": "markdown",
        "id": "jx_a37IqMTkD"
      }
    }
  ],
  "nbformat": 4,
  "nbformat_minor": 0,
  "metadata": {
    "deepnote_notebook_id": "5c637d91da664b56965f867afc5a4733",
    "deepnote_execution_queue": [],
    "colab": {
      "provenance": []
    }
  }
}